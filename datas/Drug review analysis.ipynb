{
 "cells": [
  {
   "cell_type": "code",
   "execution_count": 160,
   "metadata": {
    "collapsed": true
   },
   "outputs": [],
   "source": [
    "import pandas as pd\n",
    "import numpy as np\n",
    "from matplotlib import pyplot as plt\n",
    "from scipy import stats\n",
    "%matplotlib inline"
   ]
  },
  {
   "cell_type": "markdown",
   "metadata": {},
   "source": [
    "Opening csv's and reading them into DF's"
   ]
  },
  {
   "cell_type": "code",
   "execution_count": 2,
   "metadata": {
    "collapsed": true
   },
   "outputs": [],
   "source": [
    "cymbalta = pd.read_csv('clean_cymbalta.csv')"
   ]
  },
  {
   "cell_type": "code",
   "execution_count": 3,
   "metadata": {
    "collapsed": true
   },
   "outputs": [],
   "source": [
    "effexor = pd.read_csv('clean_effexor.csv')"
   ]
  },
  {
   "cell_type": "code",
   "execution_count": 4,
   "metadata": {
    "collapsed": true
   },
   "outputs": [],
   "source": [
    "pristiq = pd.read_csv('clean_pristiq.csv')"
   ]
  },
  {
   "cell_type": "code",
   "execution_count": 5,
   "metadata": {
    "collapsed": true
   },
   "outputs": [],
   "source": [
    "#l3t's put them into on large df called Drugs\n",
    "\n",
    "drugs = [cymbalta, effexor, pristiq]\n",
    "\n",
    "cymbalta['drug'] = 'Cymbalta'\n",
    "effexor['drug'] = \"Effexor\"\n",
    "pristiq['drug'] = 'Pristiq'"
   ]
  },
  {
   "cell_type": "code",
   "execution_count": 6,
   "metadata": {
    "collapsed": true
   },
   "outputs": [],
   "source": [
    "Drugs = pd.concat([cymbalta, effexor, pristiq])"
   ]
  },
  {
   "cell_type": "code",
   "execution_count": 7,
   "metadata": {},
   "outputs": [
    {
     "data": {
      "text/plain": [
       "(8303, 13)"
      ]
     },
     "execution_count": 7,
     "metadata": {},
     "output_type": "execute_result"
    }
   ],
   "source": [
    "Drugs.shape"
   ]
  },
  {
   "cell_type": "code",
   "execution_count": 8,
   "metadata": {},
   "outputs": [
    {
     "data": {
      "text/plain": [
       "{'Cymbalta', 'Effexor', 'Pristiq'}"
      ]
     },
     "execution_count": 8,
     "metadata": {},
     "output_type": "execute_result"
    }
   ],
   "source": [
    "set(Drugs['drug'])"
   ]
  },
  {
   "cell_type": "code",
   "execution_count": 9,
   "metadata": {},
   "outputs": [
    {
     "data": {
      "text/plain": [
       "Index(['Date_time', 'condition', 'age', 'sex', 'Treat_time', 'ease',\n",
       "       'effective', 'satisfaction', 'comment', 'year', 'month', 'time_mark',\n",
       "       'drug'],\n",
       "      dtype='object')"
      ]
     },
     "execution_count": 9,
     "metadata": {},
     "output_type": "execute_result"
    }
   ],
   "source": [
    "cymbalta.columns"
   ]
  },
  {
   "cell_type": "code",
   "execution_count": 10,
   "metadata": {
    "collapsed": true
   },
   "outputs": [],
   "source": [
    "treatorder = [' less than 1 month', ' 1 to 6 months', '6 months to less than 1 year', '1 to less than 2 years', '2 to less than 5 years', '5 to less than 10 years', ' 10 years or more ']\n"
   ]
  },
  {
   "cell_type": "code",
   "execution_count": 11,
   "metadata": {},
   "outputs": [
    {
     "data": {
      "text/plain": [
       "<matplotlib.axes._subplots.AxesSubplot at 0x264dcc91a90>"
      ]
     },
     "execution_count": 11,
     "metadata": {},
     "output_type": "execute_result"
    },
    {
     "data": {
      "image/png": "[encoded data removed]",
      "text/plain": [
       "<matplotlib.figure.Figure at 0x264dcc915c0>"
      ]
     },
     "metadata": {},
     "output_type": "display_data"
    }
   ],
   "source": [
    "#This is kinda useless\n",
    "cymbalta.plot(kind = 'scatter', x = 'time_mark', y = 'satisfaction')"
   ]
  },
  {
   "cell_type": "code",
   "execution_count": 12,
   "metadata": {
    "collapsed": true
   },
   "outputs": [],
   "source": [
    "#let's do some grouping\n",
    "\n",
    "Cyeargroup= cymbalta.groupby('year').agg({'satisfaction':'mean', 'ease': 'mean', 'effective':'mean'} )"
   ]
  },
  {
   "cell_type": "code",
   "execution_count": 13,
   "metadata": {},
   "outputs": [
    {
     "data": {
      "text/html": [
       "<div>\n",
       "<style>\n",
       "    .dataframe thead tr:only-child th {\n",
       "        text-align: right;\n",
       "    }\n",
       "\n",
       "    .dataframe thead th {\n",
       "        text-align: left;\n",
       "    }\n",
       "\n",
       "    .dataframe tbody tr th {\n",
       "        vertical-align: top;\n",
       "    }\n",
       "</style>\n",
       "<table border=\"1\" class=\"dataframe\">\n",
       "  <thead>\n",
       "    <tr style=\"text-align: right;\">\n",
       "      <th></th>\n",
       "      <th>satisfaction</th>\n",
       "      <th>ease</th>\n",
       "      <th>effective</th>\n",
       "    </tr>\n",
       "    <tr>\n",
       "      <th>year</th>\n",
       "      <th></th>\n",
       "      <th></th>\n",
       "      <th></th>\n",
       "    </tr>\n",
       "  </thead>\n",
       "  <tbody>\n",
       "    <tr>\n",
       "      <th>2007</th>\n",
       "      <td>3.582133</td>\n",
       "      <td>4.342939</td>\n",
       "      <td>3.806916</td>\n",
       "    </tr>\n",
       "    <tr>\n",
       "      <th>2008</th>\n",
       "      <td>2.888745</td>\n",
       "      <td>3.949547</td>\n",
       "      <td>3.278137</td>\n",
       "    </tr>\n",
       "    <tr>\n",
       "      <th>2009</th>\n",
       "      <td>2.936596</td>\n",
       "      <td>4.134594</td>\n",
       "      <td>3.285873</td>\n",
       "    </tr>\n",
       "    <tr>\n",
       "      <th>2010</th>\n",
       "      <td>2.931099</td>\n",
       "      <td>4.046555</td>\n",
       "      <td>3.275605</td>\n",
       "    </tr>\n",
       "    <tr>\n",
       "      <th>2011</th>\n",
       "      <td>2.646817</td>\n",
       "      <td>3.821355</td>\n",
       "      <td>3.036961</td>\n",
       "    </tr>\n",
       "    <tr>\n",
       "      <th>2012</th>\n",
       "      <td>2.819629</td>\n",
       "      <td>3.986737</td>\n",
       "      <td>3.167109</td>\n",
       "    </tr>\n",
       "    <tr>\n",
       "      <th>2013</th>\n",
       "      <td>2.656151</td>\n",
       "      <td>3.870662</td>\n",
       "      <td>3.116719</td>\n",
       "    </tr>\n",
       "    <tr>\n",
       "      <th>2014</th>\n",
       "      <td>3.134021</td>\n",
       "      <td>4.190722</td>\n",
       "      <td>3.551546</td>\n",
       "    </tr>\n",
       "    <tr>\n",
       "      <th>2015</th>\n",
       "      <td>2.626667</td>\n",
       "      <td>3.680000</td>\n",
       "      <td>3.120000</td>\n",
       "    </tr>\n",
       "    <tr>\n",
       "      <th>2016</th>\n",
       "      <td>3.024390</td>\n",
       "      <td>3.731707</td>\n",
       "      <td>3.414634</td>\n",
       "    </tr>\n",
       "    <tr>\n",
       "      <th>2017</th>\n",
       "      <td>3.333333</td>\n",
       "      <td>3.848485</td>\n",
       "      <td>3.575758</td>\n",
       "    </tr>\n",
       "    <tr>\n",
       "      <th>2018</th>\n",
       "      <td>3.000000</td>\n",
       "      <td>4.000000</td>\n",
       "      <td>3.285714</td>\n",
       "    </tr>\n",
       "  </tbody>\n",
       "</table>\n",
       "</div>"
      ],
      "text/plain": [
       "      satisfaction      ease  effective\n",
       "year                                   \n",
       "2007      3.582133  4.342939   3.806916\n",
       "2008      2.888745  3.949547   3.278137\n",
       "2009      2.936596  4.134594   3.285873\n",
       "2010      2.931099  4.046555   3.275605\n",
       "2011      2.646817  3.821355   3.036961\n",
       "2012      2.819629  3.986737   3.167109\n",
       "2013      2.656151  3.870662   3.116719\n",
       "2014      3.134021  4.190722   3.551546\n",
       "2015      2.626667  3.680000   3.120000\n",
       "2016      3.024390  3.731707   3.414634\n",
       "2017      3.333333  3.848485   3.575758\n",
       "2018      3.000000  4.000000   3.285714"
      ]
     },
     "execution_count": 13,
     "metadata": {},
     "output_type": "execute_result"
    }
   ],
   "source": [
    "Cyeargroup"
   ]
  },
  {
   "cell_type": "code",
   "execution_count": 14,
   "metadata": {},
   "outputs": [
    {
     "data": {
      "text/plain": [
       "<matplotlib.axes._subplots.AxesSubplot at 0x264dd241a90>"
      ]
     },
     "execution_count": 14,
     "metadata": {},
     "output_type": "execute_result"
    },
    {
     "data": {
      "image/png": "[encoded data removed]",
      "text/plain": [
       "<matplotlib.figure.Figure at 0x264dd366400>"
      ]
     },
     "metadata": {},
     "output_type": "display_data"
    }
   ],
   "source": [
    "Cyeargroup.plot.bar()"
   ]
  },
  {
   "cell_type": "code",
   "execution_count": 15,
   "metadata": {
    "collapsed": true
   },
   "outputs": [],
   "source": [
    "Eyeargroup= effexor.groupby('year').agg({'satisfaction':'mean', 'ease': 'mean', 'effective':'mean'} )"
   ]
  },
  {
   "cell_type": "code",
   "execution_count": 16,
   "metadata": {},
   "outputs": [
    {
     "data": {
      "text/plain": [
       "<matplotlib.axes._subplots.AxesSubplot at 0x264dd22d588>"
      ]
     },
     "execution_count": 16,
     "metadata": {},
     "output_type": "execute_result"
    },
    {
     "data": {
      "image/png": "[encoded data removed]",
      "text/plain": [
       "<matplotlib.figure.Figure at 0x264dd28c5c0>"
      ]
     },
     "metadata": {},
     "output_type": "display_data"
    }
   ],
   "source": [
    "Eyeargroup.plot.bar()"
   ]
  },
  {
   "cell_type": "code",
   "execution_count": 17,
   "metadata": {},
   "outputs": [
    {
     "data": {
      "text/plain": [
       "<matplotlib.axes._subplots.AxesSubplot at 0x264dd49bb00>"
      ]
     },
     "execution_count": 17,
     "metadata": {},
     "output_type": "execute_result"
    },
    {
     "data": {
      "image/png": "[encoded data removed]",
      "text/plain": [
       "<matplotlib.figure.Figure at 0x264dd468400>"
      ]
     },
     "metadata": {},
     "output_type": "display_data"
    }
   ],
   "source": [
    "# woah. clearly there aren't many reviews in 2018, we may have to consider weights in calculating these averages \n",
    "Pyeargroup= pristiq.groupby('year').agg({'satisfaction':'mean', 'ease': 'mean', 'effective':'mean'} )\n",
    "Pyeargroup.plot.bar()"
   ]
  },
  {
   "cell_type": "code",
   "execution_count": 18,
   "metadata": {},
   "outputs": [
    {
     "data": {
      "text/html": [
       "<div>\n",
       "<style>\n",
       "    .dataframe thead tr:only-child th {\n",
       "        text-align: right;\n",
       "    }\n",
       "\n",
       "    .dataframe thead th {\n",
       "        text-align: left;\n",
       "    }\n",
       "\n",
       "    .dataframe tbody tr th {\n",
       "        vertical-align: top;\n",
       "    }\n",
       "</style>\n",
       "<table border=\"1\" class=\"dataframe\">\n",
       "  <thead>\n",
       "    <tr style=\"text-align: right;\">\n",
       "      <th></th>\n",
       "      <th>Date_time</th>\n",
       "      <th>condition</th>\n",
       "      <th>age</th>\n",
       "      <th>sex</th>\n",
       "      <th>Treat_time</th>\n",
       "      <th>ease</th>\n",
       "      <th>effective</th>\n",
       "      <th>satisfaction</th>\n",
       "      <th>comment</th>\n",
       "      <th>year</th>\n",
       "      <th>month</th>\n",
       "      <th>time_mark</th>\n",
       "      <th>drug</th>\n",
       "    </tr>\n",
       "  </thead>\n",
       "  <tbody>\n",
       "    <tr>\n",
       "      <th>count</th>\n",
       "      <td>8303</td>\n",
       "      <td>8303</td>\n",
       "      <td>7802</td>\n",
       "      <td>7824</td>\n",
       "      <td>7857</td>\n",
       "      <td>8303.000000</td>\n",
       "      <td>8303.000000</td>\n",
       "      <td>8303.000000</td>\n",
       "      <td>8303</td>\n",
       "      <td>8303.000000</td>\n",
       "      <td>8303.000000</td>\n",
       "      <td>8.303000e+03</td>\n",
       "      <td>8303</td>\n",
       "    </tr>\n",
       "    <tr>\n",
       "      <th>unique</th>\n",
       "      <td>8303</td>\n",
       "      <td>16</td>\n",
       "      <td>7</td>\n",
       "      <td>2</td>\n",
       "      <td>7</td>\n",
       "      <td>NaN</td>\n",
       "      <td>NaN</td>\n",
       "      <td>NaN</td>\n",
       "      <td>8286</td>\n",
       "      <td>NaN</td>\n",
       "      <td>NaN</td>\n",
       "      <td>NaN</td>\n",
       "      <td>3</td>\n",
       "    </tr>\n",
       "    <tr>\n",
       "      <th>top</th>\n",
       "      <td>2012-10-02 13:17:34</td>\n",
       "      <td>Depression</td>\n",
       "      <td>45-54</td>\n",
       "      <td>Female</td>\n",
       "      <td>1 to 6 months</td>\n",
       "      <td>NaN</td>\n",
       "      <td>NaN</td>\n",
       "      <td>NaN</td>\n",
       "      <td>I have been taking this medication for almost ...</td>\n",
       "      <td>NaN</td>\n",
       "      <td>NaN</td>\n",
       "      <td>NaN</td>\n",
       "      <td>Cymbalta</td>\n",
       "    </tr>\n",
       "    <tr>\n",
       "      <th>freq</th>\n",
       "      <td>1</td>\n",
       "      <td>2267</td>\n",
       "      <td>2171</td>\n",
       "      <td>6495</td>\n",
       "      <td>1985</td>\n",
       "      <td>NaN</td>\n",
       "      <td>NaN</td>\n",
       "      <td>NaN</td>\n",
       "      <td>4</td>\n",
       "      <td>NaN</td>\n",
       "      <td>NaN</td>\n",
       "      <td>NaN</td>\n",
       "      <td>4087</td>\n",
       "    </tr>\n",
       "    <tr>\n",
       "      <th>mean</th>\n",
       "      <td>NaN</td>\n",
       "      <td>NaN</td>\n",
       "      <td>NaN</td>\n",
       "      <td>NaN</td>\n",
       "      <td>NaN</td>\n",
       "      <td>4.059376</td>\n",
       "      <td>3.448994</td>\n",
       "      <td>3.029989</td>\n",
       "      <td>NaN</td>\n",
       "      <td>2009.876310</td>\n",
       "      <td>6.564133</td>\n",
       "      <td>1.274312e+18</td>\n",
       "      <td>NaN</td>\n",
       "    </tr>\n",
       "    <tr>\n",
       "      <th>std</th>\n",
       "      <td>NaN</td>\n",
       "      <td>NaN</td>\n",
       "      <td>NaN</td>\n",
       "      <td>NaN</td>\n",
       "      <td>NaN</td>\n",
       "      <td>1.301359</td>\n",
       "      <td>1.461880</td>\n",
       "      <td>1.609323</td>\n",
       "      <td>NaN</td>\n",
       "      <td>2.155874</td>\n",
       "      <td>3.565568</td>\n",
       "      <td>6.695731e+16</td>\n",
       "      <td>NaN</td>\n",
       "    </tr>\n",
       "    <tr>\n",
       "      <th>min</th>\n",
       "      <td>NaN</td>\n",
       "      <td>NaN</td>\n",
       "      <td>NaN</td>\n",
       "      <td>NaN</td>\n",
       "      <td>NaN</td>\n",
       "      <td>1.000000</td>\n",
       "      <td>1.000000</td>\n",
       "      <td>1.000000</td>\n",
       "      <td>NaN</td>\n",
       "      <td>2007.000000</td>\n",
       "      <td>1.000000</td>\n",
       "      <td>1.190206e+18</td>\n",
       "      <td>NaN</td>\n",
       "    </tr>\n",
       "    <tr>\n",
       "      <th>25%</th>\n",
       "      <td>NaN</td>\n",
       "      <td>NaN</td>\n",
       "      <td>NaN</td>\n",
       "      <td>NaN</td>\n",
       "      <td>NaN</td>\n",
       "      <td>4.000000</td>\n",
       "      <td>2.000000</td>\n",
       "      <td>1.000000</td>\n",
       "      <td>NaN</td>\n",
       "      <td>2008.000000</td>\n",
       "      <td>3.000000</td>\n",
       "      <td>1.224612e+18</td>\n",
       "      <td>NaN</td>\n",
       "    </tr>\n",
       "    <tr>\n",
       "      <th>50%</th>\n",
       "      <td>NaN</td>\n",
       "      <td>NaN</td>\n",
       "      <td>NaN</td>\n",
       "      <td>NaN</td>\n",
       "      <td>NaN</td>\n",
       "      <td>5.000000</td>\n",
       "      <td>4.000000</td>\n",
       "      <td>3.000000</td>\n",
       "      <td>NaN</td>\n",
       "      <td>2009.000000</td>\n",
       "      <td>7.000000</td>\n",
       "      <td>1.255283e+18</td>\n",
       "      <td>NaN</td>\n",
       "    </tr>\n",
       "    <tr>\n",
       "      <th>75%</th>\n",
       "      <td>NaN</td>\n",
       "      <td>NaN</td>\n",
       "      <td>NaN</td>\n",
       "      <td>NaN</td>\n",
       "      <td>NaN</td>\n",
       "      <td>5.000000</td>\n",
       "      <td>5.000000</td>\n",
       "      <td>5.000000</td>\n",
       "      <td>NaN</td>\n",
       "      <td>2011.000000</td>\n",
       "      <td>10.000000</td>\n",
       "      <td>1.313449e+18</td>\n",
       "      <td>NaN</td>\n",
       "    </tr>\n",
       "    <tr>\n",
       "      <th>max</th>\n",
       "      <td>NaN</td>\n",
       "      <td>NaN</td>\n",
       "      <td>NaN</td>\n",
       "      <td>NaN</td>\n",
       "      <td>NaN</td>\n",
       "      <td>5.000000</td>\n",
       "      <td>5.000000</td>\n",
       "      <td>5.000000</td>\n",
       "      <td>NaN</td>\n",
       "      <td>2018.000000</td>\n",
       "      <td>12.000000</td>\n",
       "      <td>1.518039e+18</td>\n",
       "      <td>NaN</td>\n",
       "    </tr>\n",
       "  </tbody>\n",
       "</table>\n",
       "</div>"
      ],
      "text/plain": [
       "                  Date_time   condition    age     sex      Treat_time  \\\n",
       "count                  8303        8303   7802    7824            7857   \n",
       "unique                 8303          16      7       2               7   \n",
       "top     2012-10-02 13:17:34  Depression  45-54  Female   1 to 6 months   \n",
       "freq                      1        2267   2171    6495            1985   \n",
       "mean                    NaN         NaN    NaN     NaN             NaN   \n",
       "std                     NaN         NaN    NaN     NaN             NaN   \n",
       "min                     NaN         NaN    NaN     NaN             NaN   \n",
       "25%                     NaN         NaN    NaN     NaN             NaN   \n",
       "50%                     NaN         NaN    NaN     NaN             NaN   \n",
       "75%                     NaN         NaN    NaN     NaN             NaN   \n",
       "max                     NaN         NaN    NaN     NaN             NaN   \n",
       "\n",
       "               ease    effective  satisfaction  \\\n",
       "count   8303.000000  8303.000000   8303.000000   \n",
       "unique          NaN          NaN           NaN   \n",
       "top             NaN          NaN           NaN   \n",
       "freq            NaN          NaN           NaN   \n",
       "mean       4.059376     3.448994      3.029989   \n",
       "std        1.301359     1.461880      1.609323   \n",
       "min        1.000000     1.000000      1.000000   \n",
       "25%        4.000000     2.000000      1.000000   \n",
       "50%        5.000000     4.000000      3.000000   \n",
       "75%        5.000000     5.000000      5.000000   \n",
       "max        5.000000     5.000000      5.000000   \n",
       "\n",
       "                                                  comment         year  \\\n",
       "count                                                8303  8303.000000   \n",
       "unique                                               8286          NaN   \n",
       "top     I have been taking this medication for almost ...          NaN   \n",
       "freq                                                    4          NaN   \n",
       "mean                                                  NaN  2009.876310   \n",
       "std                                                   NaN     2.155874   \n",
       "min                                                   NaN  2007.000000   \n",
       "25%                                                   NaN  2008.000000   \n",
       "50%                                                   NaN  2009.000000   \n",
       "75%                                                   NaN  2011.000000   \n",
       "max                                                   NaN  2018.000000   \n",
       "\n",
       "              month     time_mark      drug  \n",
       "count   8303.000000  8.303000e+03      8303  \n",
       "unique          NaN           NaN         3  \n",
       "top             NaN           NaN  Cymbalta  \n",
       "freq            NaN           NaN      4087  \n",
       "mean       6.564133  1.274312e+18       NaN  \n",
       "std        3.565568  6.695731e+16       NaN  \n",
       "min        1.000000  1.190206e+18       NaN  \n",
       "25%        3.000000  1.224612e+18       NaN  \n",
       "50%        7.000000  1.255283e+18       NaN  \n",
       "75%       10.000000  1.313449e+18       NaN  \n",
       "max       12.000000  1.518039e+18       NaN  "
      ]
     },
     "execution_count": 18,
     "metadata": {},
     "output_type": "execute_result"
    }
   ],
   "source": [
    "# there are some patterns here. Overall ease of use get's high marks, satisfaction is mediocre for all 3 products.\n",
    "# likely we'll have to ignore 2018, too few points this year\n",
    "#all drugs\n",
    "\n",
    "Drugs.describe(include = 'all')\n"
   ]
  },
  {
   "cell_type": "code",
   "execution_count": 493,
   "metadata": {
    "scrolled": true
   },
   "outputs": [
    {
     "data": {
      "text/html": [
       "<div>\n",
       "<style>\n",
       "    .dataframe thead tr:only-child th {\n",
       "        text-align: right;\n",
       "    }\n",
       "\n",
       "    .dataframe thead th {\n",
       "        text-align: left;\n",
       "    }\n",
       "\n",
       "    .dataframe tbody tr th {\n",
       "        vertical-align: top;\n",
       "    }\n",
       "</style>\n",
       "<table border=\"1\" class=\"dataframe\">\n",
       "  <thead>\n",
       "    <tr style=\"text-align: right;\">\n",
       "      <th></th>\n",
       "      <th>Date_time</th>\n",
       "      <th>condition</th>\n",
       "      <th>age</th>\n",
       "      <th>sex</th>\n",
       "      <th>Treat_time</th>\n",
       "      <th>ease</th>\n",
       "      <th>effective</th>\n",
       "      <th>satisfaction</th>\n",
       "      <th>comment</th>\n",
       "      <th>year</th>\n",
       "      <th>month</th>\n",
       "      <th>time_mark</th>\n",
       "      <th>drug</th>\n",
       "    </tr>\n",
       "  </thead>\n",
       "  <tbody>\n",
       "    <tr>\n",
       "      <th>count</th>\n",
       "      <td>1169</td>\n",
       "      <td>1169</td>\n",
       "      <td>1120</td>\n",
       "      <td>1111</td>\n",
       "      <td>1121</td>\n",
       "      <td>1169.000000</td>\n",
       "      <td>1169.000000</td>\n",
       "      <td>1169.000000</td>\n",
       "      <td>1169</td>\n",
       "      <td>1169.000000</td>\n",
       "      <td>1169.000000</td>\n",
       "      <td>1.169000e+03</td>\n",
       "      <td>1169</td>\n",
       "    </tr>\n",
       "    <tr>\n",
       "      <th>unique</th>\n",
       "      <td>1169</td>\n",
       "      <td>10</td>\n",
       "      <td>7</td>\n",
       "      <td>2</td>\n",
       "      <td>7</td>\n",
       "      <td>NaN</td>\n",
       "      <td>NaN</td>\n",
       "      <td>NaN</td>\n",
       "      <td>1167</td>\n",
       "      <td>NaN</td>\n",
       "      <td>NaN</td>\n",
       "      <td>NaN</td>\n",
       "      <td>1</td>\n",
       "    </tr>\n",
       "    <tr>\n",
       "      <th>top</th>\n",
       "      <td>2009-06-08 23:15:32</td>\n",
       "      <td>Depression</td>\n",
       "      <td>45-54</td>\n",
       "      <td>Female</td>\n",
       "      <td>1 to 6 months</td>\n",
       "      <td>NaN</td>\n",
       "      <td>NaN</td>\n",
       "      <td>NaN</td>\n",
       "      <td>It didn't work for me:\\r\\r\\r\\nDay 1 (ON): With...</td>\n",
       "      <td>NaN</td>\n",
       "      <td>NaN</td>\n",
       "      <td>NaN</td>\n",
       "      <td>Pristiq</td>\n",
       "    </tr>\n",
       "    <tr>\n",
       "      <th>freq</th>\n",
       "      <td>1</td>\n",
       "      <td>656</td>\n",
       "      <td>322</td>\n",
       "      <td>916</td>\n",
       "      <td>426</td>\n",
       "      <td>NaN</td>\n",
       "      <td>NaN</td>\n",
       "      <td>NaN</td>\n",
       "      <td>2</td>\n",
       "      <td>NaN</td>\n",
       "      <td>NaN</td>\n",
       "      <td>NaN</td>\n",
       "      <td>1169</td>\n",
       "    </tr>\n",
       "    <tr>\n",
       "      <th>mean</th>\n",
       "      <td>NaN</td>\n",
       "      <td>NaN</td>\n",
       "      <td>NaN</td>\n",
       "      <td>NaN</td>\n",
       "      <td>NaN</td>\n",
       "      <td>4.199316</td>\n",
       "      <td>3.384089</td>\n",
       "      <td>3.093242</td>\n",
       "      <td>NaN</td>\n",
       "      <td>2010.214713</td>\n",
       "      <td>6.703165</td>\n",
       "      <td>1.285367e+18</td>\n",
       "      <td>NaN</td>\n",
       "    </tr>\n",
       "    <tr>\n",
       "      <th>std</th>\n",
       "      <td>NaN</td>\n",
       "      <td>NaN</td>\n",
       "      <td>NaN</td>\n",
       "      <td>NaN</td>\n",
       "      <td>NaN</td>\n",
       "      <td>1.236073</td>\n",
       "      <td>1.466096</td>\n",
       "      <td>1.578656</td>\n",
       "      <td>NaN</td>\n",
       "      <td>1.887936</td>\n",
       "      <td>3.413811</td>\n",
       "      <td>5.796733e+16</td>\n",
       "      <td>NaN</td>\n",
       "    </tr>\n",
       "    <tr>\n",
       "      <th>min</th>\n",
       "      <td>NaN</td>\n",
       "      <td>NaN</td>\n",
       "      <td>NaN</td>\n",
       "      <td>NaN</td>\n",
       "      <td>NaN</td>\n",
       "      <td>1.000000</td>\n",
       "      <td>1.000000</td>\n",
       "      <td>1.000000</td>\n",
       "      <td>NaN</td>\n",
       "      <td>2008.000000</td>\n",
       "      <td>1.000000</td>\n",
       "      <td>1.213273e+18</td>\n",
       "      <td>NaN</td>\n",
       "    </tr>\n",
       "    <tr>\n",
       "      <th>25%</th>\n",
       "      <td>NaN</td>\n",
       "      <td>NaN</td>\n",
       "      <td>NaN</td>\n",
       "      <td>NaN</td>\n",
       "      <td>NaN</td>\n",
       "      <td>4.000000</td>\n",
       "      <td>2.000000</td>\n",
       "      <td>1.000000</td>\n",
       "      <td>NaN</td>\n",
       "      <td>2009.000000</td>\n",
       "      <td>4.000000</td>\n",
       "      <td>1.243371e+18</td>\n",
       "      <td>NaN</td>\n",
       "    </tr>\n",
       "    <tr>\n",
       "      <th>50%</th>\n",
       "      <td>NaN</td>\n",
       "      <td>NaN</td>\n",
       "      <td>NaN</td>\n",
       "      <td>NaN</td>\n",
       "      <td>NaN</td>\n",
       "      <td>5.000000</td>\n",
       "      <td>4.000000</td>\n",
       "      <td>3.000000</td>\n",
       "      <td>NaN</td>\n",
       "      <td>2010.000000</td>\n",
       "      <td>7.000000</td>\n",
       "      <td>1.266356e+18</td>\n",
       "      <td>NaN</td>\n",
       "    </tr>\n",
       "    <tr>\n",
       "      <th>75%</th>\n",
       "      <td>NaN</td>\n",
       "      <td>NaN</td>\n",
       "      <td>NaN</td>\n",
       "      <td>NaN</td>\n",
       "      <td>NaN</td>\n",
       "      <td>5.000000</td>\n",
       "      <td>5.000000</td>\n",
       "      <td>5.000000</td>\n",
       "      <td>NaN</td>\n",
       "      <td>2011.000000</td>\n",
       "      <td>10.000000</td>\n",
       "      <td>1.314753e+18</td>\n",
       "      <td>NaN</td>\n",
       "    </tr>\n",
       "    <tr>\n",
       "      <th>max</th>\n",
       "      <td>NaN</td>\n",
       "      <td>NaN</td>\n",
       "      <td>NaN</td>\n",
       "      <td>NaN</td>\n",
       "      <td>NaN</td>\n",
       "      <td>5.000000</td>\n",
       "      <td>5.000000</td>\n",
       "      <td>5.000000</td>\n",
       "      <td>NaN</td>\n",
       "      <td>2018.000000</td>\n",
       "      <td>12.000000</td>\n",
       "      <td>1.516947e+18</td>\n",
       "      <td>NaN</td>\n",
       "    </tr>\n",
       "  </tbody>\n",
       "</table>\n",
       "</div>"
      ],
      "text/plain": [
       "                  Date_time   condition    age     sex      Treat_time  \\\n",
       "count                  1169        1169   1120    1111            1121   \n",
       "unique                 1169          10      7       2               7   \n",
       "top     2009-06-08 23:15:32  Depression  45-54  Female   1 to 6 months   \n",
       "freq                      1         656    322     916             426   \n",
       "mean                    NaN         NaN    NaN     NaN             NaN   \n",
       "std                     NaN         NaN    NaN     NaN             NaN   \n",
       "min                     NaN         NaN    NaN     NaN             NaN   \n",
       "25%                     NaN         NaN    NaN     NaN             NaN   \n",
       "50%                     NaN         NaN    NaN     NaN             NaN   \n",
       "75%                     NaN         NaN    NaN     NaN             NaN   \n",
       "max                     NaN         NaN    NaN     NaN             NaN   \n",
       "\n",
       "               ease    effective  satisfaction  \\\n",
       "count   1169.000000  1169.000000   1169.000000   \n",
       "unique          NaN          NaN           NaN   \n",
       "top             NaN          NaN           NaN   \n",
       "freq            NaN          NaN           NaN   \n",
       "mean       4.199316     3.384089      3.093242   \n",
       "std        1.236073     1.466096      1.578656   \n",
       "min        1.000000     1.000000      1.000000   \n",
       "25%        4.000000     2.000000      1.000000   \n",
       "50%        5.000000     4.000000      3.000000   \n",
       "75%        5.000000     5.000000      5.000000   \n",
       "max        5.000000     5.000000      5.000000   \n",
       "\n",
       "                                                  comment         year  \\\n",
       "count                                                1169  1169.000000   \n",
       "unique                                               1167          NaN   \n",
       "top     It didn't work for me:\\r\\r\\r\\nDay 1 (ON): With...          NaN   \n",
       "freq                                                    2          NaN   \n",
       "mean                                                  NaN  2010.214713   \n",
       "std                                                   NaN     1.887936   \n",
       "min                                                   NaN  2008.000000   \n",
       "25%                                                   NaN  2009.000000   \n",
       "50%                                                   NaN  2010.000000   \n",
       "75%                                                   NaN  2011.000000   \n",
       "max                                                   NaN  2018.000000   \n",
       "\n",
       "              month     time_mark     drug  \n",
       "count   1169.000000  1.169000e+03     1169  \n",
       "unique          NaN           NaN        1  \n",
       "top             NaN           NaN  Pristiq  \n",
       "freq            NaN           NaN     1169  \n",
       "mean       6.703165  1.285367e+18      NaN  \n",
       "std        3.413811  5.796733e+16      NaN  \n",
       "min        1.000000  1.213273e+18      NaN  \n",
       "25%        4.000000  1.243371e+18      NaN  \n",
       "50%        7.000000  1.266356e+18      NaN  \n",
       "75%       10.000000  1.314753e+18      NaN  \n",
       "max       12.000000  1.516947e+18      NaN  "
      ]
     },
     "execution_count": 493,
     "metadata": {},
     "output_type": "execute_result"
    }
   ],
   "source": [
    "pristiq.describe(include = 'all')"
   ]
  },
  {
   "cell_type": "code",
   "execution_count": 20,
   "metadata": {},
   "outputs": [
    {
     "data": {
      "text/html": [
       "<div>\n",
       "<style>\n",
       "    .dataframe thead tr:only-child th {\n",
       "        text-align: right;\n",
       "    }\n",
       "\n",
       "    .dataframe thead th {\n",
       "        text-align: left;\n",
       "    }\n",
       "\n",
       "    .dataframe tbody tr th {\n",
       "        vertical-align: top;\n",
       "    }\n",
       "</style>\n",
       "<table border=\"1\" class=\"dataframe\">\n",
       "  <thead>\n",
       "    <tr style=\"text-align: right;\">\n",
       "      <th></th>\n",
       "      <th>Date_time</th>\n",
       "      <th>condition</th>\n",
       "      <th>age</th>\n",
       "      <th>sex</th>\n",
       "      <th>Treat_time</th>\n",
       "      <th>ease</th>\n",
       "      <th>effective</th>\n",
       "      <th>satisfaction</th>\n",
       "      <th>comment</th>\n",
       "      <th>year</th>\n",
       "      <th>month</th>\n",
       "      <th>time_mark</th>\n",
       "      <th>drug</th>\n",
       "    </tr>\n",
       "  </thead>\n",
       "  <tbody>\n",
       "    <tr>\n",
       "      <th>count</th>\n",
       "      <td>3047</td>\n",
       "      <td>3047</td>\n",
       "      <td>2861</td>\n",
       "      <td>2863</td>\n",
       "      <td>2877</td>\n",
       "      <td>3047.000000</td>\n",
       "      <td>3047.000000</td>\n",
       "      <td>3047.000000</td>\n",
       "      <td>3047</td>\n",
       "      <td>3047.000000</td>\n",
       "      <td>3047.000000</td>\n",
       "      <td>3.047000e+03</td>\n",
       "      <td>3047</td>\n",
       "    </tr>\n",
       "    <tr>\n",
       "      <th>unique</th>\n",
       "      <td>3047</td>\n",
       "      <td>13</td>\n",
       "      <td>7</td>\n",
       "      <td>2</td>\n",
       "      <td>7</td>\n",
       "      <td>NaN</td>\n",
       "      <td>NaN</td>\n",
       "      <td>NaN</td>\n",
       "      <td>3041</td>\n",
       "      <td>NaN</td>\n",
       "      <td>NaN</td>\n",
       "      <td>NaN</td>\n",
       "      <td>1</td>\n",
       "    </tr>\n",
       "    <tr>\n",
       "      <th>top</th>\n",
       "      <td>2010-08-21 09:34:32</td>\n",
       "      <td>Depression</td>\n",
       "      <td>45-54</td>\n",
       "      <td>Female</td>\n",
       "      <td>2 to less than 5 years</td>\n",
       "      <td>NaN</td>\n",
       "      <td>NaN</td>\n",
       "      <td>NaN</td>\n",
       "      <td>I have been taking this medication for almost ...</td>\n",
       "      <td>NaN</td>\n",
       "      <td>NaN</td>\n",
       "      <td>NaN</td>\n",
       "      <td>Effexor</td>\n",
       "    </tr>\n",
       "    <tr>\n",
       "      <th>freq</th>\n",
       "      <td>1</td>\n",
       "      <td>1611</td>\n",
       "      <td>739</td>\n",
       "      <td>2412</td>\n",
       "      <td>724</td>\n",
       "      <td>NaN</td>\n",
       "      <td>NaN</td>\n",
       "      <td>NaN</td>\n",
       "      <td>4</td>\n",
       "      <td>NaN</td>\n",
       "      <td>NaN</td>\n",
       "      <td>NaN</td>\n",
       "      <td>3047</td>\n",
       "    </tr>\n",
       "    <tr>\n",
       "      <th>mean</th>\n",
       "      <td>NaN</td>\n",
       "      <td>NaN</td>\n",
       "      <td>NaN</td>\n",
       "      <td>NaN</td>\n",
       "      <td>NaN</td>\n",
       "      <td>4.055793</td>\n",
       "      <td>3.691500</td>\n",
       "      <td>3.149984</td>\n",
       "      <td>NaN</td>\n",
       "      <td>2009.452576</td>\n",
       "      <td>6.450935</td>\n",
       "      <td>1.260625e+18</td>\n",
       "      <td>NaN</td>\n",
       "    </tr>\n",
       "    <tr>\n",
       "      <th>std</th>\n",
       "      <td>NaN</td>\n",
       "      <td>NaN</td>\n",
       "      <td>NaN</td>\n",
       "      <td>NaN</td>\n",
       "      <td>NaN</td>\n",
       "      <td>1.272534</td>\n",
       "      <td>1.347161</td>\n",
       "      <td>1.562073</td>\n",
       "      <td>NaN</td>\n",
       "      <td>2.073889</td>\n",
       "      <td>3.654857</td>\n",
       "      <td>6.449903e+16</td>\n",
       "      <td>NaN</td>\n",
       "    </tr>\n",
       "    <tr>\n",
       "      <th>min</th>\n",
       "      <td>NaN</td>\n",
       "      <td>NaN</td>\n",
       "      <td>NaN</td>\n",
       "      <td>NaN</td>\n",
       "      <td>NaN</td>\n",
       "      <td>1.000000</td>\n",
       "      <td>1.000000</td>\n",
       "      <td>1.000000</td>\n",
       "      <td>NaN</td>\n",
       "      <td>2007.000000</td>\n",
       "      <td>1.000000</td>\n",
       "      <td>1.190206e+18</td>\n",
       "      <td>NaN</td>\n",
       "    </tr>\n",
       "    <tr>\n",
       "      <th>25%</th>\n",
       "      <td>NaN</td>\n",
       "      <td>NaN</td>\n",
       "      <td>NaN</td>\n",
       "      <td>NaN</td>\n",
       "      <td>NaN</td>\n",
       "      <td>4.000000</td>\n",
       "      <td>3.000000</td>\n",
       "      <td>1.000000</td>\n",
       "      <td>NaN</td>\n",
       "      <td>2008.000000</td>\n",
       "      <td>3.000000</td>\n",
       "      <td>1.212502e+18</td>\n",
       "      <td>NaN</td>\n",
       "    </tr>\n",
       "    <tr>\n",
       "      <th>50%</th>\n",
       "      <td>NaN</td>\n",
       "      <td>NaN</td>\n",
       "      <td>NaN</td>\n",
       "      <td>NaN</td>\n",
       "      <td>NaN</td>\n",
       "      <td>5.000000</td>\n",
       "      <td>4.000000</td>\n",
       "      <td>3.000000</td>\n",
       "      <td>NaN</td>\n",
       "      <td>2009.000000</td>\n",
       "      <td>6.000000</td>\n",
       "      <td>1.240015e+18</td>\n",
       "      <td>NaN</td>\n",
       "    </tr>\n",
       "    <tr>\n",
       "      <th>75%</th>\n",
       "      <td>NaN</td>\n",
       "      <td>NaN</td>\n",
       "      <td>NaN</td>\n",
       "      <td>NaN</td>\n",
       "      <td>NaN</td>\n",
       "      <td>5.000000</td>\n",
       "      <td>5.000000</td>\n",
       "      <td>5.000000</td>\n",
       "      <td>NaN</td>\n",
       "      <td>2010.000000</td>\n",
       "      <td>10.000000</td>\n",
       "      <td>1.285477e+18</td>\n",
       "      <td>NaN</td>\n",
       "    </tr>\n",
       "    <tr>\n",
       "      <th>max</th>\n",
       "      <td>NaN</td>\n",
       "      <td>NaN</td>\n",
       "      <td>NaN</td>\n",
       "      <td>NaN</td>\n",
       "      <td>NaN</td>\n",
       "      <td>5.000000</td>\n",
       "      <td>5.000000</td>\n",
       "      <td>5.000000</td>\n",
       "      <td>NaN</td>\n",
       "      <td>2018.000000</td>\n",
       "      <td>12.000000</td>\n",
       "      <td>1.518009e+18</td>\n",
       "      <td>NaN</td>\n",
       "    </tr>\n",
       "  </tbody>\n",
       "</table>\n",
       "</div>"
      ],
      "text/plain": [
       "                  Date_time   condition    age     sex  \\\n",
       "count                  3047        3047   2861    2863   \n",
       "unique                 3047          13      7       2   \n",
       "top     2010-08-21 09:34:32  Depression  45-54  Female   \n",
       "freq                      1        1611    739    2412   \n",
       "mean                    NaN         NaN    NaN     NaN   \n",
       "std                     NaN         NaN    NaN     NaN   \n",
       "min                     NaN         NaN    NaN     NaN   \n",
       "25%                     NaN         NaN    NaN     NaN   \n",
       "50%                     NaN         NaN    NaN     NaN   \n",
       "75%                     NaN         NaN    NaN     NaN   \n",
       "max                     NaN         NaN    NaN     NaN   \n",
       "\n",
       "                    Treat_time         ease    effective  satisfaction  \\\n",
       "count                     2877  3047.000000  3047.000000   3047.000000   \n",
       "unique                       7          NaN          NaN           NaN   \n",
       "top     2 to less than 5 years          NaN          NaN           NaN   \n",
       "freq                       724          NaN          NaN           NaN   \n",
       "mean                       NaN     4.055793     3.691500      3.149984   \n",
       "std                        NaN     1.272534     1.347161      1.562073   \n",
       "min                        NaN     1.000000     1.000000      1.000000   \n",
       "25%                        NaN     4.000000     3.000000      1.000000   \n",
       "50%                        NaN     5.000000     4.000000      3.000000   \n",
       "75%                        NaN     5.000000     5.000000      5.000000   \n",
       "max                        NaN     5.000000     5.000000      5.000000   \n",
       "\n",
       "                                                  comment         year  \\\n",
       "count                                                3047  3047.000000   \n",
       "unique                                               3041          NaN   \n",
       "top     I have been taking this medication for almost ...          NaN   \n",
       "freq                                                    4          NaN   \n",
       "mean                                                  NaN  2009.452576   \n",
       "std                                                   NaN     2.073889   \n",
       "min                                                   NaN  2007.000000   \n",
       "25%                                                   NaN  2008.000000   \n",
       "50%                                                   NaN  2009.000000   \n",
       "75%                                                   NaN  2010.000000   \n",
       "max                                                   NaN  2018.000000   \n",
       "\n",
       "              month     time_mark     drug  \n",
       "count   3047.000000  3.047000e+03     3047  \n",
       "unique          NaN           NaN        1  \n",
       "top             NaN           NaN  Effexor  \n",
       "freq            NaN           NaN     3047  \n",
       "mean       6.450935  1.260625e+18      NaN  \n",
       "std        3.654857  6.449903e+16      NaN  \n",
       "min        1.000000  1.190206e+18      NaN  \n",
       "25%        3.000000  1.212502e+18      NaN  \n",
       "50%        6.000000  1.240015e+18      NaN  \n",
       "75%       10.000000  1.285477e+18      NaN  \n",
       "max       12.000000  1.518009e+18      NaN  "
      ]
     },
     "execution_count": 20,
     "metadata": {},
     "output_type": "execute_result"
    }
   ],
   "source": [
    "effexor.describe(include = 'all')"
   ]
  },
  {
   "cell_type": "code",
   "execution_count": 21,
   "metadata": {},
   "outputs": [
    {
     "data": {
      "text/html": [
       "<div>\n",
       "<style>\n",
       "    .dataframe thead tr:only-child th {\n",
       "        text-align: right;\n",
       "    }\n",
       "\n",
       "    .dataframe thead th {\n",
       "        text-align: left;\n",
       "    }\n",
       "\n",
       "    .dataframe tbody tr th {\n",
       "        vertical-align: top;\n",
       "    }\n",
       "</style>\n",
       "<table border=\"1\" class=\"dataframe\">\n",
       "  <thead>\n",
       "    <tr style=\"text-align: right;\">\n",
       "      <th></th>\n",
       "      <th>Date_time</th>\n",
       "      <th>condition</th>\n",
       "      <th>age</th>\n",
       "      <th>sex</th>\n",
       "      <th>Treat_time</th>\n",
       "      <th>ease</th>\n",
       "      <th>effective</th>\n",
       "      <th>satisfaction</th>\n",
       "      <th>comment</th>\n",
       "      <th>year</th>\n",
       "      <th>month</th>\n",
       "      <th>time_mark</th>\n",
       "      <th>drug</th>\n",
       "    </tr>\n",
       "  </thead>\n",
       "  <tbody>\n",
       "    <tr>\n",
       "      <th>count</th>\n",
       "      <td>1169</td>\n",
       "      <td>1169</td>\n",
       "      <td>1120</td>\n",
       "      <td>1111</td>\n",
       "      <td>1121</td>\n",
       "      <td>1169.000000</td>\n",
       "      <td>1169.000000</td>\n",
       "      <td>1169.000000</td>\n",
       "      <td>1169</td>\n",
       "      <td>1169.000000</td>\n",
       "      <td>1169.000000</td>\n",
       "      <td>1.169000e+03</td>\n",
       "      <td>1169</td>\n",
       "    </tr>\n",
       "    <tr>\n",
       "      <th>unique</th>\n",
       "      <td>1169</td>\n",
       "      <td>10</td>\n",
       "      <td>7</td>\n",
       "      <td>2</td>\n",
       "      <td>7</td>\n",
       "      <td>NaN</td>\n",
       "      <td>NaN</td>\n",
       "      <td>NaN</td>\n",
       "      <td>1167</td>\n",
       "      <td>NaN</td>\n",
       "      <td>NaN</td>\n",
       "      <td>NaN</td>\n",
       "      <td>1</td>\n",
       "    </tr>\n",
       "    <tr>\n",
       "      <th>top</th>\n",
       "      <td>2009-06-08 23:15:32</td>\n",
       "      <td>Depression</td>\n",
       "      <td>45-54</td>\n",
       "      <td>Female</td>\n",
       "      <td>1 to 6 months</td>\n",
       "      <td>NaN</td>\n",
       "      <td>NaN</td>\n",
       "      <td>NaN</td>\n",
       "      <td>It didn't work for me:\\r\\r\\r\\nDay 1 (ON): With...</td>\n",
       "      <td>NaN</td>\n",
       "      <td>NaN</td>\n",
       "      <td>NaN</td>\n",
       "      <td>Pristiq</td>\n",
       "    </tr>\n",
       "    <tr>\n",
       "      <th>freq</th>\n",
       "      <td>1</td>\n",
       "      <td>656</td>\n",
       "      <td>322</td>\n",
       "      <td>916</td>\n",
       "      <td>426</td>\n",
       "      <td>NaN</td>\n",
       "      <td>NaN</td>\n",
       "      <td>NaN</td>\n",
       "      <td>2</td>\n",
       "      <td>NaN</td>\n",
       "      <td>NaN</td>\n",
       "      <td>NaN</td>\n",
       "      <td>1169</td>\n",
       "    </tr>\n",
       "    <tr>\n",
       "      <th>mean</th>\n",
       "      <td>NaN</td>\n",
       "      <td>NaN</td>\n",
       "      <td>NaN</td>\n",
       "      <td>NaN</td>\n",
       "      <td>NaN</td>\n",
       "      <td>4.199316</td>\n",
       "      <td>3.384089</td>\n",
       "      <td>3.093242</td>\n",
       "      <td>NaN</td>\n",
       "      <td>2010.214713</td>\n",
       "      <td>6.703165</td>\n",
       "      <td>1.285367e+18</td>\n",
       "      <td>NaN</td>\n",
       "    </tr>\n",
       "    <tr>\n",
       "      <th>std</th>\n",
       "      <td>NaN</td>\n",
       "      <td>NaN</td>\n",
       "      <td>NaN</td>\n",
       "      <td>NaN</td>\n",
       "      <td>NaN</td>\n",
       "      <td>1.236073</td>\n",
       "      <td>1.466096</td>\n",
       "      <td>1.578656</td>\n",
       "      <td>NaN</td>\n",
       "      <td>1.887936</td>\n",
       "      <td>3.413811</td>\n",
       "      <td>5.796733e+16</td>\n",
       "      <td>NaN</td>\n",
       "    </tr>\n",
       "    <tr>\n",
       "      <th>min</th>\n",
       "      <td>NaN</td>\n",
       "      <td>NaN</td>\n",
       "      <td>NaN</td>\n",
       "      <td>NaN</td>\n",
       "      <td>NaN</td>\n",
       "      <td>1.000000</td>\n",
       "      <td>1.000000</td>\n",
       "      <td>1.000000</td>\n",
       "      <td>NaN</td>\n",
       "      <td>2008.000000</td>\n",
       "      <td>1.000000</td>\n",
       "      <td>1.213273e+18</td>\n",
       "      <td>NaN</td>\n",
       "    </tr>\n",
       "    <tr>\n",
       "      <th>25%</th>\n",
       "      <td>NaN</td>\n",
       "      <td>NaN</td>\n",
       "      <td>NaN</td>\n",
       "      <td>NaN</td>\n",
       "      <td>NaN</td>\n",
       "      <td>4.000000</td>\n",
       "      <td>2.000000</td>\n",
       "      <td>1.000000</td>\n",
       "      <td>NaN</td>\n",
       "      <td>2009.000000</td>\n",
       "      <td>4.000000</td>\n",
       "      <td>1.243371e+18</td>\n",
       "      <td>NaN</td>\n",
       "    </tr>\n",
       "    <tr>\n",
       "      <th>50%</th>\n",
       "      <td>NaN</td>\n",
       "      <td>NaN</td>\n",
       "      <td>NaN</td>\n",
       "      <td>NaN</td>\n",
       "      <td>NaN</td>\n",
       "      <td>5.000000</td>\n",
       "      <td>4.000000</td>\n",
       "      <td>3.000000</td>\n",
       "      <td>NaN</td>\n",
       "      <td>2010.000000</td>\n",
       "      <td>7.000000</td>\n",
       "      <td>1.266356e+18</td>\n",
       "      <td>NaN</td>\n",
       "    </tr>\n",
       "    <tr>\n",
       "      <th>75%</th>\n",
       "      <td>NaN</td>\n",
       "      <td>NaN</td>\n",
       "      <td>NaN</td>\n",
       "      <td>NaN</td>\n",
       "      <td>NaN</td>\n",
       "      <td>5.000000</td>\n",
       "      <td>5.000000</td>\n",
       "      <td>5.000000</td>\n",
       "      <td>NaN</td>\n",
       "      <td>2011.000000</td>\n",
       "      <td>10.000000</td>\n",
       "      <td>1.314753e+18</td>\n",
       "      <td>NaN</td>\n",
       "    </tr>\n",
       "    <tr>\n",
       "      <th>max</th>\n",
       "      <td>NaN</td>\n",
       "      <td>NaN</td>\n",
       "      <td>NaN</td>\n",
       "      <td>NaN</td>\n",
       "      <td>NaN</td>\n",
       "      <td>5.000000</td>\n",
       "      <td>5.000000</td>\n",
       "      <td>5.000000</td>\n",
       "      <td>NaN</td>\n",
       "      <td>2018.000000</td>\n",
       "      <td>12.000000</td>\n",
       "      <td>1.516947e+18</td>\n",
       "      <td>NaN</td>\n",
       "    </tr>\n",
       "  </tbody>\n",
       "</table>\n",
       "</div>"
      ],
      "text/plain": [
       "                  Date_time   condition    age     sex      Treat_time  \\\n",
       "count                  1169        1169   1120    1111            1121   \n",
       "unique                 1169          10      7       2               7   \n",
       "top     2009-06-08 23:15:32  Depression  45-54  Female   1 to 6 months   \n",
       "freq                      1         656    322     916             426   \n",
       "mean                    NaN         NaN    NaN     NaN             NaN   \n",
       "std                     NaN         NaN    NaN     NaN             NaN   \n",
       "min                     NaN         NaN    NaN     NaN             NaN   \n",
       "25%                     NaN         NaN    NaN     NaN             NaN   \n",
       "50%                     NaN         NaN    NaN     NaN             NaN   \n",
       "75%                     NaN         NaN    NaN     NaN             NaN   \n",
       "max                     NaN         NaN    NaN     NaN             NaN   \n",
       "\n",
       "               ease    effective  satisfaction  \\\n",
       "count   1169.000000  1169.000000   1169.000000   \n",
       "unique          NaN          NaN           NaN   \n",
       "top             NaN          NaN           NaN   \n",
       "freq            NaN          NaN           NaN   \n",
       "mean       4.199316     3.384089      3.093242   \n",
       "std        1.236073     1.466096      1.578656   \n",
       "min        1.000000     1.000000      1.000000   \n",
       "25%        4.000000     2.000000      1.000000   \n",
       "50%        5.000000     4.000000      3.000000   \n",
       "75%        5.000000     5.000000      5.000000   \n",
       "max        5.000000     5.000000      5.000000   \n",
       "\n",
       "                                                  comment         year  \\\n",
       "count                                                1169  1169.000000   \n",
       "unique                                               1167          NaN   \n",
       "top     It didn't work for me:\\r\\r\\r\\nDay 1 (ON): With...          NaN   \n",
       "freq                                                    2          NaN   \n",
       "mean                                                  NaN  2010.214713   \n",
       "std                                                   NaN     1.887936   \n",
       "min                                                   NaN  2008.000000   \n",
       "25%                                                   NaN  2009.000000   \n",
       "50%                                                   NaN  2010.000000   \n",
       "75%                                                   NaN  2011.000000   \n",
       "max                                                   NaN  2018.000000   \n",
       "\n",
       "              month     time_mark     drug  \n",
       "count   1169.000000  1.169000e+03     1169  \n",
       "unique          NaN           NaN        1  \n",
       "top             NaN           NaN  Pristiq  \n",
       "freq            NaN           NaN     1169  \n",
       "mean       6.703165  1.285367e+18      NaN  \n",
       "std        3.413811  5.796733e+16      NaN  \n",
       "min        1.000000  1.213273e+18      NaN  \n",
       "25%        4.000000  1.243371e+18      NaN  \n",
       "50%        7.000000  1.266356e+18      NaN  \n",
       "75%       10.000000  1.314753e+18      NaN  \n",
       "max       12.000000  1.516947e+18      NaN  "
      ]
     },
     "execution_count": 21,
     "metadata": {},
     "output_type": "execute_result"
    }
   ],
   "source": [
    "pristiq.describe(include = 'all')"
   ]
  },
  {
   "cell_type": "code",
   "execution_count": 22,
   "metadata": {},
   "outputs": [
    {
     "data": {
      "text/plain": [
       "<matplotlib.axes._subplots.AxesSubplot at 0x264de758198>"
      ]
     },
     "execution_count": 22,
     "metadata": {},
     "output_type": "execute_result"
    },
    {
     "data": {
      "image/png": "[encoded data removed]",
      "text/plain": [
       "<matplotlib.figure.Figure at 0x264dd3667f0>"
      ]
     },
     "metadata": {},
     "output_type": "display_data"
    }
   ],
   "source": [
    "Dgroup1 = Drugs.groupby('sex').agg({'satisfaction':'mean'})\n",
    "Dgroup1.plot.bar()\n",
    "# no serious difference in gender"
   ]
  },
  {
   "cell_type": "code",
   "execution_count": 23,
   "metadata": {},
   "outputs": [
    {
     "data": {
      "text/plain": [
       "<matplotlib.axes._subplots.AxesSubplot at 0x264de735c18>"
      ]
     },
     "execution_count": 23,
     "metadata": {},
     "output_type": "execute_result"
    },
    {
     "data": {
      "image/png": "[encoded data removed]",
      "text/plain": [
       "<matplotlib.figure.Figure at 0x264de692080>"
      ]
     },
     "metadata": {},
     "output_type": "display_data"
    }
   ],
   "source": [
    "Dgroupage = Drugs.groupby('age').agg({'satisfaction':'mean'})\n",
    "Dgroupage.plot.bar()\n",
    "# age appears to play a role"
   ]
  },
  {
   "cell_type": "code",
   "execution_count": 24,
   "metadata": {},
   "outputs": [
    {
     "data": {
      "text/html": [
       "<div>\n",
       "<style>\n",
       "    .dataframe thead tr:only-child th {\n",
       "        text-align: right;\n",
       "    }\n",
       "\n",
       "    .dataframe thead th {\n",
       "        text-align: left;\n",
       "    }\n",
       "\n",
       "    .dataframe tbody tr th {\n",
       "        vertical-align: top;\n",
       "    }\n",
       "</style>\n",
       "<table border=\"1\" class=\"dataframe\">\n",
       "  <thead>\n",
       "    <tr>\n",
       "      <th></th>\n",
       "      <th colspan=\"3\" halign=\"left\">satisfaction</th>\n",
       "    </tr>\n",
       "    <tr>\n",
       "      <th>drug</th>\n",
       "      <th>Cymbalta</th>\n",
       "      <th>Effexor</th>\n",
       "      <th>Pristiq</th>\n",
       "    </tr>\n",
       "    <tr>\n",
       "      <th>Treat_time</th>\n",
       "      <th></th>\n",
       "      <th></th>\n",
       "      <th></th>\n",
       "    </tr>\n",
       "  </thead>\n",
       "  <tbody>\n",
       "    <tr>\n",
       "      <th>less than 1 month</th>\n",
       "      <td>2.153951</td>\n",
       "      <td>2.174905</td>\n",
       "      <td>2.739612</td>\n",
       "    </tr>\n",
       "    <tr>\n",
       "      <th>1 to 6 months</th>\n",
       "      <td>2.784644</td>\n",
       "      <td>2.806517</td>\n",
       "      <td>3.133803</td>\n",
       "    </tr>\n",
       "    <tr>\n",
       "      <th>6 months to less than 1 year</th>\n",
       "      <td>2.984436</td>\n",
       "      <td>2.968454</td>\n",
       "      <td>3.205882</td>\n",
       "    </tr>\n",
       "    <tr>\n",
       "      <th>1 to less than 2 years</th>\n",
       "      <td>3.141509</td>\n",
       "      <td>3.135897</td>\n",
       "      <td>3.549550</td>\n",
       "    </tr>\n",
       "    <tr>\n",
       "      <th>2 to less than 5 years</th>\n",
       "      <td>3.494286</td>\n",
       "      <td>3.412983</td>\n",
       "      <td>3.560606</td>\n",
       "    </tr>\n",
       "    <tr>\n",
       "      <th>5 to less than 10 years</th>\n",
       "      <td>3.616279</td>\n",
       "      <td>3.470707</td>\n",
       "      <td>3.666667</td>\n",
       "    </tr>\n",
       "    <tr>\n",
       "      <th>10 years or more</th>\n",
       "      <td>3.485714</td>\n",
       "      <td>3.903553</td>\n",
       "      <td>3.833333</td>\n",
       "    </tr>\n",
       "  </tbody>\n",
       "</table>\n",
       "</div>"
      ],
      "text/plain": [
       "                             satisfaction                    \n",
       "drug                             Cymbalta   Effexor   Pristiq\n",
       "Treat_time                                                   \n",
       " less than 1 month               2.153951  2.174905  2.739612\n",
       " 1 to 6 months                   2.784644  2.806517  3.133803\n",
       "6 months to less than 1 year     2.984436  2.968454  3.205882\n",
       "1 to less than 2 years           3.141509  3.135897  3.549550\n",
       "2 to less than 5 years           3.494286  3.412983  3.560606\n",
       "5 to less than 10 years          3.616279  3.470707  3.666667\n",
       " 10 years or more                3.485714  3.903553  3.833333"
      ]
     },
     "execution_count": 24,
     "metadata": {},
     "output_type": "execute_result"
    },
    {
     "data": {
      "image/png": "[encoded data removed]",
      "text/plain": [
       "<matplotlib.figure.Figure at 0x264de7be048>"
      ]
     },
     "metadata": {},
     "output_type": "display_data"
    }
   ],
   "source": [
    "#group by treat_time vs drug\n",
    "\n",
    "Dgrouptreat = Drugs.groupby(['Treat_time', 'drug']).agg({'satisfaction': 'mean'})\n",
    "\n",
    "Dgrouptreat = Dgrouptreat.unstack(level = 1)\n",
    "Dgrouptreat = Dgrouptreat.reindex(treatorder)\n",
    "\n",
    "Dgrouptreat.plot.bar()\n",
    "Dgrouptreat\n",
    "\n"
   ]
  },
  {
   "cell_type": "code",
   "execution_count": 25,
   "metadata": {},
   "outputs": [
    {
     "data": {
      "text/plain": [
       "<matplotlib.axes._subplots.AxesSubplot at 0x264de83f0f0>"
      ]
     },
     "execution_count": 25,
     "metadata": {},
     "output_type": "execute_result"
    },
    {
     "data": {
      "image/png": "[encoded data removed]",
      "text/plain": [
       "<matplotlib.figure.Figure at 0x264de89a908>"
      ]
     },
     "metadata": {},
     "output_type": "display_data"
    }
   ],
   "source": [
    "# treat time vs satisfaction \n",
    "\n",
    "Cgrouptreat = cymbalta.groupby(['Treat_time', 'drug']).agg({'satisfaction': 'mean'}).sort_values('satisfaction')\n",
    "Cgrouptreat.plot.bar()"
   ]
  },
  {
   "cell_type": "code",
   "execution_count": 26,
   "metadata": {},
   "outputs": [
    {
     "data": {
      "text/html": [
       "<div>\n",
       "<style>\n",
       "    .dataframe thead tr:only-child th {\n",
       "        text-align: right;\n",
       "    }\n",
       "\n",
       "    .dataframe thead th {\n",
       "        text-align: left;\n",
       "    }\n",
       "\n",
       "    .dataframe tbody tr th {\n",
       "        vertical-align: top;\n",
       "    }\n",
       "</style>\n",
       "<table border=\"1\" class=\"dataframe\">\n",
       "  <thead>\n",
       "    <tr style=\"text-align: right;\">\n",
       "      <th></th>\n",
       "      <th></th>\n",
       "      <th>satisfaction</th>\n",
       "    </tr>\n",
       "    <tr>\n",
       "      <th>Treat_time</th>\n",
       "      <th>drug</th>\n",
       "      <th></th>\n",
       "    </tr>\n",
       "  </thead>\n",
       "  <tbody>\n",
       "    <tr>\n",
       "      <th>less than 1 month</th>\n",
       "      <th>Effexor</th>\n",
       "      <td>2.174905</td>\n",
       "    </tr>\n",
       "    <tr>\n",
       "      <th>1 to 6 months</th>\n",
       "      <th>Effexor</th>\n",
       "      <td>2.806517</td>\n",
       "    </tr>\n",
       "    <tr>\n",
       "      <th>6 months to less than 1 year</th>\n",
       "      <th>Effexor</th>\n",
       "      <td>2.968454</td>\n",
       "    </tr>\n",
       "    <tr>\n",
       "      <th>1 to less than 2 years</th>\n",
       "      <th>Effexor</th>\n",
       "      <td>3.135897</td>\n",
       "    </tr>\n",
       "    <tr>\n",
       "      <th>2 to less than 5 years</th>\n",
       "      <th>Effexor</th>\n",
       "      <td>3.412983</td>\n",
       "    </tr>\n",
       "    <tr>\n",
       "      <th>5 to less than 10 years</th>\n",
       "      <th>Effexor</th>\n",
       "      <td>3.470707</td>\n",
       "    </tr>\n",
       "    <tr>\n",
       "      <th>10 years or more</th>\n",
       "      <th>Effexor</th>\n",
       "      <td>3.903553</td>\n",
       "    </tr>\n",
       "  </tbody>\n",
       "</table>\n",
       "</div>"
      ],
      "text/plain": [
       "                                      satisfaction\n",
       "Treat_time                   drug                 \n",
       " less than 1 month           Effexor      2.174905\n",
       " 1 to 6 months               Effexor      2.806517\n",
       "6 months to less than 1 year Effexor      2.968454\n",
       "1 to less than 2 years       Effexor      3.135897\n",
       "2 to less than 5 years       Effexor      3.412983\n",
       "5 to less than 10 years      Effexor      3.470707\n",
       " 10 years or more            Effexor      3.903553"
      ]
     },
     "execution_count": 26,
     "metadata": {},
     "output_type": "execute_result"
    },
    {
     "data": {
      "image/png": "[encoded data removed]",
      "text/plain": [
       "<matplotlib.figure.Figure at 0x264de918cc0>"
      ]
     },
     "metadata": {},
     "output_type": "display_data"
    }
   ],
   "source": [
    "# treat time v satisfaction for Effexor only\n",
    "\n",
    "Egrouptreat = effexor.groupby(['Treat_time', 'drug']).agg({'satisfaction': 'mean'}).sort_values('satisfaction')\n",
    "Egrouptreat.plot.bar()\n",
    "Egrouptreat"
   ]
  },
  {
   "cell_type": "code",
   "execution_count": 27,
   "metadata": {},
   "outputs": [
    {
     "name": "stdout",
     "output_type": "stream",
     "text": [
      "{nan, ' less than 1 month', ' 1 to 6 months', ' 10 years or more ', '5 to less than 10 years', '6 months to less than 1 year', '2 to less than 5 years', '1 to less than 2 years'}\n"
     ]
    }
   ],
   "source": [
    "Drugs.Treat_time = Drugs.Treat_time.astype('category')\n",
    "print(set(Drugs.Treat_time))"
   ]
  },
  {
   "cell_type": "code",
   "execution_count": 28,
   "metadata": {
    "collapsed": true
   },
   "outputs": [],
   "source": [
    "Drugs.Treat_time = Drugs.Treat_time.cat.reorder_categories([' less than 1 month', ' 1 to 6 months', '6 months to less than 1 year', '1 to less than 2 years', '2 to less than 5 years', '5 to less than 10 years', ' 10 years or more '])\n",
    "\n"
   ]
  },
  {
   "cell_type": "code",
   "execution_count": 29,
   "metadata": {
    "collapsed": true
   },
   "outputs": [],
   "source": [
    "DGroup2 = Drugs.groupby(['Treat_time', 'drug']).agg({'satisfaction': 'mean'}).reset_index()"
   ]
  },
  {
   "cell_type": "code",
   "execution_count": 30,
   "metadata": {},
   "outputs": [
    {
     "data": {
      "text/plain": [
       "FrozenList([None])"
      ]
     },
     "execution_count": 30,
     "metadata": {},
     "output_type": "execute_result"
    }
   ],
   "source": [
    "DGroup2.index.names"
   ]
  },
  {
   "cell_type": "code",
   "execution_count": 31,
   "metadata": {
    "collapsed": true
   },
   "outputs": [],
   "source": [
    "#Dgroup2.shape\n"
   ]
  },
  {
   "cell_type": "code",
   "execution_count": 32,
   "metadata": {
    "collapsed": true
   },
   "outputs": [],
   "source": [
    "treatlevel = [' less than 1 month', ' 1 to 6 months', '6 months to less than 1 year', '1 to less than 2 years', '2 to less than 5 years', '5 to less than 10 years', ' 10 years or more ']"
   ]
  },
  {
   "cell_type": "code",
   "execution_count": null,
   "metadata": {},
   "outputs": [],
   "source": []
  },
  {
   "cell_type": "code",
   "execution_count": 34,
   "metadata": {},
   "outputs": [
    {
     "data": {
      "text/plain": [
       "<matplotlib.axes._subplots.AxesSubplot at 0x264de8b8828>"
      ]
     },
     "execution_count": 34,
     "metadata": {},
     "output_type": "execute_result"
    },
    {
     "data": {
      "image/png": "[encoded data removed]",
      "text/plain": [
       "<matplotlib.figure.Figure at 0x264de85d630>"
      ]
     },
     "metadata": {},
     "output_type": "display_data"
    }
   ],
   "source": [
    "# satisfaction v. condition \n",
    "\n",
    "Dgroup3 = Drugs.groupby('condition')['satisfaction'].mean().sort_values()\n",
    "Dgroup3.plot.barh()"
   ]
  },
  {
   "cell_type": "code",
   "execution_count": 35,
   "metadata": {},
   "outputs": [
    {
     "name": "stdout",
     "output_type": "stream",
     "text": [
      "condition\n",
      "Osteoporosis                                                    1\n",
      "Attention Deficit Disorder with Hyperactivity                   8\n",
      "Diabetic Complication causing Injury to some Body Nerves       29\n",
      "Anxiousness associated with Depression                         53\n",
      "Extreme Apprehension or Fear of Social Interaction             65\n",
      "Posttraumatic Stress Syndrome                                  80\n",
      "Panic Disorder                                                224\n",
      "\"Change of Life\" Signs                                        249\n",
      "Bipolar Depression                                            253\n",
      "Chronic Muscle or Bone Pain                                   320\n",
      "Disorder characterized by Stiff, Tender & Painful Muscles     350\n",
      "Neuropathic Pain                                              612\n",
      "Other                                                         657\n",
      "Repeated Episodes of Anxiety                                  946\n",
      "Major Depressive Disorder                                    1809\n",
      "Depression                                                   2146\n",
      "Name: age, dtype: int64\n"
     ]
    },
    {
     "data": {
      "image/png": "[encoded data removed]",
      "text/plain": [
       "<matplotlib.figure.Figure at 0x264de9fde48>"
      ]
     },
     "metadata": {},
     "output_type": "display_data"
    }
   ],
   "source": [
    "# yeah, but how often is each condition treated? \n",
    "\n",
    "Dgroup4 = Drugs.groupby('condition')['age'].count().sort_values()\n",
    "Dgroup4.plot.barh()\n",
    "print(Dgroup4)"
   ]
  },
  {
   "cell_type": "code",
   "execution_count": 36,
   "metadata": {},
   "outputs": [
    {
     "data": {
      "text/plain": [
       "{'\"Change of Life\" Signs',\n",
       " 'Anxiousness associated with Depression',\n",
       " 'Attention Deficit Disorder with Hyperactivity',\n",
       " 'Bipolar Depression',\n",
       " 'Chronic Muscle or Bone Pain',\n",
       " 'Depression',\n",
       " 'Diabetic Complication causing Injury to some Body Nerves',\n",
       " 'Disorder characterized by Stiff, Tender & Painful Muscles',\n",
       " 'Extreme Apprehension or Fear of Social Interaction',\n",
       " 'Major Depressive Disorder',\n",
       " 'Neuropathic Pain',\n",
       " 'Osteoporosis',\n",
       " 'Other',\n",
       " 'Panic Disorder',\n",
       " 'Posttraumatic Stress Syndrome',\n",
       " 'Repeated Episodes of Anxiety'}"
      ]
     },
     "execution_count": 36,
     "metadata": {},
     "output_type": "execute_result"
    }
   ],
   "source": [
    "set(Drugs.condition)"
   ]
  },
  {
   "cell_type": "code",
   "execution_count": 37,
   "metadata": {},
   "outputs": [
    {
     "name": "stdout",
     "output_type": "stream",
     "text": [
      "6176\n",
      "2127\n",
      "8303\n"
     ]
    }
   ],
   "source": [
    "# let's try to group these in to 'behavior', 'pain', 'other'\n",
    "\n",
    "pattern = (r\"\\bDepressive\\b|\\bAnxiety\\b|\\bDepression\\b|\\bAttention\\b|\\bApprehension\\b|\\bPanic\\b|\\bStress\\b|\\bChange\\b\")\n",
    "\n",
    "print(sum(Drugs.condition.str.contains(pattern)))\n",
    "print(len(Drugs) - sum(Drugs.condition.str.contains(pattern)))\n",
    "print(len(Drugs))"
   ]
  },
  {
   "cell_type": "code",
   "execution_count": 38,
   "metadata": {},
   "outputs": [
    {
     "name": "stdout",
     "output_type": "stream",
     "text": [
      "709\n"
     ]
    }
   ],
   "source": [
    "print(sum(Drugs.condition.str.contains(\"Other\")))"
   ]
  },
  {
   "cell_type": "code",
   "execution_count": 39,
   "metadata": {
    "collapsed": true
   },
   "outputs": [],
   "source": [
    "Drugs['cat'] = np.nan"
   ]
  },
  {
   "cell_type": "code",
   "execution_count": 40,
   "metadata": {},
   "outputs": [
    {
     "name": "stderr",
     "output_type": "stream",
     "text": [
      "C:\\Users\\Gardenia\\Anaconda3\\lib\\site-packages\\ipykernel_launcher.py:1: SettingWithCopyWarning: \n",
      "A value is trying to be set on a copy of a slice from a DataFrame\n",
      "\n",
      "See the caveats in the documentation: http://pandas.pydata.org/pandas-docs/stable/indexing.html#indexing-view-versus-copy\n",
      "  \"\"\"Entry point for launching an IPython kernel.\n",
      "C:\\Users\\Gardenia\\Anaconda3\\lib\\site-packages\\ipykernel_launcher.py:2: SettingWithCopyWarning: \n",
      "A value is trying to be set on a copy of a slice from a DataFrame\n",
      "\n",
      "See the caveats in the documentation: http://pandas.pydata.org/pandas-docs/stable/indexing.html#indexing-view-versus-copy\n",
      "  \n"
     ]
    }
   ],
   "source": [
    "Drugs['cat'][Drugs.condition.str.contains(pattern)] = 'Behavior'\n",
    "Drugs['cat'][Drugs.condition.str.contains('Other')] = 'Other'\n"
   ]
  },
  {
   "cell_type": "code",
   "execution_count": 41,
   "metadata": {},
   "outputs": [
    {
     "data": {
      "text/html": [
       "<div>\n",
       "<style>\n",
       "    .dataframe thead tr:only-child th {\n",
       "        text-align: right;\n",
       "    }\n",
       "\n",
       "    .dataframe thead th {\n",
       "        text-align: left;\n",
       "    }\n",
       "\n",
       "    .dataframe tbody tr th {\n",
       "        vertical-align: top;\n",
       "    }\n",
       "</style>\n",
       "<table border=\"1\" class=\"dataframe\">\n",
       "  <thead>\n",
       "    <tr style=\"text-align: right;\">\n",
       "      <th></th>\n",
       "      <th>Date_time</th>\n",
       "      <th>condition</th>\n",
       "      <th>age</th>\n",
       "      <th>sex</th>\n",
       "      <th>Treat_time</th>\n",
       "      <th>ease</th>\n",
       "      <th>effective</th>\n",
       "      <th>satisfaction</th>\n",
       "      <th>comment</th>\n",
       "      <th>year</th>\n",
       "      <th>month</th>\n",
       "      <th>time_mark</th>\n",
       "      <th>drug</th>\n",
       "      <th>cat</th>\n",
       "    </tr>\n",
       "  </thead>\n",
       "  <tbody>\n",
       "    <tr>\n",
       "      <th>0</th>\n",
       "      <td>2007-09-20 01:48:50</td>\n",
       "      <td>Major Depressive Disorder</td>\n",
       "      <td>45-54</td>\n",
       "      <td>Female</td>\n",
       "      <td>2 to less than 5 years</td>\n",
       "      <td>5</td>\n",
       "      <td>5</td>\n",
       "      <td>5</td>\n",
       "      <td>I have been taking Cymbalta for depression and...</td>\n",
       "      <td>2007</td>\n",
       "      <td>9</td>\n",
       "      <td>1.190253e+18</td>\n",
       "      <td>Cymbalta</td>\n",
       "      <td>Behavior</td>\n",
       "    </tr>\n",
       "    <tr>\n",
       "      <th>1</th>\n",
       "      <td>2007-09-20 14:15:07</td>\n",
       "      <td>Repeated Episodes of Anxiety</td>\n",
       "      <td>45-54</td>\n",
       "      <td>Female</td>\n",
       "      <td>5 to less than 10 years</td>\n",
       "      <td>5</td>\n",
       "      <td>5</td>\n",
       "      <td>4</td>\n",
       "      <td>It has worked better for me than any other med...</td>\n",
       "      <td>2007</td>\n",
       "      <td>9</td>\n",
       "      <td>1.190298e+18</td>\n",
       "      <td>Cymbalta</td>\n",
       "      <td>Behavior</td>\n",
       "    </tr>\n",
       "    <tr>\n",
       "      <th>2</th>\n",
       "      <td>2007-09-21 18:05:58</td>\n",
       "      <td>Neuropathic Pain</td>\n",
       "      <td>45-54</td>\n",
       "      <td>Female</td>\n",
       "      <td>1 to 6 months</td>\n",
       "      <td>1</td>\n",
       "      <td>1</td>\n",
       "      <td>1</td>\n",
       "      <td>I have MS and mhave been treated for depressio...</td>\n",
       "      <td>2007</td>\n",
       "      <td>9</td>\n",
       "      <td>1.190398e+18</td>\n",
       "      <td>Cymbalta</td>\n",
       "      <td>NaN</td>\n",
       "    </tr>\n",
       "    <tr>\n",
       "      <th>3</th>\n",
       "      <td>2007-09-22 06:13:37</td>\n",
       "      <td>Major Depressive Disorder</td>\n",
       "      <td>19-24</td>\n",
       "      <td>Female</td>\n",
       "      <td>1 to 6 months</td>\n",
       "      <td>5</td>\n",
       "      <td>3</td>\n",
       "      <td>3</td>\n",
       "      <td>I was on this medication to help alleviate my ...</td>\n",
       "      <td>2007</td>\n",
       "      <td>9</td>\n",
       "      <td>1.190442e+18</td>\n",
       "      <td>Cymbalta</td>\n",
       "      <td>Behavior</td>\n",
       "    </tr>\n",
       "    <tr>\n",
       "      <th>4</th>\n",
       "      <td>2007-09-22 11:55:28</td>\n",
       "      <td>Neuropathic Pain</td>\n",
       "      <td>65-74</td>\n",
       "      <td>Female</td>\n",
       "      <td>1 to 6 months</td>\n",
       "      <td>5</td>\n",
       "      <td>5</td>\n",
       "      <td>5</td>\n",
       "      <td>I have suffered with Fibromyalgia for years.  ...</td>\n",
       "      <td>2007</td>\n",
       "      <td>9</td>\n",
       "      <td>1.190462e+18</td>\n",
       "      <td>Cymbalta</td>\n",
       "      <td>NaN</td>\n",
       "    </tr>\n",
       "    <tr>\n",
       "      <th>5</th>\n",
       "      <td>2007-09-22 18:39:36</td>\n",
       "      <td>Repeated Episodes of Anxiety</td>\n",
       "      <td>35-44</td>\n",
       "      <td>Female</td>\n",
       "      <td>6 months to less than 1 year</td>\n",
       "      <td>5</td>\n",
       "      <td>4</td>\n",
       "      <td>4</td>\n",
       "      <td>This drug works very good for me, however, if ...</td>\n",
       "      <td>2007</td>\n",
       "      <td>9</td>\n",
       "      <td>1.190486e+18</td>\n",
       "      <td>Cymbalta</td>\n",
       "      <td>Behavior</td>\n",
       "    </tr>\n",
       "    <tr>\n",
       "      <th>6</th>\n",
       "      <td>2007-09-23 23:29:22</td>\n",
       "      <td>Repeated Episodes of Anxiety</td>\n",
       "      <td>19-24</td>\n",
       "      <td>Female</td>\n",
       "      <td>1 to 6 months</td>\n",
       "      <td>5</td>\n",
       "      <td>5</td>\n",
       "      <td>5</td>\n",
       "      <td>I recommend this drug for anyone else who has ...</td>\n",
       "      <td>2007</td>\n",
       "      <td>9</td>\n",
       "      <td>1.190590e+18</td>\n",
       "      <td>Cymbalta</td>\n",
       "      <td>Behavior</td>\n",
       "    </tr>\n",
       "    <tr>\n",
       "      <th>7</th>\n",
       "      <td>2007-09-24 14:43:20</td>\n",
       "      <td>Major Depressive Disorder</td>\n",
       "      <td>NaN</td>\n",
       "      <td>NaN</td>\n",
       "      <td>NaN</td>\n",
       "      <td>5</td>\n",
       "      <td>4</td>\n",
       "      <td>4</td>\n",
       "      <td>cymbalta has been easy to adjust with minimal ...</td>\n",
       "      <td>2007</td>\n",
       "      <td>9</td>\n",
       "      <td>1.190645e+18</td>\n",
       "      <td>Cymbalta</td>\n",
       "      <td>Behavior</td>\n",
       "    </tr>\n",
       "    <tr>\n",
       "      <th>8</th>\n",
       "      <td>2007-09-24 18:40:14</td>\n",
       "      <td>Other</td>\n",
       "      <td>25-34</td>\n",
       "      <td>Female</td>\n",
       "      <td>1 to 6 months</td>\n",
       "      <td>5</td>\n",
       "      <td>4</td>\n",
       "      <td>4</td>\n",
       "      <td>I have chronic pain, and some anxiety/depressi...</td>\n",
       "      <td>2007</td>\n",
       "      <td>9</td>\n",
       "      <td>1.190659e+18</td>\n",
       "      <td>Cymbalta</td>\n",
       "      <td>Other</td>\n",
       "    </tr>\n",
       "    <tr>\n",
       "      <th>9</th>\n",
       "      <td>2007-09-24 19:31:16</td>\n",
       "      <td>Major Depressive Disorder</td>\n",
       "      <td>55-64</td>\n",
       "      <td>Female</td>\n",
       "      <td>1 to 6 months</td>\n",
       "      <td>1</td>\n",
       "      <td>2</td>\n",
       "      <td>1</td>\n",
       "      <td>I tried this med but found expensive and did n...</td>\n",
       "      <td>2007</td>\n",
       "      <td>9</td>\n",
       "      <td>1.190662e+18</td>\n",
       "      <td>Cymbalta</td>\n",
       "      <td>Behavior</td>\n",
       "    </tr>\n",
       "    <tr>\n",
       "      <th>10</th>\n",
       "      <td>2007-09-24 19:44:29</td>\n",
       "      <td>Major Depressive Disorder</td>\n",
       "      <td>NaN</td>\n",
       "      <td>NaN</td>\n",
       "      <td>NaN</td>\n",
       "      <td>5</td>\n",
       "      <td>5</td>\n",
       "      <td>4</td>\n",
       "      <td>i have gone back on it a couple of times for m...</td>\n",
       "      <td>2007</td>\n",
       "      <td>9</td>\n",
       "      <td>1.190663e+18</td>\n",
       "      <td>Cymbalta</td>\n",
       "      <td>Behavior</td>\n",
       "    </tr>\n",
       "    <tr>\n",
       "      <th>11</th>\n",
       "      <td>2007-09-24 22:52:52</td>\n",
       "      <td>Major Depressive Disorder</td>\n",
       "      <td>25-34</td>\n",
       "      <td>Female</td>\n",
       "      <td>1 to 6 months</td>\n",
       "      <td>5</td>\n",
       "      <td>4</td>\n",
       "      <td>4</td>\n",
       "      <td>I'm a 30 year old female and started with 30 m...</td>\n",
       "      <td>2007</td>\n",
       "      <td>9</td>\n",
       "      <td>1.190674e+18</td>\n",
       "      <td>Cymbalta</td>\n",
       "      <td>Behavior</td>\n",
       "    </tr>\n",
       "    <tr>\n",
       "      <th>12</th>\n",
       "      <td>2007-09-25 00:09:32</td>\n",
       "      <td>Other</td>\n",
       "      <td>19-24</td>\n",
       "      <td>Female</td>\n",
       "      <td>less than 1 month</td>\n",
       "      <td>1</td>\n",
       "      <td>1</td>\n",
       "      <td>1</td>\n",
       "      <td>Makes me very very tired</td>\n",
       "      <td>2007</td>\n",
       "      <td>9</td>\n",
       "      <td>1.190679e+18</td>\n",
       "      <td>Cymbalta</td>\n",
       "      <td>Other</td>\n",
       "    </tr>\n",
       "    <tr>\n",
       "      <th>13</th>\n",
       "      <td>2007-09-25 08:05:44</td>\n",
       "      <td>Repeated Episodes of Anxiety</td>\n",
       "      <td>NaN</td>\n",
       "      <td>NaN</td>\n",
       "      <td>1 to 6 months</td>\n",
       "      <td>5</td>\n",
       "      <td>4</td>\n",
       "      <td>5</td>\n",
       "      <td>Cymbalta's effectiveness was gradual. So much ...</td>\n",
       "      <td>2007</td>\n",
       "      <td>9</td>\n",
       "      <td>1.190708e+18</td>\n",
       "      <td>Cymbalta</td>\n",
       "      <td>Behavior</td>\n",
       "    </tr>\n",
       "    <tr>\n",
       "      <th>14</th>\n",
       "      <td>2007-09-25 11:36:27</td>\n",
       "      <td>Major Depressive Disorder</td>\n",
       "      <td>55-64</td>\n",
       "      <td>Male</td>\n",
       "      <td>1 to less than 2 years</td>\n",
       "      <td>5</td>\n",
       "      <td>3</td>\n",
       "      <td>3</td>\n",
       "      <td>Cymbalta has been fairly well effective at all...</td>\n",
       "      <td>2007</td>\n",
       "      <td>9</td>\n",
       "      <td>1.190720e+18</td>\n",
       "      <td>Cymbalta</td>\n",
       "      <td>Behavior</td>\n",
       "    </tr>\n",
       "    <tr>\n",
       "      <th>15</th>\n",
       "      <td>2007-09-25 15:23:36</td>\n",
       "      <td>Other</td>\n",
       "      <td>NaN</td>\n",
       "      <td>Male</td>\n",
       "      <td>less than 1 month</td>\n",
       "      <td>1</td>\n",
       "      <td>1</td>\n",
       "      <td>1</td>\n",
       "      <td>After researching this drug when prescribed by...</td>\n",
       "      <td>2007</td>\n",
       "      <td>9</td>\n",
       "      <td>1.190734e+18</td>\n",
       "      <td>Cymbalta</td>\n",
       "      <td>Other</td>\n",
       "    </tr>\n",
       "    <tr>\n",
       "      <th>16</th>\n",
       "      <td>2007-09-25 19:16:34</td>\n",
       "      <td>Major Depressive Disorder</td>\n",
       "      <td>45-54</td>\n",
       "      <td>Female</td>\n",
       "      <td>2 to less than 5 years</td>\n",
       "      <td>5</td>\n",
       "      <td>5</td>\n",
       "      <td>5</td>\n",
       "      <td>I have both major depression and fibromyalgia....</td>\n",
       "      <td>2007</td>\n",
       "      <td>9</td>\n",
       "      <td>1.190748e+18</td>\n",
       "      <td>Cymbalta</td>\n",
       "      <td>Behavior</td>\n",
       "    </tr>\n",
       "    <tr>\n",
       "      <th>17</th>\n",
       "      <td>2007-09-25 20:44:00</td>\n",
       "      <td>Other</td>\n",
       "      <td>55-64</td>\n",
       "      <td>Female</td>\n",
       "      <td>6 months to less than 1 year</td>\n",
       "      <td>5</td>\n",
       "      <td>3</td>\n",
       "      <td>3</td>\n",
       "      <td>I feel that Cymbalta may help somewhat for dep...</td>\n",
       "      <td>2007</td>\n",
       "      <td>9</td>\n",
       "      <td>1.190753e+18</td>\n",
       "      <td>Cymbalta</td>\n",
       "      <td>Other</td>\n",
       "    </tr>\n",
       "    <tr>\n",
       "      <th>18</th>\n",
       "      <td>2007-09-27 02:18:59</td>\n",
       "      <td>Major Depressive Disorder</td>\n",
       "      <td>35-44</td>\n",
       "      <td>Female</td>\n",
       "      <td>1 to less than 2 years</td>\n",
       "      <td>5</td>\n",
       "      <td>4</td>\n",
       "      <td>4</td>\n",
       "      <td>I was started on this drug in January 2006 for...</td>\n",
       "      <td>2007</td>\n",
       "      <td>9</td>\n",
       "      <td>1.190860e+18</td>\n",
       "      <td>Cymbalta</td>\n",
       "      <td>Behavior</td>\n",
       "    </tr>\n",
       "    <tr>\n",
       "      <th>19</th>\n",
       "      <td>2007-09-27 09:21:24</td>\n",
       "      <td>Major Depressive Disorder</td>\n",
       "      <td>25-34</td>\n",
       "      <td>Female</td>\n",
       "      <td>2 to less than 5 years</td>\n",
       "      <td>5</td>\n",
       "      <td>5</td>\n",
       "      <td>5</td>\n",
       "      <td>I have tried several different medications, Pr...</td>\n",
       "      <td>2007</td>\n",
       "      <td>9</td>\n",
       "      <td>1.190885e+18</td>\n",
       "      <td>Cymbalta</td>\n",
       "      <td>Behavior</td>\n",
       "    </tr>\n",
       "    <tr>\n",
       "      <th>20</th>\n",
       "      <td>2007-09-28 12:35:16</td>\n",
       "      <td>Major Depressive Disorder</td>\n",
       "      <td>25-34</td>\n",
       "      <td>Female</td>\n",
       "      <td>1 to 6 months</td>\n",
       "      <td>5</td>\n",
       "      <td>5</td>\n",
       "      <td>5</td>\n",
       "      <td>Through Christian counseling, lots of prayers,...</td>\n",
       "      <td>2007</td>\n",
       "      <td>9</td>\n",
       "      <td>1.190983e+18</td>\n",
       "      <td>Cymbalta</td>\n",
       "      <td>Behavior</td>\n",
       "    </tr>\n",
       "    <tr>\n",
       "      <th>21</th>\n",
       "      <td>2007-09-28 13:21:21</td>\n",
       "      <td>Neuropathic Pain</td>\n",
       "      <td>65-74</td>\n",
       "      <td>Female</td>\n",
       "      <td>2 to less than 5 years</td>\n",
       "      <td>4</td>\n",
       "      <td>4</td>\n",
       "      <td>4</td>\n",
       "      <td>I am not diabetic, however I have peripheral n...</td>\n",
       "      <td>2007</td>\n",
       "      <td>9</td>\n",
       "      <td>1.190986e+18</td>\n",
       "      <td>Cymbalta</td>\n",
       "      <td>NaN</td>\n",
       "    </tr>\n",
       "    <tr>\n",
       "      <th>22</th>\n",
       "      <td>2007-09-28 15:05:24</td>\n",
       "      <td>Other</td>\n",
       "      <td>35-44</td>\n",
       "      <td>Female</td>\n",
       "      <td>1 to less than 2 years</td>\n",
       "      <td>4</td>\n",
       "      <td>3</td>\n",
       "      <td>3</td>\n",
       "      <td>I have chronic  back pain and my doctor mentio...</td>\n",
       "      <td>2007</td>\n",
       "      <td>9</td>\n",
       "      <td>1.190992e+18</td>\n",
       "      <td>Cymbalta</td>\n",
       "      <td>Other</td>\n",
       "    </tr>\n",
       "    <tr>\n",
       "      <th>23</th>\n",
       "      <td>2007-09-28 19:54:21</td>\n",
       "      <td>Neuropathic Pain</td>\n",
       "      <td>35-44</td>\n",
       "      <td>Female</td>\n",
       "      <td>2 to less than 5 years</td>\n",
       "      <td>4</td>\n",
       "      <td>3</td>\n",
       "      <td>4</td>\n",
       "      <td>I was given this medicine to help my sleep/pai...</td>\n",
       "      <td>2007</td>\n",
       "      <td>9</td>\n",
       "      <td>1.191009e+18</td>\n",
       "      <td>Cymbalta</td>\n",
       "      <td>NaN</td>\n",
       "    </tr>\n",
       "    <tr>\n",
       "      <th>24</th>\n",
       "      <td>2007-09-28 20:52:50</td>\n",
       "      <td>Major Depressive Disorder</td>\n",
       "      <td>45-54</td>\n",
       "      <td>Female</td>\n",
       "      <td>2 to less than 5 years</td>\n",
       "      <td>5</td>\n",
       "      <td>5</td>\n",
       "      <td>5</td>\n",
       "      <td>Used for several years. Have been out for abou...</td>\n",
       "      <td>2007</td>\n",
       "      <td>9</td>\n",
       "      <td>1.191013e+18</td>\n",
       "      <td>Cymbalta</td>\n",
       "      <td>Behavior</td>\n",
       "    </tr>\n",
       "    <tr>\n",
       "      <th>25</th>\n",
       "      <td>2007-09-29 09:14:51</td>\n",
       "      <td>Neuropathic Pain</td>\n",
       "      <td>65-74</td>\n",
       "      <td>Female</td>\n",
       "      <td>6 months to less than 1 year</td>\n",
       "      <td>5</td>\n",
       "      <td>5</td>\n",
       "      <td>5</td>\n",
       "      <td>I used to wake everynight with leg pains and s...</td>\n",
       "      <td>2007</td>\n",
       "      <td>9</td>\n",
       "      <td>1.191057e+18</td>\n",
       "      <td>Cymbalta</td>\n",
       "      <td>NaN</td>\n",
       "    </tr>\n",
       "    <tr>\n",
       "      <th>26</th>\n",
       "      <td>2007-09-29 21:31:08</td>\n",
       "      <td>Major Depressive Disorder</td>\n",
       "      <td>45-54</td>\n",
       "      <td>Male</td>\n",
       "      <td>less than 1 month</td>\n",
       "      <td>4</td>\n",
       "      <td>4</td>\n",
       "      <td>4</td>\n",
       "      <td>Could feel effects within 4 days.  Beleive it ...</td>\n",
       "      <td>2007</td>\n",
       "      <td>9</td>\n",
       "      <td>1.191101e+18</td>\n",
       "      <td>Cymbalta</td>\n",
       "      <td>Behavior</td>\n",
       "    </tr>\n",
       "    <tr>\n",
       "      <th>27</th>\n",
       "      <td>2007-09-30 21:47:22</td>\n",
       "      <td>Other</td>\n",
       "      <td>35-44</td>\n",
       "      <td>Female</td>\n",
       "      <td>1 to 6 months</td>\n",
       "      <td>5</td>\n",
       "      <td>3</td>\n",
       "      <td>4</td>\n",
       "      <td>I was recently placed on Cymbalta to treat my ...</td>\n",
       "      <td>2007</td>\n",
       "      <td>9</td>\n",
       "      <td>1.191189e+18</td>\n",
       "      <td>Cymbalta</td>\n",
       "      <td>Other</td>\n",
       "    </tr>\n",
       "    <tr>\n",
       "      <th>28</th>\n",
       "      <td>2007-10-01 13:29:29</td>\n",
       "      <td>Major Depressive Disorder</td>\n",
       "      <td>25-34</td>\n",
       "      <td>Female</td>\n",
       "      <td>6 months to less than 1 year</td>\n",
       "      <td>5</td>\n",
       "      <td>5</td>\n",
       "      <td>5</td>\n",
       "      <td>I lost my husband a year and a half ago.  I ha...</td>\n",
       "      <td>2007</td>\n",
       "      <td>10</td>\n",
       "      <td>1.191245e+18</td>\n",
       "      <td>Cymbalta</td>\n",
       "      <td>Behavior</td>\n",
       "    </tr>\n",
       "    <tr>\n",
       "      <th>29</th>\n",
       "      <td>2007-10-01 18:43:40</td>\n",
       "      <td>Major Depressive Disorder</td>\n",
       "      <td>25-34</td>\n",
       "      <td>Female</td>\n",
       "      <td>1 to 6 months</td>\n",
       "      <td>5</td>\n",
       "      <td>5</td>\n",
       "      <td>5</td>\n",
       "      <td>By being placed on Cymbalta, I have felt incre...</td>\n",
       "      <td>2007</td>\n",
       "      <td>10</td>\n",
       "      <td>1.191264e+18</td>\n",
       "      <td>Cymbalta</td>\n",
       "      <td>Behavior</td>\n",
       "    </tr>\n",
       "    <tr>\n",
       "      <th>...</th>\n",
       "      <td>...</td>\n",
       "      <td>...</td>\n",
       "      <td>...</td>\n",
       "      <td>...</td>\n",
       "      <td>...</td>\n",
       "      <td>...</td>\n",
       "      <td>...</td>\n",
       "      <td>...</td>\n",
       "      <td>...</td>\n",
       "      <td>...</td>\n",
       "      <td>...</td>\n",
       "      <td>...</td>\n",
       "      <td>...</td>\n",
       "      <td>...</td>\n",
       "    </tr>\n",
       "    <tr>\n",
       "      <th>1139</th>\n",
       "      <td>2015-05-10 01:15:10</td>\n",
       "      <td>Depression</td>\n",
       "      <td>NaN</td>\n",
       "      <td>Female</td>\n",
       "      <td>5 to less than 10 years</td>\n",
       "      <td>5</td>\n",
       "      <td>5</td>\n",
       "      <td>4</td>\n",
       "      <td>*headaches. Effexor XR was the only antidepres...</td>\n",
       "      <td>2015</td>\n",
       "      <td>5</td>\n",
       "      <td>1.431221e+18</td>\n",
       "      <td>Pristiq</td>\n",
       "      <td>Behavior</td>\n",
       "    </tr>\n",
       "    <tr>\n",
       "      <th>1140</th>\n",
       "      <td>2015-06-02 01:32:56</td>\n",
       "      <td>Depression</td>\n",
       "      <td>25-34</td>\n",
       "      <td>Female</td>\n",
       "      <td>1 to 6 months</td>\n",
       "      <td>4</td>\n",
       "      <td>1</td>\n",
       "      <td>1</td>\n",
       "      <td>Been on this for about 4 months now, have gone...</td>\n",
       "      <td>2015</td>\n",
       "      <td>6</td>\n",
       "      <td>1.433209e+18</td>\n",
       "      <td>Pristiq</td>\n",
       "      <td>Behavior</td>\n",
       "    </tr>\n",
       "    <tr>\n",
       "      <th>1141</th>\n",
       "      <td>2015-06-12 23:05:50</td>\n",
       "      <td>Panic Disorder</td>\n",
       "      <td>45-54</td>\n",
       "      <td>Female</td>\n",
       "      <td>2 to less than 5 years</td>\n",
       "      <td>5</td>\n",
       "      <td>5</td>\n",
       "      <td>5</td>\n",
       "      <td>I have been on pristiq for two years to treat ...</td>\n",
       "      <td>2015</td>\n",
       "      <td>6</td>\n",
       "      <td>1.434150e+18</td>\n",
       "      <td>Pristiq</td>\n",
       "      <td>Behavior</td>\n",
       "    </tr>\n",
       "    <tr>\n",
       "      <th>1142</th>\n",
       "      <td>2015-06-15 05:57:27</td>\n",
       "      <td>Depression</td>\n",
       "      <td>25-34</td>\n",
       "      <td>Female</td>\n",
       "      <td>1 to 6 months</td>\n",
       "      <td>5</td>\n",
       "      <td>3</td>\n",
       "      <td>3</td>\n",
       "      <td>Ok, im going to sum it up for the \"50 mg\"\\r\\r\\...</td>\n",
       "      <td>2015</td>\n",
       "      <td>6</td>\n",
       "      <td>1.434348e+18</td>\n",
       "      <td>Pristiq</td>\n",
       "      <td>Behavior</td>\n",
       "    </tr>\n",
       "    <tr>\n",
       "      <th>1143</th>\n",
       "      <td>2015-08-10 19:03:44</td>\n",
       "      <td>Major Depressive Disorder</td>\n",
       "      <td>35-44</td>\n",
       "      <td>Male</td>\n",
       "      <td>1 to 6 months</td>\n",
       "      <td>1</td>\n",
       "      <td>1</td>\n",
       "      <td>1</td>\n",
       "      <td>This is the worst drug I tried out there !!!!!...</td>\n",
       "      <td>2015</td>\n",
       "      <td>8</td>\n",
       "      <td>1.439233e+18</td>\n",
       "      <td>Pristiq</td>\n",
       "      <td>Behavior</td>\n",
       "    </tr>\n",
       "    <tr>\n",
       "      <th>1144</th>\n",
       "      <td>2015-09-18 14:45:15</td>\n",
       "      <td>Depression</td>\n",
       "      <td>19-24</td>\n",
       "      <td>Female</td>\n",
       "      <td>1 to 6 months</td>\n",
       "      <td>5</td>\n",
       "      <td>5</td>\n",
       "      <td>4</td>\n",
       "      <td>At first the 50mg dosage made me extremely dro...</td>\n",
       "      <td>2015</td>\n",
       "      <td>9</td>\n",
       "      <td>1.442588e+18</td>\n",
       "      <td>Pristiq</td>\n",
       "      <td>Behavior</td>\n",
       "    </tr>\n",
       "    <tr>\n",
       "      <th>1145</th>\n",
       "      <td>2015-10-28 16:00:06</td>\n",
       "      <td>Major Depressive Disorder</td>\n",
       "      <td>NaN</td>\n",
       "      <td>Female</td>\n",
       "      <td>less than 1 month</td>\n",
       "      <td>5</td>\n",
       "      <td>1</td>\n",
       "      <td>1</td>\n",
       "      <td>Therapist asked me to try Pristiq and so stopp...</td>\n",
       "      <td>2015</td>\n",
       "      <td>10</td>\n",
       "      <td>1.446048e+18</td>\n",
       "      <td>Pristiq</td>\n",
       "      <td>Behavior</td>\n",
       "    </tr>\n",
       "    <tr>\n",
       "      <th>1146</th>\n",
       "      <td>2015-11-28 07:51:25</td>\n",
       "      <td>Depression</td>\n",
       "      <td>45-54</td>\n",
       "      <td>Female</td>\n",
       "      <td>less than 1 month</td>\n",
       "      <td>4</td>\n",
       "      <td>3</td>\n",
       "      <td>2</td>\n",
       "      <td>Loss of appetite, headaches, inability to stay...</td>\n",
       "      <td>2015</td>\n",
       "      <td>11</td>\n",
       "      <td>1.448697e+18</td>\n",
       "      <td>Pristiq</td>\n",
       "      <td>Behavior</td>\n",
       "    </tr>\n",
       "    <tr>\n",
       "      <th>1147</th>\n",
       "      <td>2015-12-11 22:33:11</td>\n",
       "      <td>Depression</td>\n",
       "      <td>19-24</td>\n",
       "      <td>NaN</td>\n",
       "      <td>2 to less than 5 years</td>\n",
       "      <td>5</td>\n",
       "      <td>5</td>\n",
       "      <td>5</td>\n",
       "      <td>I've have terrible anxiety for as long as I ca...</td>\n",
       "      <td>2015</td>\n",
       "      <td>12</td>\n",
       "      <td>1.449873e+18</td>\n",
       "      <td>Pristiq</td>\n",
       "      <td>Behavior</td>\n",
       "    </tr>\n",
       "    <tr>\n",
       "      <th>1148</th>\n",
       "      <td>2016-01-18 14:12:58</td>\n",
       "      <td>Depression</td>\n",
       "      <td>25-34</td>\n",
       "      <td>Female</td>\n",
       "      <td>6 months to less than 1 year</td>\n",
       "      <td>5</td>\n",
       "      <td>5</td>\n",
       "      <td>5</td>\n",
       "      <td>This medication has saved my life. My main sid...</td>\n",
       "      <td>2016</td>\n",
       "      <td>1</td>\n",
       "      <td>1.453126e+18</td>\n",
       "      <td>Pristiq</td>\n",
       "      <td>Behavior</td>\n",
       "    </tr>\n",
       "    <tr>\n",
       "      <th>1149</th>\n",
       "      <td>2016-01-23 16:34:46</td>\n",
       "      <td>Depression</td>\n",
       "      <td>55-64</td>\n",
       "      <td>NaN</td>\n",
       "      <td>2 to less than 5 years</td>\n",
       "      <td>5</td>\n",
       "      <td>5</td>\n",
       "      <td>3</td>\n",
       "      <td>I started on Pristiq over two years ago. Two o...</td>\n",
       "      <td>2016</td>\n",
       "      <td>1</td>\n",
       "      <td>1.453567e+18</td>\n",
       "      <td>Pristiq</td>\n",
       "      <td>Behavior</td>\n",
       "    </tr>\n",
       "    <tr>\n",
       "      <th>1150</th>\n",
       "      <td>2016-01-27 20:15:18</td>\n",
       "      <td>Depression</td>\n",
       "      <td>25-34</td>\n",
       "      <td>NaN</td>\n",
       "      <td>2 to less than 5 years</td>\n",
       "      <td>3</td>\n",
       "      <td>3</td>\n",
       "      <td>2</td>\n",
       "      <td>Pristiq helped with my depression and anxiety,...</td>\n",
       "      <td>2016</td>\n",
       "      <td>1</td>\n",
       "      <td>1.453926e+18</td>\n",
       "      <td>Pristiq</td>\n",
       "      <td>Behavior</td>\n",
       "    </tr>\n",
       "    <tr>\n",
       "      <th>1151</th>\n",
       "      <td>2016-02-01 19:34:39</td>\n",
       "      <td>Depression</td>\n",
       "      <td>45-54</td>\n",
       "      <td>Female</td>\n",
       "      <td>less than 1 month</td>\n",
       "      <td>5</td>\n",
       "      <td>1</td>\n",
       "      <td>1</td>\n",
       "      <td>Like many of you, I have tried different antid...</td>\n",
       "      <td>2016</td>\n",
       "      <td>2</td>\n",
       "      <td>1.454355e+18</td>\n",
       "      <td>Pristiq</td>\n",
       "      <td>Behavior</td>\n",
       "    </tr>\n",
       "    <tr>\n",
       "      <th>1152</th>\n",
       "      <td>2016-04-04 11:05:33</td>\n",
       "      <td>Bipolar Depression</td>\n",
       "      <td>65-74</td>\n",
       "      <td>NaN</td>\n",
       "      <td>2 to less than 5 years</td>\n",
       "      <td>4</td>\n",
       "      <td>4</td>\n",
       "      <td>4</td>\n",
       "      <td>Like many others with bipolar depression, I've...</td>\n",
       "      <td>2016</td>\n",
       "      <td>4</td>\n",
       "      <td>1.459768e+18</td>\n",
       "      <td>Pristiq</td>\n",
       "      <td>Behavior</td>\n",
       "    </tr>\n",
       "    <tr>\n",
       "      <th>1153</th>\n",
       "      <td>2016-06-04 08:18:12</td>\n",
       "      <td>Depression</td>\n",
       "      <td>45-54</td>\n",
       "      <td>NaN</td>\n",
       "      <td>1 to 6 months</td>\n",
       "      <td>4</td>\n",
       "      <td>4</td>\n",
       "      <td>3</td>\n",
       "      <td>I've changed from prozac to pristiq because pr...</td>\n",
       "      <td>2016</td>\n",
       "      <td>6</td>\n",
       "      <td>1.465028e+18</td>\n",
       "      <td>Pristiq</td>\n",
       "      <td>Behavior</td>\n",
       "    </tr>\n",
       "    <tr>\n",
       "      <th>1154</th>\n",
       "      <td>2016-06-06 23:41:46</td>\n",
       "      <td>Repeated Episodes of Anxiety</td>\n",
       "      <td>NaN</td>\n",
       "      <td>Female</td>\n",
       "      <td>NaN</td>\n",
       "      <td>3</td>\n",
       "      <td>1</td>\n",
       "      <td>1</td>\n",
       "      <td>I was prescribed this medication for depressio...</td>\n",
       "      <td>2016</td>\n",
       "      <td>6</td>\n",
       "      <td>1.465257e+18</td>\n",
       "      <td>Pristiq</td>\n",
       "      <td>Behavior</td>\n",
       "    </tr>\n",
       "    <tr>\n",
       "      <th>1155</th>\n",
       "      <td>2016-06-22 09:27:15</td>\n",
       "      <td>Depression</td>\n",
       "      <td>19-24</td>\n",
       "      <td>Female</td>\n",
       "      <td>6 months to less than 1 year</td>\n",
       "      <td>4</td>\n",
       "      <td>1</td>\n",
       "      <td>1</td>\n",
       "      <td>I was prescribed this medication to supplement...</td>\n",
       "      <td>2016</td>\n",
       "      <td>6</td>\n",
       "      <td>1.466588e+18</td>\n",
       "      <td>Pristiq</td>\n",
       "      <td>Behavior</td>\n",
       "    </tr>\n",
       "    <tr>\n",
       "      <th>1156</th>\n",
       "      <td>2016-07-01 22:33:57</td>\n",
       "      <td>Major Depressive Disorder</td>\n",
       "      <td>55-64</td>\n",
       "      <td>NaN</td>\n",
       "      <td>1 to 6 months</td>\n",
       "      <td>5</td>\n",
       "      <td>5</td>\n",
       "      <td>5</td>\n",
       "      <td>Best medication if you have Relapsing MDD.  I ...</td>\n",
       "      <td>2016</td>\n",
       "      <td>7</td>\n",
       "      <td>1.467412e+18</td>\n",
       "      <td>Pristiq</td>\n",
       "      <td>Behavior</td>\n",
       "    </tr>\n",
       "    <tr>\n",
       "      <th>1157</th>\n",
       "      <td>2016-07-09 15:11:35</td>\n",
       "      <td>\"Change of Life\" Signs</td>\n",
       "      <td>35-44</td>\n",
       "      <td>Female</td>\n",
       "      <td>1 to less than 2 years</td>\n",
       "      <td>5</td>\n",
       "      <td>5</td>\n",
       "      <td>5</td>\n",
       "      <td>I wemt through two year period of time that I ...</td>\n",
       "      <td>2016</td>\n",
       "      <td>7</td>\n",
       "      <td>1.468077e+18</td>\n",
       "      <td>Pristiq</td>\n",
       "      <td>Behavior</td>\n",
       "    </tr>\n",
       "    <tr>\n",
       "      <th>1158</th>\n",
       "      <td>2016-07-31 22:15:58</td>\n",
       "      <td>Repeated Episodes of Anxiety</td>\n",
       "      <td>25-34</td>\n",
       "      <td>Female</td>\n",
       "      <td>1 to 6 months</td>\n",
       "      <td>5</td>\n",
       "      <td>3</td>\n",
       "      <td>3</td>\n",
       "      <td>Trouble sleeping sweating and loss of appetite...</td>\n",
       "      <td>2016</td>\n",
       "      <td>7</td>\n",
       "      <td>1.470003e+18</td>\n",
       "      <td>Pristiq</td>\n",
       "      <td>Behavior</td>\n",
       "    </tr>\n",
       "    <tr>\n",
       "      <th>1159</th>\n",
       "      <td>2016-09-21 22:06:11</td>\n",
       "      <td>Depression</td>\n",
       "      <td>25-34</td>\n",
       "      <td>Female</td>\n",
       "      <td>1 to 6 months</td>\n",
       "      <td>4</td>\n",
       "      <td>2</td>\n",
       "      <td>2</td>\n",
       "      <td>After taking prozac for many years it seemed l...</td>\n",
       "      <td>2016</td>\n",
       "      <td>9</td>\n",
       "      <td>1.474496e+18</td>\n",
       "      <td>Pristiq</td>\n",
       "      <td>Behavior</td>\n",
       "    </tr>\n",
       "    <tr>\n",
       "      <th>1160</th>\n",
       "      <td>2016-10-21 14:15:43</td>\n",
       "      <td>Depression</td>\n",
       "      <td>55-64</td>\n",
       "      <td>Female</td>\n",
       "      <td>5 to less than 10 years</td>\n",
       "      <td>5</td>\n",
       "      <td>5</td>\n",
       "      <td>3</td>\n",
       "      <td>This drug worked very well for me, however, I ...</td>\n",
       "      <td>2016</td>\n",
       "      <td>10</td>\n",
       "      <td>1.477059e+18</td>\n",
       "      <td>Pristiq</td>\n",
       "      <td>Behavior</td>\n",
       "    </tr>\n",
       "    <tr>\n",
       "      <th>1161</th>\n",
       "      <td>2016-11-10 06:50:10</td>\n",
       "      <td>Repeated Episodes of Anxiety</td>\n",
       "      <td>19-24</td>\n",
       "      <td>Female</td>\n",
       "      <td>2 to less than 5 years</td>\n",
       "      <td>1</td>\n",
       "      <td>1</td>\n",
       "      <td>1</td>\n",
       "      <td>The reason i started taking Pristiq was due to...</td>\n",
       "      <td>2016</td>\n",
       "      <td>11</td>\n",
       "      <td>1.478761e+18</td>\n",
       "      <td>Pristiq</td>\n",
       "      <td>Behavior</td>\n",
       "    </tr>\n",
       "    <tr>\n",
       "      <th>1162</th>\n",
       "      <td>2016-11-27 14:24:53</td>\n",
       "      <td>Repeated Episodes of Anxiety</td>\n",
       "      <td>45-54</td>\n",
       "      <td>NaN</td>\n",
       "      <td>1 to 6 months</td>\n",
       "      <td>3</td>\n",
       "      <td>3</td>\n",
       "      <td>3</td>\n",
       "      <td>For my anxiety I had been on paxil for 15 year...</td>\n",
       "      <td>2016</td>\n",
       "      <td>11</td>\n",
       "      <td>1.480257e+18</td>\n",
       "      <td>Pristiq</td>\n",
       "      <td>Behavior</td>\n",
       "    </tr>\n",
       "    <tr>\n",
       "      <th>1163</th>\n",
       "      <td>2017-01-15 20:16:58</td>\n",
       "      <td>Repeated Episodes of Anxiety</td>\n",
       "      <td>19-24</td>\n",
       "      <td>Female</td>\n",
       "      <td>less than 1 month</td>\n",
       "      <td>1</td>\n",
       "      <td>1</td>\n",
       "      <td>1</td>\n",
       "      <td>This is the worst medicine I have ever taken. ...</td>\n",
       "      <td>2017</td>\n",
       "      <td>1</td>\n",
       "      <td>1.484511e+18</td>\n",
       "      <td>Pristiq</td>\n",
       "      <td>Behavior</td>\n",
       "    </tr>\n",
       "    <tr>\n",
       "      <th>1164</th>\n",
       "      <td>2017-06-21 11:59:36</td>\n",
       "      <td>Major Depressive Disorder</td>\n",
       "      <td>55-64</td>\n",
       "      <td>NaN</td>\n",
       "      <td>1 to 6 months</td>\n",
       "      <td>1</td>\n",
       "      <td>1</td>\n",
       "      <td>1</td>\n",
       "      <td>This medicine made my symptons worse. My docto...</td>\n",
       "      <td>2017</td>\n",
       "      <td>6</td>\n",
       "      <td>1.498046e+18</td>\n",
       "      <td>Pristiq</td>\n",
       "      <td>Behavior</td>\n",
       "    </tr>\n",
       "    <tr>\n",
       "      <th>1165</th>\n",
       "      <td>2017-10-14 09:33:28</td>\n",
       "      <td>Depression</td>\n",
       "      <td>55-64</td>\n",
       "      <td>Male</td>\n",
       "      <td>1 to less than 2 years</td>\n",
       "      <td>5</td>\n",
       "      <td>5</td>\n",
       "      <td>4</td>\n",
       "      <td>Major reduction in depression symptoms, side e...</td>\n",
       "      <td>2017</td>\n",
       "      <td>10</td>\n",
       "      <td>1.507974e+18</td>\n",
       "      <td>Pristiq</td>\n",
       "      <td>Behavior</td>\n",
       "    </tr>\n",
       "    <tr>\n",
       "      <th>1166</th>\n",
       "      <td>2017-11-10 10:48:42</td>\n",
       "      <td>Depression</td>\n",
       "      <td>35-44</td>\n",
       "      <td>Female</td>\n",
       "      <td>6 months to less than 1 year</td>\n",
       "      <td>5</td>\n",
       "      <td>5</td>\n",
       "      <td>5</td>\n",
       "      <td>Have been using this medication for just over ...</td>\n",
       "      <td>2017</td>\n",
       "      <td>11</td>\n",
       "      <td>1.510311e+18</td>\n",
       "      <td>Pristiq</td>\n",
       "      <td>Behavior</td>\n",
       "    </tr>\n",
       "    <tr>\n",
       "      <th>1167</th>\n",
       "      <td>2017-11-20 22:10:10</td>\n",
       "      <td>Repeated Episodes of Anxiety</td>\n",
       "      <td>35-44</td>\n",
       "      <td>Female</td>\n",
       "      <td>less than 1 month</td>\n",
       "      <td>4</td>\n",
       "      <td>4</td>\n",
       "      <td>5</td>\n",
       "      <td>I haven't taken this yet, but I just want to s...</td>\n",
       "      <td>2017</td>\n",
       "      <td>11</td>\n",
       "      <td>1.511216e+18</td>\n",
       "      <td>Pristiq</td>\n",
       "      <td>Behavior</td>\n",
       "    </tr>\n",
       "    <tr>\n",
       "      <th>1168</th>\n",
       "      <td>2018-01-26 06:17:39</td>\n",
       "      <td>\"Change of Life\" Signs</td>\n",
       "      <td>55-64</td>\n",
       "      <td>Female</td>\n",
       "      <td>5 to less than 10 years</td>\n",
       "      <td>5</td>\n",
       "      <td>5</td>\n",
       "      <td>5</td>\n",
       "      <td>I was in a study for hot flashes and this was ...</td>\n",
       "      <td>2018</td>\n",
       "      <td>1</td>\n",
       "      <td>1.516947e+18</td>\n",
       "      <td>Pristiq</td>\n",
       "      <td>Behavior</td>\n",
       "    </tr>\n",
       "  </tbody>\n",
       "</table>\n",
       "<p>8303 rows × 14 columns</p>\n",
       "</div>"
      ],
      "text/plain": [
       "                Date_time                     condition    age     sex  \\\n",
       "0     2007-09-20 01:48:50     Major Depressive Disorder  45-54  Female   \n",
       "1     2007-09-20 14:15:07  Repeated Episodes of Anxiety  45-54  Female   \n",
       "2     2007-09-21 18:05:58              Neuropathic Pain  45-54  Female   \n",
       "3     2007-09-22 06:13:37     Major Depressive Disorder  19-24  Female   \n",
       "4     2007-09-22 11:55:28              Neuropathic Pain  65-74  Female   \n",
       "5     2007-09-22 18:39:36  Repeated Episodes of Anxiety  35-44  Female   \n",
       "6     2007-09-23 23:29:22  Repeated Episodes of Anxiety  19-24  Female   \n",
       "7     2007-09-24 14:43:20     Major Depressive Disorder    NaN     NaN   \n",
       "8     2007-09-24 18:40:14                         Other  25-34  Female   \n",
       "9     2007-09-24 19:31:16     Major Depressive Disorder  55-64  Female   \n",
       "10    2007-09-24 19:44:29     Major Depressive Disorder    NaN     NaN   \n",
       "11    2007-09-24 22:52:52     Major Depressive Disorder  25-34  Female   \n",
       "12    2007-09-25 00:09:32                         Other  19-24  Female   \n",
       "13    2007-09-25 08:05:44  Repeated Episodes of Anxiety    NaN     NaN   \n",
       "14    2007-09-25 11:36:27     Major Depressive Disorder  55-64    Male   \n",
       "15    2007-09-25 15:23:36                         Other    NaN    Male   \n",
       "16    2007-09-25 19:16:34     Major Depressive Disorder  45-54  Female   \n",
       "17    2007-09-25 20:44:00                         Other  55-64  Female   \n",
       "18    2007-09-27 02:18:59     Major Depressive Disorder  35-44  Female   \n",
       "19    2007-09-27 09:21:24     Major Depressive Disorder  25-34  Female   \n",
       "20    2007-09-28 12:35:16     Major Depressive Disorder  25-34  Female   \n",
       "21    2007-09-28 13:21:21              Neuropathic Pain  65-74  Female   \n",
       "22    2007-09-28 15:05:24                         Other  35-44  Female   \n",
       "23    2007-09-28 19:54:21              Neuropathic Pain  35-44  Female   \n",
       "24    2007-09-28 20:52:50     Major Depressive Disorder  45-54  Female   \n",
       "25    2007-09-29 09:14:51              Neuropathic Pain  65-74  Female   \n",
       "26    2007-09-29 21:31:08     Major Depressive Disorder  45-54    Male   \n",
       "27    2007-09-30 21:47:22                         Other  35-44  Female   \n",
       "28    2007-10-01 13:29:29     Major Depressive Disorder  25-34  Female   \n",
       "29    2007-10-01 18:43:40     Major Depressive Disorder  25-34  Female   \n",
       "...                   ...                           ...    ...     ...   \n",
       "1139  2015-05-10 01:15:10                    Depression    NaN  Female   \n",
       "1140  2015-06-02 01:32:56                    Depression  25-34  Female   \n",
       "1141  2015-06-12 23:05:50                Panic Disorder  45-54  Female   \n",
       "1142  2015-06-15 05:57:27                    Depression  25-34  Female   \n",
       "1143  2015-08-10 19:03:44     Major Depressive Disorder  35-44    Male   \n",
       "1144  2015-09-18 14:45:15                    Depression  19-24  Female   \n",
       "1145  2015-10-28 16:00:06     Major Depressive Disorder    NaN  Female   \n",
       "1146  2015-11-28 07:51:25                    Depression  45-54  Female   \n",
       "1147  2015-12-11 22:33:11                    Depression  19-24     NaN   \n",
       "1148  2016-01-18 14:12:58                    Depression  25-34  Female   \n",
       "1149  2016-01-23 16:34:46                    Depression  55-64     NaN   \n",
       "1150  2016-01-27 20:15:18                    Depression  25-34     NaN   \n",
       "1151  2016-02-01 19:34:39                    Depression  45-54  Female   \n",
       "1152  2016-04-04 11:05:33            Bipolar Depression  65-74     NaN   \n",
       "1153  2016-06-04 08:18:12                    Depression  45-54     NaN   \n",
       "1154  2016-06-06 23:41:46  Repeated Episodes of Anxiety    NaN  Female   \n",
       "1155  2016-06-22 09:27:15                    Depression  19-24  Female   \n",
       "1156  2016-07-01 22:33:57     Major Depressive Disorder  55-64     NaN   \n",
       "1157  2016-07-09 15:11:35        \"Change of Life\" Signs  35-44  Female   \n",
       "1158  2016-07-31 22:15:58  Repeated Episodes of Anxiety  25-34  Female   \n",
       "1159  2016-09-21 22:06:11                    Depression  25-34  Female   \n",
       "1160  2016-10-21 14:15:43                    Depression  55-64  Female   \n",
       "1161  2016-11-10 06:50:10  Repeated Episodes of Anxiety  19-24  Female   \n",
       "1162  2016-11-27 14:24:53  Repeated Episodes of Anxiety  45-54     NaN   \n",
       "1163  2017-01-15 20:16:58  Repeated Episodes of Anxiety  19-24  Female   \n",
       "1164  2017-06-21 11:59:36     Major Depressive Disorder  55-64     NaN   \n",
       "1165  2017-10-14 09:33:28                    Depression  55-64    Male   \n",
       "1166  2017-11-10 10:48:42                    Depression  35-44  Female   \n",
       "1167  2017-11-20 22:10:10  Repeated Episodes of Anxiety  35-44  Female   \n",
       "1168  2018-01-26 06:17:39        \"Change of Life\" Signs  55-64  Female   \n",
       "\n",
       "                        Treat_time  ease  effective  satisfaction  \\\n",
       "0           2 to less than 5 years     5          5             5   \n",
       "1          5 to less than 10 years     5          5             4   \n",
       "2                    1 to 6 months     1          1             1   \n",
       "3                    1 to 6 months     5          3             3   \n",
       "4                    1 to 6 months     5          5             5   \n",
       "5     6 months to less than 1 year     5          4             4   \n",
       "6                    1 to 6 months     5          5             5   \n",
       "7                              NaN     5          4             4   \n",
       "8                    1 to 6 months     5          4             4   \n",
       "9                    1 to 6 months     1          2             1   \n",
       "10                             NaN     5          5             4   \n",
       "11                   1 to 6 months     5          4             4   \n",
       "12               less than 1 month     1          1             1   \n",
       "13                   1 to 6 months     5          4             5   \n",
       "14          1 to less than 2 years     5          3             3   \n",
       "15               less than 1 month     1          1             1   \n",
       "16          2 to less than 5 years     5          5             5   \n",
       "17    6 months to less than 1 year     5          3             3   \n",
       "18          1 to less than 2 years     5          4             4   \n",
       "19          2 to less than 5 years     5          5             5   \n",
       "20                   1 to 6 months     5          5             5   \n",
       "21          2 to less than 5 years     4          4             4   \n",
       "22          1 to less than 2 years     4          3             3   \n",
       "23          2 to less than 5 years     4          3             4   \n",
       "24          2 to less than 5 years     5          5             5   \n",
       "25    6 months to less than 1 year     5          5             5   \n",
       "26               less than 1 month     4          4             4   \n",
       "27                   1 to 6 months     5          3             4   \n",
       "28    6 months to less than 1 year     5          5             5   \n",
       "29                   1 to 6 months     5          5             5   \n",
       "...                            ...   ...        ...           ...   \n",
       "1139       5 to less than 10 years     5          5             4   \n",
       "1140                 1 to 6 months     4          1             1   \n",
       "1141        2 to less than 5 years     5          5             5   \n",
       "1142                 1 to 6 months     5          3             3   \n",
       "1143                 1 to 6 months     1          1             1   \n",
       "1144                 1 to 6 months     5          5             4   \n",
       "1145             less than 1 month     5          1             1   \n",
       "1146             less than 1 month     4          3             2   \n",
       "1147        2 to less than 5 years     5          5             5   \n",
       "1148  6 months to less than 1 year     5          5             5   \n",
       "1149        2 to less than 5 years     5          5             3   \n",
       "1150        2 to less than 5 years     3          3             2   \n",
       "1151             less than 1 month     5          1             1   \n",
       "1152        2 to less than 5 years     4          4             4   \n",
       "1153                 1 to 6 months     4          4             3   \n",
       "1154                           NaN     3          1             1   \n",
       "1155  6 months to less than 1 year     4          1             1   \n",
       "1156                 1 to 6 months     5          5             5   \n",
       "1157        1 to less than 2 years     5          5             5   \n",
       "1158                 1 to 6 months     5          3             3   \n",
       "1159                 1 to 6 months     4          2             2   \n",
       "1160       5 to less than 10 years     5          5             3   \n",
       "1161        2 to less than 5 years     1          1             1   \n",
       "1162                 1 to 6 months     3          3             3   \n",
       "1163             less than 1 month     1          1             1   \n",
       "1164                 1 to 6 months     1          1             1   \n",
       "1165        1 to less than 2 years     5          5             4   \n",
       "1166  6 months to less than 1 year     5          5             5   \n",
       "1167             less than 1 month     4          4             5   \n",
       "1168       5 to less than 10 years     5          5             5   \n",
       "\n",
       "                                                comment  year  month  \\\n",
       "0     I have been taking Cymbalta for depression and...  2007      9   \n",
       "1     It has worked better for me than any other med...  2007      9   \n",
       "2     I have MS and mhave been treated for depressio...  2007      9   \n",
       "3     I was on this medication to help alleviate my ...  2007      9   \n",
       "4     I have suffered with Fibromyalgia for years.  ...  2007      9   \n",
       "5     This drug works very good for me, however, if ...  2007      9   \n",
       "6     I recommend this drug for anyone else who has ...  2007      9   \n",
       "7     cymbalta has been easy to adjust with minimal ...  2007      9   \n",
       "8     I have chronic pain, and some anxiety/depressi...  2007      9   \n",
       "9     I tried this med but found expensive and did n...  2007      9   \n",
       "10    i have gone back on it a couple of times for m...  2007      9   \n",
       "11    I'm a 30 year old female and started with 30 m...  2007      9   \n",
       "12                             Makes me very very tired  2007      9   \n",
       "13    Cymbalta's effectiveness was gradual. So much ...  2007      9   \n",
       "14    Cymbalta has been fairly well effective at all...  2007      9   \n",
       "15    After researching this drug when prescribed by...  2007      9   \n",
       "16    I have both major depression and fibromyalgia....  2007      9   \n",
       "17    I feel that Cymbalta may help somewhat for dep...  2007      9   \n",
       "18    I was started on this drug in January 2006 for...  2007      9   \n",
       "19    I have tried several different medications, Pr...  2007      9   \n",
       "20    Through Christian counseling, lots of prayers,...  2007      9   \n",
       "21    I am not diabetic, however I have peripheral n...  2007      9   \n",
       "22    I have chronic  back pain and my doctor mentio...  2007      9   \n",
       "23    I was given this medicine to help my sleep/pai...  2007      9   \n",
       "24    Used for several years. Have been out for abou...  2007      9   \n",
       "25    I used to wake everynight with leg pains and s...  2007      9   \n",
       "26    Could feel effects within 4 days.  Beleive it ...  2007      9   \n",
       "27    I was recently placed on Cymbalta to treat my ...  2007      9   \n",
       "28    I lost my husband a year and a half ago.  I ha...  2007     10   \n",
       "29    By being placed on Cymbalta, I have felt incre...  2007     10   \n",
       "...                                                 ...   ...    ...   \n",
       "1139  *headaches. Effexor XR was the only antidepres...  2015      5   \n",
       "1140  Been on this for about 4 months now, have gone...  2015      6   \n",
       "1141  I have been on pristiq for two years to treat ...  2015      6   \n",
       "1142  Ok, im going to sum it up for the \"50 mg\"\\r\\r\\...  2015      6   \n",
       "1143  This is the worst drug I tried out there !!!!!...  2015      8   \n",
       "1144  At first the 50mg dosage made me extremely dro...  2015      9   \n",
       "1145  Therapist asked me to try Pristiq and so stopp...  2015     10   \n",
       "1146  Loss of appetite, headaches, inability to stay...  2015     11   \n",
       "1147  I've have terrible anxiety for as long as I ca...  2015     12   \n",
       "1148  This medication has saved my life. My main sid...  2016      1   \n",
       "1149  I started on Pristiq over two years ago. Two o...  2016      1   \n",
       "1150  Pristiq helped with my depression and anxiety,...  2016      1   \n",
       "1151  Like many of you, I have tried different antid...  2016      2   \n",
       "1152  Like many others with bipolar depression, I've...  2016      4   \n",
       "1153  I've changed from prozac to pristiq because pr...  2016      6   \n",
       "1154  I was prescribed this medication for depressio...  2016      6   \n",
       "1155  I was prescribed this medication to supplement...  2016      6   \n",
       "1156  Best medication if you have Relapsing MDD.  I ...  2016      7   \n",
       "1157  I wemt through two year period of time that I ...  2016      7   \n",
       "1158  Trouble sleeping sweating and loss of appetite...  2016      7   \n",
       "1159  After taking prozac for many years it seemed l...  2016      9   \n",
       "1160  This drug worked very well for me, however, I ...  2016     10   \n",
       "1161  The reason i started taking Pristiq was due to...  2016     11   \n",
       "1162  For my anxiety I had been on paxil for 15 year...  2016     11   \n",
       "1163  This is the worst medicine I have ever taken. ...  2017      1   \n",
       "1164  This medicine made my symptons worse. My docto...  2017      6   \n",
       "1165  Major reduction in depression symptoms, side e...  2017     10   \n",
       "1166  Have been using this medication for just over ...  2017     11   \n",
       "1167  I haven't taken this yet, but I just want to s...  2017     11   \n",
       "1168  I was in a study for hot flashes and this was ...  2018      1   \n",
       "\n",
       "         time_mark      drug       cat  \n",
       "0     1.190253e+18  Cymbalta  Behavior  \n",
       "1     1.190298e+18  Cymbalta  Behavior  \n",
       "2     1.190398e+18  Cymbalta       NaN  \n",
       "3     1.190442e+18  Cymbalta  Behavior  \n",
       "4     1.190462e+18  Cymbalta       NaN  \n",
       "5     1.190486e+18  Cymbalta  Behavior  \n",
       "6     1.190590e+18  Cymbalta  Behavior  \n",
       "7     1.190645e+18  Cymbalta  Behavior  \n",
       "8     1.190659e+18  Cymbalta     Other  \n",
       "9     1.190662e+18  Cymbalta  Behavior  \n",
       "10    1.190663e+18  Cymbalta  Behavior  \n",
       "11    1.190674e+18  Cymbalta  Behavior  \n",
       "12    1.190679e+18  Cymbalta     Other  \n",
       "13    1.190708e+18  Cymbalta  Behavior  \n",
       "14    1.190720e+18  Cymbalta  Behavior  \n",
       "15    1.190734e+18  Cymbalta     Other  \n",
       "16    1.190748e+18  Cymbalta  Behavior  \n",
       "17    1.190753e+18  Cymbalta     Other  \n",
       "18    1.190860e+18  Cymbalta  Behavior  \n",
       "19    1.190885e+18  Cymbalta  Behavior  \n",
       "20    1.190983e+18  Cymbalta  Behavior  \n",
       "21    1.190986e+18  Cymbalta       NaN  \n",
       "22    1.190992e+18  Cymbalta     Other  \n",
       "23    1.191009e+18  Cymbalta       NaN  \n",
       "24    1.191013e+18  Cymbalta  Behavior  \n",
       "25    1.191057e+18  Cymbalta       NaN  \n",
       "26    1.191101e+18  Cymbalta  Behavior  \n",
       "27    1.191189e+18  Cymbalta     Other  \n",
       "28    1.191245e+18  Cymbalta  Behavior  \n",
       "29    1.191264e+18  Cymbalta  Behavior  \n",
       "...            ...       ...       ...  \n",
       "1139  1.431221e+18   Pristiq  Behavior  \n",
       "1140  1.433209e+18   Pristiq  Behavior  \n",
       "1141  1.434150e+18   Pristiq  Behavior  \n",
       "1142  1.434348e+18   Pristiq  Behavior  \n",
       "1143  1.439233e+18   Pristiq  Behavior  \n",
       "1144  1.442588e+18   Pristiq  Behavior  \n",
       "1145  1.446048e+18   Pristiq  Behavior  \n",
       "1146  1.448697e+18   Pristiq  Behavior  \n",
       "1147  1.449873e+18   Pristiq  Behavior  \n",
       "1148  1.453126e+18   Pristiq  Behavior  \n",
       "1149  1.453567e+18   Pristiq  Behavior  \n",
       "1150  1.453926e+18   Pristiq  Behavior  \n",
       "1151  1.454355e+18   Pristiq  Behavior  \n",
       "1152  1.459768e+18   Pristiq  Behavior  \n",
       "1153  1.465028e+18   Pristiq  Behavior  \n",
       "1154  1.465257e+18   Pristiq  Behavior  \n",
       "1155  1.466588e+18   Pristiq  Behavior  \n",
       "1156  1.467412e+18   Pristiq  Behavior  \n",
       "1157  1.468077e+18   Pristiq  Behavior  \n",
       "1158  1.470003e+18   Pristiq  Behavior  \n",
       "1159  1.474496e+18   Pristiq  Behavior  \n",
       "1160  1.477059e+18   Pristiq  Behavior  \n",
       "1161  1.478761e+18   Pristiq  Behavior  \n",
       "1162  1.480257e+18   Pristiq  Behavior  \n",
       "1163  1.484511e+18   Pristiq  Behavior  \n",
       "1164  1.498046e+18   Pristiq  Behavior  \n",
       "1165  1.507974e+18   Pristiq  Behavior  \n",
       "1166  1.510311e+18   Pristiq  Behavior  \n",
       "1167  1.511216e+18   Pristiq  Behavior  \n",
       "1168  1.516947e+18   Pristiq  Behavior  \n",
       "\n",
       "[8303 rows x 14 columns]"
      ]
     },
     "execution_count": 41,
     "metadata": {},
     "output_type": "execute_result"
    }
   ],
   "source": [
    "Drugs"
   ]
  },
  {
   "cell_type": "code",
   "execution_count": 42,
   "metadata": {},
   "outputs": [
    {
     "data": {
      "text/plain": [
       "1418"
      ]
     },
     "execution_count": 42,
     "metadata": {},
     "output_type": "execute_result"
    }
   ],
   "source": [
    "sum(Drugs.cat.isnull())"
   ]
  },
  {
   "cell_type": "code",
   "execution_count": 43,
   "metadata": {
    "collapsed": true
   },
   "outputs": [],
   "source": [
    "Drugs.cat = Drugs.cat.fillna('Pain')"
   ]
  },
  {
   "cell_type": "code",
   "execution_count": 44,
   "metadata": {},
   "outputs": [
    {
     "data": {
      "text/html": [
       "<div>\n",
       "<style>\n",
       "    .dataframe thead tr:only-child th {\n",
       "        text-align: right;\n",
       "    }\n",
       "\n",
       "    .dataframe thead th {\n",
       "        text-align: left;\n",
       "    }\n",
       "\n",
       "    .dataframe tbody tr th {\n",
       "        vertical-align: top;\n",
       "    }\n",
       "</style>\n",
       "<table border=\"1\" class=\"dataframe\">\n",
       "  <thead>\n",
       "    <tr style=\"text-align: right;\">\n",
       "      <th></th>\n",
       "      <th>Date_time</th>\n",
       "      <th>condition</th>\n",
       "      <th>age</th>\n",
       "      <th>sex</th>\n",
       "      <th>Treat_time</th>\n",
       "      <th>ease</th>\n",
       "      <th>effective</th>\n",
       "      <th>satisfaction</th>\n",
       "      <th>comment</th>\n",
       "      <th>year</th>\n",
       "      <th>month</th>\n",
       "      <th>time_mark</th>\n",
       "      <th>drug</th>\n",
       "      <th>cat</th>\n",
       "    </tr>\n",
       "  </thead>\n",
       "  <tbody>\n",
       "    <tr>\n",
       "      <th>0</th>\n",
       "      <td>2007-09-20 01:48:50</td>\n",
       "      <td>Major Depressive Disorder</td>\n",
       "      <td>45-54</td>\n",
       "      <td>Female</td>\n",
       "      <td>2 to less than 5 years</td>\n",
       "      <td>5</td>\n",
       "      <td>5</td>\n",
       "      <td>5</td>\n",
       "      <td>I have been taking Cymbalta for depression and...</td>\n",
       "      <td>2007</td>\n",
       "      <td>9</td>\n",
       "      <td>1.190253e+18</td>\n",
       "      <td>Cymbalta</td>\n",
       "      <td>Behavior</td>\n",
       "    </tr>\n",
       "    <tr>\n",
       "      <th>1</th>\n",
       "      <td>2007-09-20 14:15:07</td>\n",
       "      <td>Repeated Episodes of Anxiety</td>\n",
       "      <td>45-54</td>\n",
       "      <td>Female</td>\n",
       "      <td>5 to less than 10 years</td>\n",
       "      <td>5</td>\n",
       "      <td>5</td>\n",
       "      <td>4</td>\n",
       "      <td>It has worked better for me than any other med...</td>\n",
       "      <td>2007</td>\n",
       "      <td>9</td>\n",
       "      <td>1.190298e+18</td>\n",
       "      <td>Cymbalta</td>\n",
       "      <td>Behavior</td>\n",
       "    </tr>\n",
       "    <tr>\n",
       "      <th>2</th>\n",
       "      <td>2007-09-21 18:05:58</td>\n",
       "      <td>Neuropathic Pain</td>\n",
       "      <td>45-54</td>\n",
       "      <td>Female</td>\n",
       "      <td>1 to 6 months</td>\n",
       "      <td>1</td>\n",
       "      <td>1</td>\n",
       "      <td>1</td>\n",
       "      <td>I have MS and mhave been treated for depressio...</td>\n",
       "      <td>2007</td>\n",
       "      <td>9</td>\n",
       "      <td>1.190398e+18</td>\n",
       "      <td>Cymbalta</td>\n",
       "      <td>Pain</td>\n",
       "    </tr>\n",
       "    <tr>\n",
       "      <th>3</th>\n",
       "      <td>2007-09-22 06:13:37</td>\n",
       "      <td>Major Depressive Disorder</td>\n",
       "      <td>19-24</td>\n",
       "      <td>Female</td>\n",
       "      <td>1 to 6 months</td>\n",
       "      <td>5</td>\n",
       "      <td>3</td>\n",
       "      <td>3</td>\n",
       "      <td>I was on this medication to help alleviate my ...</td>\n",
       "      <td>2007</td>\n",
       "      <td>9</td>\n",
       "      <td>1.190442e+18</td>\n",
       "      <td>Cymbalta</td>\n",
       "      <td>Behavior</td>\n",
       "    </tr>\n",
       "    <tr>\n",
       "      <th>4</th>\n",
       "      <td>2007-09-22 11:55:28</td>\n",
       "      <td>Neuropathic Pain</td>\n",
       "      <td>65-74</td>\n",
       "      <td>Female</td>\n",
       "      <td>1 to 6 months</td>\n",
       "      <td>5</td>\n",
       "      <td>5</td>\n",
       "      <td>5</td>\n",
       "      <td>I have suffered with Fibromyalgia for years.  ...</td>\n",
       "      <td>2007</td>\n",
       "      <td>9</td>\n",
       "      <td>1.190462e+18</td>\n",
       "      <td>Cymbalta</td>\n",
       "      <td>Pain</td>\n",
       "    </tr>\n",
       "    <tr>\n",
       "      <th>5</th>\n",
       "      <td>2007-09-22 18:39:36</td>\n",
       "      <td>Repeated Episodes of Anxiety</td>\n",
       "      <td>35-44</td>\n",
       "      <td>Female</td>\n",
       "      <td>6 months to less than 1 year</td>\n",
       "      <td>5</td>\n",
       "      <td>4</td>\n",
       "      <td>4</td>\n",
       "      <td>This drug works very good for me, however, if ...</td>\n",
       "      <td>2007</td>\n",
       "      <td>9</td>\n",
       "      <td>1.190486e+18</td>\n",
       "      <td>Cymbalta</td>\n",
       "      <td>Behavior</td>\n",
       "    </tr>\n",
       "    <tr>\n",
       "      <th>6</th>\n",
       "      <td>2007-09-23 23:29:22</td>\n",
       "      <td>Repeated Episodes of Anxiety</td>\n",
       "      <td>19-24</td>\n",
       "      <td>Female</td>\n",
       "      <td>1 to 6 months</td>\n",
       "      <td>5</td>\n",
       "      <td>5</td>\n",
       "      <td>5</td>\n",
       "      <td>I recommend this drug for anyone else who has ...</td>\n",
       "      <td>2007</td>\n",
       "      <td>9</td>\n",
       "      <td>1.190590e+18</td>\n",
       "      <td>Cymbalta</td>\n",
       "      <td>Behavior</td>\n",
       "    </tr>\n",
       "    <tr>\n",
       "      <th>7</th>\n",
       "      <td>2007-09-24 14:43:20</td>\n",
       "      <td>Major Depressive Disorder</td>\n",
       "      <td>NaN</td>\n",
       "      <td>NaN</td>\n",
       "      <td>NaN</td>\n",
       "      <td>5</td>\n",
       "      <td>4</td>\n",
       "      <td>4</td>\n",
       "      <td>cymbalta has been easy to adjust with minimal ...</td>\n",
       "      <td>2007</td>\n",
       "      <td>9</td>\n",
       "      <td>1.190645e+18</td>\n",
       "      <td>Cymbalta</td>\n",
       "      <td>Behavior</td>\n",
       "    </tr>\n",
       "    <tr>\n",
       "      <th>8</th>\n",
       "      <td>2007-09-24 18:40:14</td>\n",
       "      <td>Other</td>\n",
       "      <td>25-34</td>\n",
       "      <td>Female</td>\n",
       "      <td>1 to 6 months</td>\n",
       "      <td>5</td>\n",
       "      <td>4</td>\n",
       "      <td>4</td>\n",
       "      <td>I have chronic pain, and some anxiety/depressi...</td>\n",
       "      <td>2007</td>\n",
       "      <td>9</td>\n",
       "      <td>1.190659e+18</td>\n",
       "      <td>Cymbalta</td>\n",
       "      <td>Other</td>\n",
       "    </tr>\n",
       "    <tr>\n",
       "      <th>9</th>\n",
       "      <td>2007-09-24 19:31:16</td>\n",
       "      <td>Major Depressive Disorder</td>\n",
       "      <td>55-64</td>\n",
       "      <td>Female</td>\n",
       "      <td>1 to 6 months</td>\n",
       "      <td>1</td>\n",
       "      <td>2</td>\n",
       "      <td>1</td>\n",
       "      <td>I tried this med but found expensive and did n...</td>\n",
       "      <td>2007</td>\n",
       "      <td>9</td>\n",
       "      <td>1.190662e+18</td>\n",
       "      <td>Cymbalta</td>\n",
       "      <td>Behavior</td>\n",
       "    </tr>\n",
       "    <tr>\n",
       "      <th>10</th>\n",
       "      <td>2007-09-24 19:44:29</td>\n",
       "      <td>Major Depressive Disorder</td>\n",
       "      <td>NaN</td>\n",
       "      <td>NaN</td>\n",
       "      <td>NaN</td>\n",
       "      <td>5</td>\n",
       "      <td>5</td>\n",
       "      <td>4</td>\n",
       "      <td>i have gone back on it a couple of times for m...</td>\n",
       "      <td>2007</td>\n",
       "      <td>9</td>\n",
       "      <td>1.190663e+18</td>\n",
       "      <td>Cymbalta</td>\n",
       "      <td>Behavior</td>\n",
       "    </tr>\n",
       "    <tr>\n",
       "      <th>11</th>\n",
       "      <td>2007-09-24 22:52:52</td>\n",
       "      <td>Major Depressive Disorder</td>\n",
       "      <td>25-34</td>\n",
       "      <td>Female</td>\n",
       "      <td>1 to 6 months</td>\n",
       "      <td>5</td>\n",
       "      <td>4</td>\n",
       "      <td>4</td>\n",
       "      <td>I'm a 30 year old female and started with 30 m...</td>\n",
       "      <td>2007</td>\n",
       "      <td>9</td>\n",
       "      <td>1.190674e+18</td>\n",
       "      <td>Cymbalta</td>\n",
       "      <td>Behavior</td>\n",
       "    </tr>\n",
       "    <tr>\n",
       "      <th>12</th>\n",
       "      <td>2007-09-25 00:09:32</td>\n",
       "      <td>Other</td>\n",
       "      <td>19-24</td>\n",
       "      <td>Female</td>\n",
       "      <td>less than 1 month</td>\n",
       "      <td>1</td>\n",
       "      <td>1</td>\n",
       "      <td>1</td>\n",
       "      <td>Makes me very very tired</td>\n",
       "      <td>2007</td>\n",
       "      <td>9</td>\n",
       "      <td>1.190679e+18</td>\n",
       "      <td>Cymbalta</td>\n",
       "      <td>Other</td>\n",
       "    </tr>\n",
       "    <tr>\n",
       "      <th>13</th>\n",
       "      <td>2007-09-25 08:05:44</td>\n",
       "      <td>Repeated Episodes of Anxiety</td>\n",
       "      <td>NaN</td>\n",
       "      <td>NaN</td>\n",
       "      <td>1 to 6 months</td>\n",
       "      <td>5</td>\n",
       "      <td>4</td>\n",
       "      <td>5</td>\n",
       "      <td>Cymbalta's effectiveness was gradual. So much ...</td>\n",
       "      <td>2007</td>\n",
       "      <td>9</td>\n",
       "      <td>1.190708e+18</td>\n",
       "      <td>Cymbalta</td>\n",
       "      <td>Behavior</td>\n",
       "    </tr>\n",
       "    <tr>\n",
       "      <th>14</th>\n",
       "      <td>2007-09-25 11:36:27</td>\n",
       "      <td>Major Depressive Disorder</td>\n",
       "      <td>55-64</td>\n",
       "      <td>Male</td>\n",
       "      <td>1 to less than 2 years</td>\n",
       "      <td>5</td>\n",
       "      <td>3</td>\n",
       "      <td>3</td>\n",
       "      <td>Cymbalta has been fairly well effective at all...</td>\n",
       "      <td>2007</td>\n",
       "      <td>9</td>\n",
       "      <td>1.190720e+18</td>\n",
       "      <td>Cymbalta</td>\n",
       "      <td>Behavior</td>\n",
       "    </tr>\n",
       "    <tr>\n",
       "      <th>15</th>\n",
       "      <td>2007-09-25 15:23:36</td>\n",
       "      <td>Other</td>\n",
       "      <td>NaN</td>\n",
       "      <td>Male</td>\n",
       "      <td>less than 1 month</td>\n",
       "      <td>1</td>\n",
       "      <td>1</td>\n",
       "      <td>1</td>\n",
       "      <td>After researching this drug when prescribed by...</td>\n",
       "      <td>2007</td>\n",
       "      <td>9</td>\n",
       "      <td>1.190734e+18</td>\n",
       "      <td>Cymbalta</td>\n",
       "      <td>Other</td>\n",
       "    </tr>\n",
       "    <tr>\n",
       "      <th>16</th>\n",
       "      <td>2007-09-25 19:16:34</td>\n",
       "      <td>Major Depressive Disorder</td>\n",
       "      <td>45-54</td>\n",
       "      <td>Female</td>\n",
       "      <td>2 to less than 5 years</td>\n",
       "      <td>5</td>\n",
       "      <td>5</td>\n",
       "      <td>5</td>\n",
       "      <td>I have both major depression and fibromyalgia....</td>\n",
       "      <td>2007</td>\n",
       "      <td>9</td>\n",
       "      <td>1.190748e+18</td>\n",
       "      <td>Cymbalta</td>\n",
       "      <td>Behavior</td>\n",
       "    </tr>\n",
       "    <tr>\n",
       "      <th>17</th>\n",
       "      <td>2007-09-25 20:44:00</td>\n",
       "      <td>Other</td>\n",
       "      <td>55-64</td>\n",
       "      <td>Female</td>\n",
       "      <td>6 months to less than 1 year</td>\n",
       "      <td>5</td>\n",
       "      <td>3</td>\n",
       "      <td>3</td>\n",
       "      <td>I feel that Cymbalta may help somewhat for dep...</td>\n",
       "      <td>2007</td>\n",
       "      <td>9</td>\n",
       "      <td>1.190753e+18</td>\n",
       "      <td>Cymbalta</td>\n",
       "      <td>Other</td>\n",
       "    </tr>\n",
       "    <tr>\n",
       "      <th>18</th>\n",
       "      <td>2007-09-27 02:18:59</td>\n",
       "      <td>Major Depressive Disorder</td>\n",
       "      <td>35-44</td>\n",
       "      <td>Female</td>\n",
       "      <td>1 to less than 2 years</td>\n",
       "      <td>5</td>\n",
       "      <td>4</td>\n",
       "      <td>4</td>\n",
       "      <td>I was started on this drug in January 2006 for...</td>\n",
       "      <td>2007</td>\n",
       "      <td>9</td>\n",
       "      <td>1.190860e+18</td>\n",
       "      <td>Cymbalta</td>\n",
       "      <td>Behavior</td>\n",
       "    </tr>\n",
       "    <tr>\n",
       "      <th>19</th>\n",
       "      <td>2007-09-27 09:21:24</td>\n",
       "      <td>Major Depressive Disorder</td>\n",
       "      <td>25-34</td>\n",
       "      <td>Female</td>\n",
       "      <td>2 to less than 5 years</td>\n",
       "      <td>5</td>\n",
       "      <td>5</td>\n",
       "      <td>5</td>\n",
       "      <td>I have tried several different medications, Pr...</td>\n",
       "      <td>2007</td>\n",
       "      <td>9</td>\n",
       "      <td>1.190885e+18</td>\n",
       "      <td>Cymbalta</td>\n",
       "      <td>Behavior</td>\n",
       "    </tr>\n",
       "    <tr>\n",
       "      <th>20</th>\n",
       "      <td>2007-09-28 12:35:16</td>\n",
       "      <td>Major Depressive Disorder</td>\n",
       "      <td>25-34</td>\n",
       "      <td>Female</td>\n",
       "      <td>1 to 6 months</td>\n",
       "      <td>5</td>\n",
       "      <td>5</td>\n",
       "      <td>5</td>\n",
       "      <td>Through Christian counseling, lots of prayers,...</td>\n",
       "      <td>2007</td>\n",
       "      <td>9</td>\n",
       "      <td>1.190983e+18</td>\n",
       "      <td>Cymbalta</td>\n",
       "      <td>Behavior</td>\n",
       "    </tr>\n",
       "    <tr>\n",
       "      <th>21</th>\n",
       "      <td>2007-09-28 13:21:21</td>\n",
       "      <td>Neuropathic Pain</td>\n",
       "      <td>65-74</td>\n",
       "      <td>Female</td>\n",
       "      <td>2 to less than 5 years</td>\n",
       "      <td>4</td>\n",
       "      <td>4</td>\n",
       "      <td>4</td>\n",
       "      <td>I am not diabetic, however I have peripheral n...</td>\n",
       "      <td>2007</td>\n",
       "      <td>9</td>\n",
       "      <td>1.190986e+18</td>\n",
       "      <td>Cymbalta</td>\n",
       "      <td>Pain</td>\n",
       "    </tr>\n",
       "    <tr>\n",
       "      <th>22</th>\n",
       "      <td>2007-09-28 15:05:24</td>\n",
       "      <td>Other</td>\n",
       "      <td>35-44</td>\n",
       "      <td>Female</td>\n",
       "      <td>1 to less than 2 years</td>\n",
       "      <td>4</td>\n",
       "      <td>3</td>\n",
       "      <td>3</td>\n",
       "      <td>I have chronic  back pain and my doctor mentio...</td>\n",
       "      <td>2007</td>\n",
       "      <td>9</td>\n",
       "      <td>1.190992e+18</td>\n",
       "      <td>Cymbalta</td>\n",
       "      <td>Other</td>\n",
       "    </tr>\n",
       "    <tr>\n",
       "      <th>23</th>\n",
       "      <td>2007-09-28 19:54:21</td>\n",
       "      <td>Neuropathic Pain</td>\n",
       "      <td>35-44</td>\n",
       "      <td>Female</td>\n",
       "      <td>2 to less than 5 years</td>\n",
       "      <td>4</td>\n",
       "      <td>3</td>\n",
       "      <td>4</td>\n",
       "      <td>I was given this medicine to help my sleep/pai...</td>\n",
       "      <td>2007</td>\n",
       "      <td>9</td>\n",
       "      <td>1.191009e+18</td>\n",
       "      <td>Cymbalta</td>\n",
       "      <td>Pain</td>\n",
       "    </tr>\n",
       "    <tr>\n",
       "      <th>24</th>\n",
       "      <td>2007-09-28 20:52:50</td>\n",
       "      <td>Major Depressive Disorder</td>\n",
       "      <td>45-54</td>\n",
       "      <td>Female</td>\n",
       "      <td>2 to less than 5 years</td>\n",
       "      <td>5</td>\n",
       "      <td>5</td>\n",
       "      <td>5</td>\n",
       "      <td>Used for several years. Have been out for abou...</td>\n",
       "      <td>2007</td>\n",
       "      <td>9</td>\n",
       "      <td>1.191013e+18</td>\n",
       "      <td>Cymbalta</td>\n",
       "      <td>Behavior</td>\n",
       "    </tr>\n",
       "    <tr>\n",
       "      <th>25</th>\n",
       "      <td>2007-09-29 09:14:51</td>\n",
       "      <td>Neuropathic Pain</td>\n",
       "      <td>65-74</td>\n",
       "      <td>Female</td>\n",
       "      <td>6 months to less than 1 year</td>\n",
       "      <td>5</td>\n",
       "      <td>5</td>\n",
       "      <td>5</td>\n",
       "      <td>I used to wake everynight with leg pains and s...</td>\n",
       "      <td>2007</td>\n",
       "      <td>9</td>\n",
       "      <td>1.191057e+18</td>\n",
       "      <td>Cymbalta</td>\n",
       "      <td>Pain</td>\n",
       "    </tr>\n",
       "    <tr>\n",
       "      <th>26</th>\n",
       "      <td>2007-09-29 21:31:08</td>\n",
       "      <td>Major Depressive Disorder</td>\n",
       "      <td>45-54</td>\n",
       "      <td>Male</td>\n",
       "      <td>less than 1 month</td>\n",
       "      <td>4</td>\n",
       "      <td>4</td>\n",
       "      <td>4</td>\n",
       "      <td>Could feel effects within 4 days.  Beleive it ...</td>\n",
       "      <td>2007</td>\n",
       "      <td>9</td>\n",
       "      <td>1.191101e+18</td>\n",
       "      <td>Cymbalta</td>\n",
       "      <td>Behavior</td>\n",
       "    </tr>\n",
       "    <tr>\n",
       "      <th>27</th>\n",
       "      <td>2007-09-30 21:47:22</td>\n",
       "      <td>Other</td>\n",
       "      <td>35-44</td>\n",
       "      <td>Female</td>\n",
       "      <td>1 to 6 months</td>\n",
       "      <td>5</td>\n",
       "      <td>3</td>\n",
       "      <td>4</td>\n",
       "      <td>I was recently placed on Cymbalta to treat my ...</td>\n",
       "      <td>2007</td>\n",
       "      <td>9</td>\n",
       "      <td>1.191189e+18</td>\n",
       "      <td>Cymbalta</td>\n",
       "      <td>Other</td>\n",
       "    </tr>\n",
       "    <tr>\n",
       "      <th>28</th>\n",
       "      <td>2007-10-01 13:29:29</td>\n",
       "      <td>Major Depressive Disorder</td>\n",
       "      <td>25-34</td>\n",
       "      <td>Female</td>\n",
       "      <td>6 months to less than 1 year</td>\n",
       "      <td>5</td>\n",
       "      <td>5</td>\n",
       "      <td>5</td>\n",
       "      <td>I lost my husband a year and a half ago.  I ha...</td>\n",
       "      <td>2007</td>\n",
       "      <td>10</td>\n",
       "      <td>1.191245e+18</td>\n",
       "      <td>Cymbalta</td>\n",
       "      <td>Behavior</td>\n",
       "    </tr>\n",
       "    <tr>\n",
       "      <th>29</th>\n",
       "      <td>2007-10-01 18:43:40</td>\n",
       "      <td>Major Depressive Disorder</td>\n",
       "      <td>25-34</td>\n",
       "      <td>Female</td>\n",
       "      <td>1 to 6 months</td>\n",
       "      <td>5</td>\n",
       "      <td>5</td>\n",
       "      <td>5</td>\n",
       "      <td>By being placed on Cymbalta, I have felt incre...</td>\n",
       "      <td>2007</td>\n",
       "      <td>10</td>\n",
       "      <td>1.191264e+18</td>\n",
       "      <td>Cymbalta</td>\n",
       "      <td>Behavior</td>\n",
       "    </tr>\n",
       "    <tr>\n",
       "      <th>...</th>\n",
       "      <td>...</td>\n",
       "      <td>...</td>\n",
       "      <td>...</td>\n",
       "      <td>...</td>\n",
       "      <td>...</td>\n",
       "      <td>...</td>\n",
       "      <td>...</td>\n",
       "      <td>...</td>\n",
       "      <td>...</td>\n",
       "      <td>...</td>\n",
       "      <td>...</td>\n",
       "      <td>...</td>\n",
       "      <td>...</td>\n",
       "      <td>...</td>\n",
       "    </tr>\n",
       "    <tr>\n",
       "      <th>1139</th>\n",
       "      <td>2015-05-10 01:15:10</td>\n",
       "      <td>Depression</td>\n",
       "      <td>NaN</td>\n",
       "      <td>Female</td>\n",
       "      <td>5 to less than 10 years</td>\n",
       "      <td>5</td>\n",
       "      <td>5</td>\n",
       "      <td>4</td>\n",
       "      <td>*headaches. Effexor XR was the only antidepres...</td>\n",
       "      <td>2015</td>\n",
       "      <td>5</td>\n",
       "      <td>1.431221e+18</td>\n",
       "      <td>Pristiq</td>\n",
       "      <td>Behavior</td>\n",
       "    </tr>\n",
       "    <tr>\n",
       "      <th>1140</th>\n",
       "      <td>2015-06-02 01:32:56</td>\n",
       "      <td>Depression</td>\n",
       "      <td>25-34</td>\n",
       "      <td>Female</td>\n",
       "      <td>1 to 6 months</td>\n",
       "      <td>4</td>\n",
       "      <td>1</td>\n",
       "      <td>1</td>\n",
       "      <td>Been on this for about 4 months now, have gone...</td>\n",
       "      <td>2015</td>\n",
       "      <td>6</td>\n",
       "      <td>1.433209e+18</td>\n",
       "      <td>Pristiq</td>\n",
       "      <td>Behavior</td>\n",
       "    </tr>\n",
       "    <tr>\n",
       "      <th>1141</th>\n",
       "      <td>2015-06-12 23:05:50</td>\n",
       "      <td>Panic Disorder</td>\n",
       "      <td>45-54</td>\n",
       "      <td>Female</td>\n",
       "      <td>2 to less than 5 years</td>\n",
       "      <td>5</td>\n",
       "      <td>5</td>\n",
       "      <td>5</td>\n",
       "      <td>I have been on pristiq for two years to treat ...</td>\n",
       "      <td>2015</td>\n",
       "      <td>6</td>\n",
       "      <td>1.434150e+18</td>\n",
       "      <td>Pristiq</td>\n",
       "      <td>Behavior</td>\n",
       "    </tr>\n",
       "    <tr>\n",
       "      <th>1142</th>\n",
       "      <td>2015-06-15 05:57:27</td>\n",
       "      <td>Depression</td>\n",
       "      <td>25-34</td>\n",
       "      <td>Female</td>\n",
       "      <td>1 to 6 months</td>\n",
       "      <td>5</td>\n",
       "      <td>3</td>\n",
       "      <td>3</td>\n",
       "      <td>Ok, im going to sum it up for the \"50 mg\"\\r\\r\\...</td>\n",
       "      <td>2015</td>\n",
       "      <td>6</td>\n",
       "      <td>1.434348e+18</td>\n",
       "      <td>Pristiq</td>\n",
       "      <td>Behavior</td>\n",
       "    </tr>\n",
       "    <tr>\n",
       "      <th>1143</th>\n",
       "      <td>2015-08-10 19:03:44</td>\n",
       "      <td>Major Depressive Disorder</td>\n",
       "      <td>35-44</td>\n",
       "      <td>Male</td>\n",
       "      <td>1 to 6 months</td>\n",
       "      <td>1</td>\n",
       "      <td>1</td>\n",
       "      <td>1</td>\n",
       "      <td>This is the worst drug I tried out there !!!!!...</td>\n",
       "      <td>2015</td>\n",
       "      <td>8</td>\n",
       "      <td>1.439233e+18</td>\n",
       "      <td>Pristiq</td>\n",
       "      <td>Behavior</td>\n",
       "    </tr>\n",
       "    <tr>\n",
       "      <th>1144</th>\n",
       "      <td>2015-09-18 14:45:15</td>\n",
       "      <td>Depression</td>\n",
       "      <td>19-24</td>\n",
       "      <td>Female</td>\n",
       "      <td>1 to 6 months</td>\n",
       "      <td>5</td>\n",
       "      <td>5</td>\n",
       "      <td>4</td>\n",
       "      <td>At first the 50mg dosage made me extremely dro...</td>\n",
       "      <td>2015</td>\n",
       "      <td>9</td>\n",
       "      <td>1.442588e+18</td>\n",
       "      <td>Pristiq</td>\n",
       "      <td>Behavior</td>\n",
       "    </tr>\n",
       "    <tr>\n",
       "      <th>1145</th>\n",
       "      <td>2015-10-28 16:00:06</td>\n",
       "      <td>Major Depressive Disorder</td>\n",
       "      <td>NaN</td>\n",
       "      <td>Female</td>\n",
       "      <td>less than 1 month</td>\n",
       "      <td>5</td>\n",
       "      <td>1</td>\n",
       "      <td>1</td>\n",
       "      <td>Therapist asked me to try Pristiq and so stopp...</td>\n",
       "      <td>2015</td>\n",
       "      <td>10</td>\n",
       "      <td>1.446048e+18</td>\n",
       "      <td>Pristiq</td>\n",
       "      <td>Behavior</td>\n",
       "    </tr>\n",
       "    <tr>\n",
       "      <th>1146</th>\n",
       "      <td>2015-11-28 07:51:25</td>\n",
       "      <td>Depression</td>\n",
       "      <td>45-54</td>\n",
       "      <td>Female</td>\n",
       "      <td>less than 1 month</td>\n",
       "      <td>4</td>\n",
       "      <td>3</td>\n",
       "      <td>2</td>\n",
       "      <td>Loss of appetite, headaches, inability to stay...</td>\n",
       "      <td>2015</td>\n",
       "      <td>11</td>\n",
       "      <td>1.448697e+18</td>\n",
       "      <td>Pristiq</td>\n",
       "      <td>Behavior</td>\n",
       "    </tr>\n",
       "    <tr>\n",
       "      <th>1147</th>\n",
       "      <td>2015-12-11 22:33:11</td>\n",
       "      <td>Depression</td>\n",
       "      <td>19-24</td>\n",
       "      <td>NaN</td>\n",
       "      <td>2 to less than 5 years</td>\n",
       "      <td>5</td>\n",
       "      <td>5</td>\n",
       "      <td>5</td>\n",
       "      <td>I've have terrible anxiety for as long as I ca...</td>\n",
       "      <td>2015</td>\n",
       "      <td>12</td>\n",
       "      <td>1.449873e+18</td>\n",
       "      <td>Pristiq</td>\n",
       "      <td>Behavior</td>\n",
       "    </tr>\n",
       "    <tr>\n",
       "      <th>1148</th>\n",
       "      <td>2016-01-18 14:12:58</td>\n",
       "      <td>Depression</td>\n",
       "      <td>25-34</td>\n",
       "      <td>Female</td>\n",
       "      <td>6 months to less than 1 year</td>\n",
       "      <td>5</td>\n",
       "      <td>5</td>\n",
       "      <td>5</td>\n",
       "      <td>This medication has saved my life. My main sid...</td>\n",
       "      <td>2016</td>\n",
       "      <td>1</td>\n",
       "      <td>1.453126e+18</td>\n",
       "      <td>Pristiq</td>\n",
       "      <td>Behavior</td>\n",
       "    </tr>\n",
       "    <tr>\n",
       "      <th>1149</th>\n",
       "      <td>2016-01-23 16:34:46</td>\n",
       "      <td>Depression</td>\n",
       "      <td>55-64</td>\n",
       "      <td>NaN</td>\n",
       "      <td>2 to less than 5 years</td>\n",
       "      <td>5</td>\n",
       "      <td>5</td>\n",
       "      <td>3</td>\n",
       "      <td>I started on Pristiq over two years ago. Two o...</td>\n",
       "      <td>2016</td>\n",
       "      <td>1</td>\n",
       "      <td>1.453567e+18</td>\n",
       "      <td>Pristiq</td>\n",
       "      <td>Behavior</td>\n",
       "    </tr>\n",
       "    <tr>\n",
       "      <th>1150</th>\n",
       "      <td>2016-01-27 20:15:18</td>\n",
       "      <td>Depression</td>\n",
       "      <td>25-34</td>\n",
       "      <td>NaN</td>\n",
       "      <td>2 to less than 5 years</td>\n",
       "      <td>3</td>\n",
       "      <td>3</td>\n",
       "      <td>2</td>\n",
       "      <td>Pristiq helped with my depression and anxiety,...</td>\n",
       "      <td>2016</td>\n",
       "      <td>1</td>\n",
       "      <td>1.453926e+18</td>\n",
       "      <td>Pristiq</td>\n",
       "      <td>Behavior</td>\n",
       "    </tr>\n",
       "    <tr>\n",
       "      <th>1151</th>\n",
       "      <td>2016-02-01 19:34:39</td>\n",
       "      <td>Depression</td>\n",
       "      <td>45-54</td>\n",
       "      <td>Female</td>\n",
       "      <td>less than 1 month</td>\n",
       "      <td>5</td>\n",
       "      <td>1</td>\n",
       "      <td>1</td>\n",
       "      <td>Like many of you, I have tried different antid...</td>\n",
       "      <td>2016</td>\n",
       "      <td>2</td>\n",
       "      <td>1.454355e+18</td>\n",
       "      <td>Pristiq</td>\n",
       "      <td>Behavior</td>\n",
       "    </tr>\n",
       "    <tr>\n",
       "      <th>1152</th>\n",
       "      <td>2016-04-04 11:05:33</td>\n",
       "      <td>Bipolar Depression</td>\n",
       "      <td>65-74</td>\n",
       "      <td>NaN</td>\n",
       "      <td>2 to less than 5 years</td>\n",
       "      <td>4</td>\n",
       "      <td>4</td>\n",
       "      <td>4</td>\n",
       "      <td>Like many others with bipolar depression, I've...</td>\n",
       "      <td>2016</td>\n",
       "      <td>4</td>\n",
       "      <td>1.459768e+18</td>\n",
       "      <td>Pristiq</td>\n",
       "      <td>Behavior</td>\n",
       "    </tr>\n",
       "    <tr>\n",
       "      <th>1153</th>\n",
       "      <td>2016-06-04 08:18:12</td>\n",
       "      <td>Depression</td>\n",
       "      <td>45-54</td>\n",
       "      <td>NaN</td>\n",
       "      <td>1 to 6 months</td>\n",
       "      <td>4</td>\n",
       "      <td>4</td>\n",
       "      <td>3</td>\n",
       "      <td>I've changed from prozac to pristiq because pr...</td>\n",
       "      <td>2016</td>\n",
       "      <td>6</td>\n",
       "      <td>1.465028e+18</td>\n",
       "      <td>Pristiq</td>\n",
       "      <td>Behavior</td>\n",
       "    </tr>\n",
       "    <tr>\n",
       "      <th>1154</th>\n",
       "      <td>2016-06-06 23:41:46</td>\n",
       "      <td>Repeated Episodes of Anxiety</td>\n",
       "      <td>NaN</td>\n",
       "      <td>Female</td>\n",
       "      <td>NaN</td>\n",
       "      <td>3</td>\n",
       "      <td>1</td>\n",
       "      <td>1</td>\n",
       "      <td>I was prescribed this medication for depressio...</td>\n",
       "      <td>2016</td>\n",
       "      <td>6</td>\n",
       "      <td>1.465257e+18</td>\n",
       "      <td>Pristiq</td>\n",
       "      <td>Behavior</td>\n",
       "    </tr>\n",
       "    <tr>\n",
       "      <th>1155</th>\n",
       "      <td>2016-06-22 09:27:15</td>\n",
       "      <td>Depression</td>\n",
       "      <td>19-24</td>\n",
       "      <td>Female</td>\n",
       "      <td>6 months to less than 1 year</td>\n",
       "      <td>4</td>\n",
       "      <td>1</td>\n",
       "      <td>1</td>\n",
       "      <td>I was prescribed this medication to supplement...</td>\n",
       "      <td>2016</td>\n",
       "      <td>6</td>\n",
       "      <td>1.466588e+18</td>\n",
       "      <td>Pristiq</td>\n",
       "      <td>Behavior</td>\n",
       "    </tr>\n",
       "    <tr>\n",
       "      <th>1156</th>\n",
       "      <td>2016-07-01 22:33:57</td>\n",
       "      <td>Major Depressive Disorder</td>\n",
       "      <td>55-64</td>\n",
       "      <td>NaN</td>\n",
       "      <td>1 to 6 months</td>\n",
       "      <td>5</td>\n",
       "      <td>5</td>\n",
       "      <td>5</td>\n",
       "      <td>Best medication if you have Relapsing MDD.  I ...</td>\n",
       "      <td>2016</td>\n",
       "      <td>7</td>\n",
       "      <td>1.467412e+18</td>\n",
       "      <td>Pristiq</td>\n",
       "      <td>Behavior</td>\n",
       "    </tr>\n",
       "    <tr>\n",
       "      <th>1157</th>\n",
       "      <td>2016-07-09 15:11:35</td>\n",
       "      <td>\"Change of Life\" Signs</td>\n",
       "      <td>35-44</td>\n",
       "      <td>Female</td>\n",
       "      <td>1 to less than 2 years</td>\n",
       "      <td>5</td>\n",
       "      <td>5</td>\n",
       "      <td>5</td>\n",
       "      <td>I wemt through two year period of time that I ...</td>\n",
       "      <td>2016</td>\n",
       "      <td>7</td>\n",
       "      <td>1.468077e+18</td>\n",
       "      <td>Pristiq</td>\n",
       "      <td>Behavior</td>\n",
       "    </tr>\n",
       "    <tr>\n",
       "      <th>1158</th>\n",
       "      <td>2016-07-31 22:15:58</td>\n",
       "      <td>Repeated Episodes of Anxiety</td>\n",
       "      <td>25-34</td>\n",
       "      <td>Female</td>\n",
       "      <td>1 to 6 months</td>\n",
       "      <td>5</td>\n",
       "      <td>3</td>\n",
       "      <td>3</td>\n",
       "      <td>Trouble sleeping sweating and loss of appetite...</td>\n",
       "      <td>2016</td>\n",
       "      <td>7</td>\n",
       "      <td>1.470003e+18</td>\n",
       "      <td>Pristiq</td>\n",
       "      <td>Behavior</td>\n",
       "    </tr>\n",
       "    <tr>\n",
       "      <th>1159</th>\n",
       "      <td>2016-09-21 22:06:11</td>\n",
       "      <td>Depression</td>\n",
       "      <td>25-34</td>\n",
       "      <td>Female</td>\n",
       "      <td>1 to 6 months</td>\n",
       "      <td>4</td>\n",
       "      <td>2</td>\n",
       "      <td>2</td>\n",
       "      <td>After taking prozac for many years it seemed l...</td>\n",
       "      <td>2016</td>\n",
       "      <td>9</td>\n",
       "      <td>1.474496e+18</td>\n",
       "      <td>Pristiq</td>\n",
       "      <td>Behavior</td>\n",
       "    </tr>\n",
       "    <tr>\n",
       "      <th>1160</th>\n",
       "      <td>2016-10-21 14:15:43</td>\n",
       "      <td>Depression</td>\n",
       "      <td>55-64</td>\n",
       "      <td>Female</td>\n",
       "      <td>5 to less than 10 years</td>\n",
       "      <td>5</td>\n",
       "      <td>5</td>\n",
       "      <td>3</td>\n",
       "      <td>This drug worked very well for me, however, I ...</td>\n",
       "      <td>2016</td>\n",
       "      <td>10</td>\n",
       "      <td>1.477059e+18</td>\n",
       "      <td>Pristiq</td>\n",
       "      <td>Behavior</td>\n",
       "    </tr>\n",
       "    <tr>\n",
       "      <th>1161</th>\n",
       "      <td>2016-11-10 06:50:10</td>\n",
       "      <td>Repeated Episodes of Anxiety</td>\n",
       "      <td>19-24</td>\n",
       "      <td>Female</td>\n",
       "      <td>2 to less than 5 years</td>\n",
       "      <td>1</td>\n",
       "      <td>1</td>\n",
       "      <td>1</td>\n",
       "      <td>The reason i started taking Pristiq was due to...</td>\n",
       "      <td>2016</td>\n",
       "      <td>11</td>\n",
       "      <td>1.478761e+18</td>\n",
       "      <td>Pristiq</td>\n",
       "      <td>Behavior</td>\n",
       "    </tr>\n",
       "    <tr>\n",
       "      <th>1162</th>\n",
       "      <td>2016-11-27 14:24:53</td>\n",
       "      <td>Repeated Episodes of Anxiety</td>\n",
       "      <td>45-54</td>\n",
       "      <td>NaN</td>\n",
       "      <td>1 to 6 months</td>\n",
       "      <td>3</td>\n",
       "      <td>3</td>\n",
       "      <td>3</td>\n",
       "      <td>For my anxiety I had been on paxil for 15 year...</td>\n",
       "      <td>2016</td>\n",
       "      <td>11</td>\n",
       "      <td>1.480257e+18</td>\n",
       "      <td>Pristiq</td>\n",
       "      <td>Behavior</td>\n",
       "    </tr>\n",
       "    <tr>\n",
       "      <th>1163</th>\n",
       "      <td>2017-01-15 20:16:58</td>\n",
       "      <td>Repeated Episodes of Anxiety</td>\n",
       "      <td>19-24</td>\n",
       "      <td>Female</td>\n",
       "      <td>less than 1 month</td>\n",
       "      <td>1</td>\n",
       "      <td>1</td>\n",
       "      <td>1</td>\n",
       "      <td>This is the worst medicine I have ever taken. ...</td>\n",
       "      <td>2017</td>\n",
       "      <td>1</td>\n",
       "      <td>1.484511e+18</td>\n",
       "      <td>Pristiq</td>\n",
       "      <td>Behavior</td>\n",
       "    </tr>\n",
       "    <tr>\n",
       "      <th>1164</th>\n",
       "      <td>2017-06-21 11:59:36</td>\n",
       "      <td>Major Depressive Disorder</td>\n",
       "      <td>55-64</td>\n",
       "      <td>NaN</td>\n",
       "      <td>1 to 6 months</td>\n",
       "      <td>1</td>\n",
       "      <td>1</td>\n",
       "      <td>1</td>\n",
       "      <td>This medicine made my symptons worse. My docto...</td>\n",
       "      <td>2017</td>\n",
       "      <td>6</td>\n",
       "      <td>1.498046e+18</td>\n",
       "      <td>Pristiq</td>\n",
       "      <td>Behavior</td>\n",
       "    </tr>\n",
       "    <tr>\n",
       "      <th>1165</th>\n",
       "      <td>2017-10-14 09:33:28</td>\n",
       "      <td>Depression</td>\n",
       "      <td>55-64</td>\n",
       "      <td>Male</td>\n",
       "      <td>1 to less than 2 years</td>\n",
       "      <td>5</td>\n",
       "      <td>5</td>\n",
       "      <td>4</td>\n",
       "      <td>Major reduction in depression symptoms, side e...</td>\n",
       "      <td>2017</td>\n",
       "      <td>10</td>\n",
       "      <td>1.507974e+18</td>\n",
       "      <td>Pristiq</td>\n",
       "      <td>Behavior</td>\n",
       "    </tr>\n",
       "    <tr>\n",
       "      <th>1166</th>\n",
       "      <td>2017-11-10 10:48:42</td>\n",
       "      <td>Depression</td>\n",
       "      <td>35-44</td>\n",
       "      <td>Female</td>\n",
       "      <td>6 months to less than 1 year</td>\n",
       "      <td>5</td>\n",
       "      <td>5</td>\n",
       "      <td>5</td>\n",
       "      <td>Have been using this medication for just over ...</td>\n",
       "      <td>2017</td>\n",
       "      <td>11</td>\n",
       "      <td>1.510311e+18</td>\n",
       "      <td>Pristiq</td>\n",
       "      <td>Behavior</td>\n",
       "    </tr>\n",
       "    <tr>\n",
       "      <th>1167</th>\n",
       "      <td>2017-11-20 22:10:10</td>\n",
       "      <td>Repeated Episodes of Anxiety</td>\n",
       "      <td>35-44</td>\n",
       "      <td>Female</td>\n",
       "      <td>less than 1 month</td>\n",
       "      <td>4</td>\n",
       "      <td>4</td>\n",
       "      <td>5</td>\n",
       "      <td>I haven't taken this yet, but I just want to s...</td>\n",
       "      <td>2017</td>\n",
       "      <td>11</td>\n",
       "      <td>1.511216e+18</td>\n",
       "      <td>Pristiq</td>\n",
       "      <td>Behavior</td>\n",
       "    </tr>\n",
       "    <tr>\n",
       "      <th>1168</th>\n",
       "      <td>2018-01-26 06:17:39</td>\n",
       "      <td>\"Change of Life\" Signs</td>\n",
       "      <td>55-64</td>\n",
       "      <td>Female</td>\n",
       "      <td>5 to less than 10 years</td>\n",
       "      <td>5</td>\n",
       "      <td>5</td>\n",
       "      <td>5</td>\n",
       "      <td>I was in a study for hot flashes and this was ...</td>\n",
       "      <td>2018</td>\n",
       "      <td>1</td>\n",
       "      <td>1.516947e+18</td>\n",
       "      <td>Pristiq</td>\n",
       "      <td>Behavior</td>\n",
       "    </tr>\n",
       "  </tbody>\n",
       "</table>\n",
       "<p>8303 rows × 14 columns</p>\n",
       "</div>"
      ],
      "text/plain": [
       "                Date_time                     condition    age     sex  \\\n",
       "0     2007-09-20 01:48:50     Major Depressive Disorder  45-54  Female   \n",
       "1     2007-09-20 14:15:07  Repeated Episodes of Anxiety  45-54  Female   \n",
       "2     2007-09-21 18:05:58              Neuropathic Pain  45-54  Female   \n",
       "3     2007-09-22 06:13:37     Major Depressive Disorder  19-24  Female   \n",
       "4     2007-09-22 11:55:28              Neuropathic Pain  65-74  Female   \n",
       "5     2007-09-22 18:39:36  Repeated Episodes of Anxiety  35-44  Female   \n",
       "6     2007-09-23 23:29:22  Repeated Episodes of Anxiety  19-24  Female   \n",
       "7     2007-09-24 14:43:20     Major Depressive Disorder    NaN     NaN   \n",
       "8     2007-09-24 18:40:14                         Other  25-34  Female   \n",
       "9     2007-09-24 19:31:16     Major Depressive Disorder  55-64  Female   \n",
       "10    2007-09-24 19:44:29     Major Depressive Disorder    NaN     NaN   \n",
       "11    2007-09-24 22:52:52     Major Depressive Disorder  25-34  Female   \n",
       "12    2007-09-25 00:09:32                         Other  19-24  Female   \n",
       "13    2007-09-25 08:05:44  Repeated Episodes of Anxiety    NaN     NaN   \n",
       "14    2007-09-25 11:36:27     Major Depressive Disorder  55-64    Male   \n",
       "15    2007-09-25 15:23:36                         Other    NaN    Male   \n",
       "16    2007-09-25 19:16:34     Major Depressive Disorder  45-54  Female   \n",
       "17    2007-09-25 20:44:00                         Other  55-64  Female   \n",
       "18    2007-09-27 02:18:59     Major Depressive Disorder  35-44  Female   \n",
       "19    2007-09-27 09:21:24     Major Depressive Disorder  25-34  Female   \n",
       "20    2007-09-28 12:35:16     Major Depressive Disorder  25-34  Female   \n",
       "21    2007-09-28 13:21:21              Neuropathic Pain  65-74  Female   \n",
       "22    2007-09-28 15:05:24                         Other  35-44  Female   \n",
       "23    2007-09-28 19:54:21              Neuropathic Pain  35-44  Female   \n",
       "24    2007-09-28 20:52:50     Major Depressive Disorder  45-54  Female   \n",
       "25    2007-09-29 09:14:51              Neuropathic Pain  65-74  Female   \n",
       "26    2007-09-29 21:31:08     Major Depressive Disorder  45-54    Male   \n",
       "27    2007-09-30 21:47:22                         Other  35-44  Female   \n",
       "28    2007-10-01 13:29:29     Major Depressive Disorder  25-34  Female   \n",
       "29    2007-10-01 18:43:40     Major Depressive Disorder  25-34  Female   \n",
       "...                   ...                           ...    ...     ...   \n",
       "1139  2015-05-10 01:15:10                    Depression    NaN  Female   \n",
       "1140  2015-06-02 01:32:56                    Depression  25-34  Female   \n",
       "1141  2015-06-12 23:05:50                Panic Disorder  45-54  Female   \n",
       "1142  2015-06-15 05:57:27                    Depression  25-34  Female   \n",
       "1143  2015-08-10 19:03:44     Major Depressive Disorder  35-44    Male   \n",
       "1144  2015-09-18 14:45:15                    Depression  19-24  Female   \n",
       "1145  2015-10-28 16:00:06     Major Depressive Disorder    NaN  Female   \n",
       "1146  2015-11-28 07:51:25                    Depression  45-54  Female   \n",
       "1147  2015-12-11 22:33:11                    Depression  19-24     NaN   \n",
       "1148  2016-01-18 14:12:58                    Depression  25-34  Female   \n",
       "1149  2016-01-23 16:34:46                    Depression  55-64     NaN   \n",
       "1150  2016-01-27 20:15:18                    Depression  25-34     NaN   \n",
       "1151  2016-02-01 19:34:39                    Depression  45-54  Female   \n",
       "1152  2016-04-04 11:05:33            Bipolar Depression  65-74     NaN   \n",
       "1153  2016-06-04 08:18:12                    Depression  45-54     NaN   \n",
       "1154  2016-06-06 23:41:46  Repeated Episodes of Anxiety    NaN  Female   \n",
       "1155  2016-06-22 09:27:15                    Depression  19-24  Female   \n",
       "1156  2016-07-01 22:33:57     Major Depressive Disorder  55-64     NaN   \n",
       "1157  2016-07-09 15:11:35        \"Change of Life\" Signs  35-44  Female   \n",
       "1158  2016-07-31 22:15:58  Repeated Episodes of Anxiety  25-34  Female   \n",
       "1159  2016-09-21 22:06:11                    Depression  25-34  Female   \n",
       "1160  2016-10-21 14:15:43                    Depression  55-64  Female   \n",
       "1161  2016-11-10 06:50:10  Repeated Episodes of Anxiety  19-24  Female   \n",
       "1162  2016-11-27 14:24:53  Repeated Episodes of Anxiety  45-54     NaN   \n",
       "1163  2017-01-15 20:16:58  Repeated Episodes of Anxiety  19-24  Female   \n",
       "1164  2017-06-21 11:59:36     Major Depressive Disorder  55-64     NaN   \n",
       "1165  2017-10-14 09:33:28                    Depression  55-64    Male   \n",
       "1166  2017-11-10 10:48:42                    Depression  35-44  Female   \n",
       "1167  2017-11-20 22:10:10  Repeated Episodes of Anxiety  35-44  Female   \n",
       "1168  2018-01-26 06:17:39        \"Change of Life\" Signs  55-64  Female   \n",
       "\n",
       "                        Treat_time  ease  effective  satisfaction  \\\n",
       "0           2 to less than 5 years     5          5             5   \n",
       "1          5 to less than 10 years     5          5             4   \n",
       "2                    1 to 6 months     1          1             1   \n",
       "3                    1 to 6 months     5          3             3   \n",
       "4                    1 to 6 months     5          5             5   \n",
       "5     6 months to less than 1 year     5          4             4   \n",
       "6                    1 to 6 months     5          5             5   \n",
       "7                              NaN     5          4             4   \n",
       "8                    1 to 6 months     5          4             4   \n",
       "9                    1 to 6 months     1          2             1   \n",
       "10                             NaN     5          5             4   \n",
       "11                   1 to 6 months     5          4             4   \n",
       "12               less than 1 month     1          1             1   \n",
       "13                   1 to 6 months     5          4             5   \n",
       "14          1 to less than 2 years     5          3             3   \n",
       "15               less than 1 month     1          1             1   \n",
       "16          2 to less than 5 years     5          5             5   \n",
       "17    6 months to less than 1 year     5          3             3   \n",
       "18          1 to less than 2 years     5          4             4   \n",
       "19          2 to less than 5 years     5          5             5   \n",
       "20                   1 to 6 months     5          5             5   \n",
       "21          2 to less than 5 years     4          4             4   \n",
       "22          1 to less than 2 years     4          3             3   \n",
       "23          2 to less than 5 years     4          3             4   \n",
       "24          2 to less than 5 years     5          5             5   \n",
       "25    6 months to less than 1 year     5          5             5   \n",
       "26               less than 1 month     4          4             4   \n",
       "27                   1 to 6 months     5          3             4   \n",
       "28    6 months to less than 1 year     5          5             5   \n",
       "29                   1 to 6 months     5          5             5   \n",
       "...                            ...   ...        ...           ...   \n",
       "1139       5 to less than 10 years     5          5             4   \n",
       "1140                 1 to 6 months     4          1             1   \n",
       "1141        2 to less than 5 years     5          5             5   \n",
       "1142                 1 to 6 months     5          3             3   \n",
       "1143                 1 to 6 months     1          1             1   \n",
       "1144                 1 to 6 months     5          5             4   \n",
       "1145             less than 1 month     5          1             1   \n",
       "1146             less than 1 month     4          3             2   \n",
       "1147        2 to less than 5 years     5          5             5   \n",
       "1148  6 months to less than 1 year     5          5             5   \n",
       "1149        2 to less than 5 years     5          5             3   \n",
       "1150        2 to less than 5 years     3          3             2   \n",
       "1151             less than 1 month     5          1             1   \n",
       "1152        2 to less than 5 years     4          4             4   \n",
       "1153                 1 to 6 months     4          4             3   \n",
       "1154                           NaN     3          1             1   \n",
       "1155  6 months to less than 1 year     4          1             1   \n",
       "1156                 1 to 6 months     5          5             5   \n",
       "1157        1 to less than 2 years     5          5             5   \n",
       "1158                 1 to 6 months     5          3             3   \n",
       "1159                 1 to 6 months     4          2             2   \n",
       "1160       5 to less than 10 years     5          5             3   \n",
       "1161        2 to less than 5 years     1          1             1   \n",
       "1162                 1 to 6 months     3          3             3   \n",
       "1163             less than 1 month     1          1             1   \n",
       "1164                 1 to 6 months     1          1             1   \n",
       "1165        1 to less than 2 years     5          5             4   \n",
       "1166  6 months to less than 1 year     5          5             5   \n",
       "1167             less than 1 month     4          4             5   \n",
       "1168       5 to less than 10 years     5          5             5   \n",
       "\n",
       "                                                comment  year  month  \\\n",
       "0     I have been taking Cymbalta for depression and...  2007      9   \n",
       "1     It has worked better for me than any other med...  2007      9   \n",
       "2     I have MS and mhave been treated for depressio...  2007      9   \n",
       "3     I was on this medication to help alleviate my ...  2007      9   \n",
       "4     I have suffered with Fibromyalgia for years.  ...  2007      9   \n",
       "5     This drug works very good for me, however, if ...  2007      9   \n",
       "6     I recommend this drug for anyone else who has ...  2007      9   \n",
       "7     cymbalta has been easy to adjust with minimal ...  2007      9   \n",
       "8     I have chronic pain, and some anxiety/depressi...  2007      9   \n",
       "9     I tried this med but found expensive and did n...  2007      9   \n",
       "10    i have gone back on it a couple of times for m...  2007      9   \n",
       "11    I'm a 30 year old female and started with 30 m...  2007      9   \n",
       "12                             Makes me very very tired  2007      9   \n",
       "13    Cymbalta's effectiveness was gradual. So much ...  2007      9   \n",
       "14    Cymbalta has been fairly well effective at all...  2007      9   \n",
       "15    After researching this drug when prescribed by...  2007      9   \n",
       "16    I have both major depression and fibromyalgia....  2007      9   \n",
       "17    I feel that Cymbalta may help somewhat for dep...  2007      9   \n",
       "18    I was started on this drug in January 2006 for...  2007      9   \n",
       "19    I have tried several different medications, Pr...  2007      9   \n",
       "20    Through Christian counseling, lots of prayers,...  2007      9   \n",
       "21    I am not diabetic, however I have peripheral n...  2007      9   \n",
       "22    I have chronic  back pain and my doctor mentio...  2007      9   \n",
       "23    I was given this medicine to help my sleep/pai...  2007      9   \n",
       "24    Used for several years. Have been out for abou...  2007      9   \n",
       "25    I used to wake everynight with leg pains and s...  2007      9   \n",
       "26    Could feel effects within 4 days.  Beleive it ...  2007      9   \n",
       "27    I was recently placed on Cymbalta to treat my ...  2007      9   \n",
       "28    I lost my husband a year and a half ago.  I ha...  2007     10   \n",
       "29    By being placed on Cymbalta, I have felt incre...  2007     10   \n",
       "...                                                 ...   ...    ...   \n",
       "1139  *headaches. Effexor XR was the only antidepres...  2015      5   \n",
       "1140  Been on this for about 4 months now, have gone...  2015      6   \n",
       "1141  I have been on pristiq for two years to treat ...  2015      6   \n",
       "1142  Ok, im going to sum it up for the \"50 mg\"\\r\\r\\...  2015      6   \n",
       "1143  This is the worst drug I tried out there !!!!!...  2015      8   \n",
       "1144  At first the 50mg dosage made me extremely dro...  2015      9   \n",
       "1145  Therapist asked me to try Pristiq and so stopp...  2015     10   \n",
       "1146  Loss of appetite, headaches, inability to stay...  2015     11   \n",
       "1147  I've have terrible anxiety for as long as I ca...  2015     12   \n",
       "1148  This medication has saved my life. My main sid...  2016      1   \n",
       "1149  I started on Pristiq over two years ago. Two o...  2016      1   \n",
       "1150  Pristiq helped with my depression and anxiety,...  2016      1   \n",
       "1151  Like many of you, I have tried different antid...  2016      2   \n",
       "1152  Like many others with bipolar depression, I've...  2016      4   \n",
       "1153  I've changed from prozac to pristiq because pr...  2016      6   \n",
       "1154  I was prescribed this medication for depressio...  2016      6   \n",
       "1155  I was prescribed this medication to supplement...  2016      6   \n",
       "1156  Best medication if you have Relapsing MDD.  I ...  2016      7   \n",
       "1157  I wemt through two year period of time that I ...  2016      7   \n",
       "1158  Trouble sleeping sweating and loss of appetite...  2016      7   \n",
       "1159  After taking prozac for many years it seemed l...  2016      9   \n",
       "1160  This drug worked very well for me, however, I ...  2016     10   \n",
       "1161  The reason i started taking Pristiq was due to...  2016     11   \n",
       "1162  For my anxiety I had been on paxil for 15 year...  2016     11   \n",
       "1163  This is the worst medicine I have ever taken. ...  2017      1   \n",
       "1164  This medicine made my symptons worse. My docto...  2017      6   \n",
       "1165  Major reduction in depression symptoms, side e...  2017     10   \n",
       "1166  Have been using this medication for just over ...  2017     11   \n",
       "1167  I haven't taken this yet, but I just want to s...  2017     11   \n",
       "1168  I was in a study for hot flashes and this was ...  2018      1   \n",
       "\n",
       "         time_mark      drug       cat  \n",
       "0     1.190253e+18  Cymbalta  Behavior  \n",
       "1     1.190298e+18  Cymbalta  Behavior  \n",
       "2     1.190398e+18  Cymbalta      Pain  \n",
       "3     1.190442e+18  Cymbalta  Behavior  \n",
       "4     1.190462e+18  Cymbalta      Pain  \n",
       "5     1.190486e+18  Cymbalta  Behavior  \n",
       "6     1.190590e+18  Cymbalta  Behavior  \n",
       "7     1.190645e+18  Cymbalta  Behavior  \n",
       "8     1.190659e+18  Cymbalta     Other  \n",
       "9     1.190662e+18  Cymbalta  Behavior  \n",
       "10    1.190663e+18  Cymbalta  Behavior  \n",
       "11    1.190674e+18  Cymbalta  Behavior  \n",
       "12    1.190679e+18  Cymbalta     Other  \n",
       "13    1.190708e+18  Cymbalta  Behavior  \n",
       "14    1.190720e+18  Cymbalta  Behavior  \n",
       "15    1.190734e+18  Cymbalta     Other  \n",
       "16    1.190748e+18  Cymbalta  Behavior  \n",
       "17    1.190753e+18  Cymbalta     Other  \n",
       "18    1.190860e+18  Cymbalta  Behavior  \n",
       "19    1.190885e+18  Cymbalta  Behavior  \n",
       "20    1.190983e+18  Cymbalta  Behavior  \n",
       "21    1.190986e+18  Cymbalta      Pain  \n",
       "22    1.190992e+18  Cymbalta     Other  \n",
       "23    1.191009e+18  Cymbalta      Pain  \n",
       "24    1.191013e+18  Cymbalta  Behavior  \n",
       "25    1.191057e+18  Cymbalta      Pain  \n",
       "26    1.191101e+18  Cymbalta  Behavior  \n",
       "27    1.191189e+18  Cymbalta     Other  \n",
       "28    1.191245e+18  Cymbalta  Behavior  \n",
       "29    1.191264e+18  Cymbalta  Behavior  \n",
       "...            ...       ...       ...  \n",
       "1139  1.431221e+18   Pristiq  Behavior  \n",
       "1140  1.433209e+18   Pristiq  Behavior  \n",
       "1141  1.434150e+18   Pristiq  Behavior  \n",
       "1142  1.434348e+18   Pristiq  Behavior  \n",
       "1143  1.439233e+18   Pristiq  Behavior  \n",
       "1144  1.442588e+18   Pristiq  Behavior  \n",
       "1145  1.446048e+18   Pristiq  Behavior  \n",
       "1146  1.448697e+18   Pristiq  Behavior  \n",
       "1147  1.449873e+18   Pristiq  Behavior  \n",
       "1148  1.453126e+18   Pristiq  Behavior  \n",
       "1149  1.453567e+18   Pristiq  Behavior  \n",
       "1150  1.453926e+18   Pristiq  Behavior  \n",
       "1151  1.454355e+18   Pristiq  Behavior  \n",
       "1152  1.459768e+18   Pristiq  Behavior  \n",
       "1153  1.465028e+18   Pristiq  Behavior  \n",
       "1154  1.465257e+18   Pristiq  Behavior  \n",
       "1155  1.466588e+18   Pristiq  Behavior  \n",
       "1156  1.467412e+18   Pristiq  Behavior  \n",
       "1157  1.468077e+18   Pristiq  Behavior  \n",
       "1158  1.470003e+18   Pristiq  Behavior  \n",
       "1159  1.474496e+18   Pristiq  Behavior  \n",
       "1160  1.477059e+18   Pristiq  Behavior  \n",
       "1161  1.478761e+18   Pristiq  Behavior  \n",
       "1162  1.480257e+18   Pristiq  Behavior  \n",
       "1163  1.484511e+18   Pristiq  Behavior  \n",
       "1164  1.498046e+18   Pristiq  Behavior  \n",
       "1165  1.507974e+18   Pristiq  Behavior  \n",
       "1166  1.510311e+18   Pristiq  Behavior  \n",
       "1167  1.511216e+18   Pristiq  Behavior  \n",
       "1168  1.516947e+18   Pristiq  Behavior  \n",
       "\n",
       "[8303 rows x 14 columns]"
      ]
     },
     "execution_count": 44,
     "metadata": {},
     "output_type": "execute_result"
    }
   ],
   "source": [
    "Drugs"
   ]
  },
  {
   "cell_type": "code",
   "execution_count": 169,
   "metadata": {},
   "outputs": [
    {
     "data": {
      "text/plain": [
       "[1.431277656097868, 1.5504959047522149, 1.4965006597816786]"
      ]
     },
     "execution_count": 169,
     "metadata": {},
     "output_type": "execute_result"
    }
   ],
   "source": [
    "set(Drugs.cat)\n",
    "yerrs = [np.std(Drugs[Drugs.cat == x]['effective']) for x in ['Behavior', 'Other', 'Pain']]\n",
    "yerrs"
   ]
  },
  {
   "cell_type": "code",
   "execution_count": 170,
   "metadata": {},
   "outputs": [
    {
     "data": {
      "text/html": [
       "<div>\n",
       "<style>\n",
       "    .dataframe thead tr:only-child th {\n",
       "        text-align: right;\n",
       "    }\n",
       "\n",
       "    .dataframe thead th {\n",
       "        text-align: left;\n",
       "    }\n",
       "\n",
       "    .dataframe tbody tr th {\n",
       "        vertical-align: top;\n",
       "    }\n",
       "</style>\n",
       "<table border=\"1\" class=\"dataframe\">\n",
       "  <thead>\n",
       "    <tr style=\"text-align: right;\">\n",
       "      <th></th>\n",
       "      <th>effective</th>\n",
       "    </tr>\n",
       "    <tr>\n",
       "      <th>cat</th>\n",
       "      <th></th>\n",
       "    </tr>\n",
       "  </thead>\n",
       "  <tbody>\n",
       "    <tr>\n",
       "      <th>Behavior</th>\n",
       "      <td>3.540479</td>\n",
       "    </tr>\n",
       "    <tr>\n",
       "      <th>Other</th>\n",
       "      <td>3.272214</td>\n",
       "    </tr>\n",
       "    <tr>\n",
       "      <th>Pain</th>\n",
       "      <td>3.138928</td>\n",
       "    </tr>\n",
       "  </tbody>\n",
       "</table>\n",
       "</div>"
      ],
      "text/plain": [
       "          effective\n",
       "cat                \n",
       "Behavior   3.540479\n",
       "Other      3.272214\n",
       "Pain       3.138928"
      ]
     },
     "execution_count": 170,
     "metadata": {},
     "output_type": "execute_result"
    },
    {
     "data": {
      "image/png": "[encoded data removed]",
      "text/plain": [
       "<matplotlib.figure.Figure at 0x264e0fdd550>"
      ]
     },
     "metadata": {},
     "output_type": "display_data"
    }
   ],
   "source": [
    "Dgroup5 = Drugs.groupby('cat').agg({'effective':'mean'})\n",
    "Dgroup5.plot.bar(yerr = yerrs)\n",
    "Dgroup5"
   ]
  },
  {
   "cell_type": "code",
   "execution_count": 162,
   "metadata": {},
   "outputs": [
    {
     "data": {
      "text/plain": [
       "Ttest_indResult(statistic=7.3543469008233835, pvalue=2.1191309989977226e-13)"
      ]
     },
     "execution_count": 162,
     "metadata": {},
     "output_type": "execute_result"
    }
   ],
   "source": [
    "stats.ttest_ind(Drugs.loc[Drugs.cat == 'Behavior']['satisfaction'], Drugs.loc[Drugs.cat == 'Pain']['satisfaction'])"
   ]
  },
  {
   "cell_type": "code",
   "execution_count": 48,
   "metadata": {},
   "outputs": [
    {
     "name": "stdout",
     "output_type": "stream",
     "text": [
      "cat\n",
      "Behavior    3.104437\n",
      "Other       2.925247\n",
      "Pain        2.758110\n",
      "Name: satisfaction, dtype: float64\n"
     ]
    },
    {
     "data": {
      "image/png": "[encoded data removed]",
      "text/plain": [
       "<matplotlib.figure.Figure at 0x264de945dd8>"
      ]
     },
     "metadata": {},
     "output_type": "display_data"
    }
   ],
   "source": [
    "Dgroup6 = Drugs.groupby('cat')['satisfaction'].mean()\n",
    "Dgroup6.plot.bar()\n",
    "print(Dgroup6)"
   ]
  },
  {
   "cell_type": "code",
   "execution_count": 49,
   "metadata": {
    "collapsed": true
   },
   "outputs": [],
   "source": [
    "Dgroup7 = Drugs.groupby('drug').agg({'satisfaction':'mean', 'ease':'mean', 'effective':'mean'})"
   ]
  },
  {
   "cell_type": "code",
   "execution_count": 50,
   "metadata": {},
   "outputs": [
    {
     "data": {
      "text/html": [
       "<div>\n",
       "<style>\n",
       "    .dataframe thead tr:only-child th {\n",
       "        text-align: right;\n",
       "    }\n",
       "\n",
       "    .dataframe thead th {\n",
       "        text-align: left;\n",
       "    }\n",
       "\n",
       "    .dataframe tbody tr th {\n",
       "        vertical-align: top;\n",
       "    }\n",
       "</style>\n",
       "<table border=\"1\" class=\"dataframe\">\n",
       "  <thead>\n",
       "    <tr style=\"text-align: right;\">\n",
       "      <th></th>\n",
       "      <th>satisfaction</th>\n",
       "      <th>ease</th>\n",
       "      <th>effective</th>\n",
       "    </tr>\n",
       "    <tr>\n",
       "      <th>drug</th>\n",
       "      <th></th>\n",
       "      <th></th>\n",
       "      <th></th>\n",
       "    </tr>\n",
       "  </thead>\n",
       "  <tbody>\n",
       "    <tr>\n",
       "      <th>Cymbalta</th>\n",
       "      <td>2.922437</td>\n",
       "      <td>4.022021</td>\n",
       "      <td>3.286763</td>\n",
       "    </tr>\n",
       "    <tr>\n",
       "      <th>Effexor</th>\n",
       "      <td>3.149984</td>\n",
       "      <td>4.055793</td>\n",
       "      <td>3.691500</td>\n",
       "    </tr>\n",
       "    <tr>\n",
       "      <th>Pristiq</th>\n",
       "      <td>3.093242</td>\n",
       "      <td>4.199316</td>\n",
       "      <td>3.384089</td>\n",
       "    </tr>\n",
       "  </tbody>\n",
       "</table>\n",
       "</div>"
      ],
      "text/plain": [
       "          satisfaction      ease  effective\n",
       "drug                                       \n",
       "Cymbalta      2.922437  4.022021   3.286763\n",
       "Effexor       3.149984  4.055793   3.691500\n",
       "Pristiq       3.093242  4.199316   3.384089"
      ]
     },
     "execution_count": 50,
     "metadata": {},
     "output_type": "execute_result"
    }
   ],
   "source": [
    "Dgroup7"
   ]
  },
  {
   "cell_type": "code",
   "execution_count": 171,
   "metadata": {},
   "outputs": [
    {
     "data": {
      "text/plain": [
       "<matplotlib.axes._subplots.AxesSubplot at 0x264e1038e10>"
      ]
     },
     "execution_count": 171,
     "metadata": {},
     "output_type": "execute_result"
    },
    {
     "data": {
      "image/png": "[encoded data removed]",
      "text/plain": [
       "<matplotlib.figure.Figure at 0x264e10618d0>"
      ]
     },
     "metadata": {},
     "output_type": "display_data"
    }
   ],
   "source": [
    "DSatplot = Dgroup7['satisfaction'].plot.bar(yerr = np.std(cymbalta.satisfaction))\n",
    "DSatplot"
   ]
  },
  {
   "cell_type": "code",
   "execution_count": 172,
   "metadata": {},
   "outputs": [
    {
     "data": {
      "text/plain": [
       "<matplotlib.axes._subplots.AxesSubplot at 0x264e10b0978>"
      ]
     },
     "execution_count": 172,
     "metadata": {},
     "output_type": "execute_result"
    },
    {
     "data": {
      "image/png": "[encoded data removed]",
      "text/plain": [
       "<matplotlib.figure.Figure at 0x264e10b0208>"
      ]
     },
     "metadata": {},
     "output_type": "display_data"
    }
   ],
   "source": [
    "plt.figure(1)\n",
    "plt.subplot(121)\n",
    "Dgroup7['satisfaction'].plot.bar(yerr = np.std(cymbalta.satisfaction))\n"
   ]
  },
  {
   "cell_type": "code",
   "execution_count": 173,
   "metadata": {
    "collapsed": true
   },
   "outputs": [],
   "source": [
    "from scipy import stats"
   ]
  },
  {
   "cell_type": "code",
   "execution_count": 174,
   "metadata": {},
   "outputs": [
    {
     "data": {
      "text/plain": [
       "Ttest_indResult(statistic=-3.1577594428900579, pvalue=0.0015988714318158413)"
      ]
     },
     "execution_count": 174,
     "metadata": {},
     "output_type": "execute_result"
    }
   ],
   "source": [
    "#taking some T tests\n",
    "stats.ttest_ind(cymbalta.satisfaction, pristiq.satisfaction)"
   ]
  },
  {
   "cell_type": "code",
   "execution_count": 175,
   "metadata": {},
   "outputs": [
    {
     "data": {
      "text/plain": [
       "Ttest_indResult(statistic=-5.9036738959127133, pvalue=3.7180216683152702e-09)"
      ]
     },
     "execution_count": 175,
     "metadata": {},
     "output_type": "execute_result"
    }
   ],
   "source": [
    "stats.ttest_ind(cymbalta.satisfaction, effexor.satisfaction)"
   ]
  },
  {
   "cell_type": "code",
   "execution_count": 176,
   "metadata": {},
   "outputs": [
    {
     "data": {
      "text/plain": [
       "1.6452147935865642"
      ]
     },
     "execution_count": 176,
     "metadata": {},
     "output_type": "execute_result"
    }
   ],
   "source": [
    "np.std(cymbalta.satisfaction)"
   ]
  },
  {
   "cell_type": "code",
   "execution_count": 177,
   "metadata": {},
   "outputs": [
    {
     "data": {
      "text/plain": [
       "F_onewayResult(statistic=18.578136895677062, pvalue=8.9047892321658098e-09)"
      ]
     },
     "execution_count": 177,
     "metadata": {},
     "output_type": "execute_result"
    }
   ],
   "source": [
    "stats.f_oneway(cymbalta.satisfaction, effexor.satisfaction, pristiq.satisfaction)"
   ]
  },
  {
   "cell_type": "code",
   "execution_count": 178,
   "metadata": {},
   "outputs": [
    {
     "data": {
      "text/plain": [
       "-4.550931901313797"
      ]
     },
     "execution_count": 178,
     "metadata": {},
     "output_type": "execute_result"
    }
   ],
   "source": [
    "(cymbalta.satisfaction.mean()- effexor.satisfaction.mean())*20"
   ]
  },
  {
   "cell_type": "code",
   "execution_count": 179,
   "metadata": {},
   "outputs": [
    {
     "data": {
      "text/plain": [
       "(0.81535564923333126, 0.0)"
      ]
     },
     "execution_count": 179,
     "metadata": {},
     "output_type": "execute_result"
    }
   ],
   "source": [
    "stats.pearsonr(Drugs.satisfaction, Drugs.effective) #demonstarting that satisfaction is closely linked to reviers opinion of 'effectiveness'"
   ]
  },
  {
   "cell_type": "code",
   "execution_count": 180,
   "metadata": {},
   "outputs": [
    {
     "data": {
      "text/plain": [
       "<matplotlib.axes._subplots.AxesSubplot at 0x264e1129860>"
      ]
     },
     "execution_count": 180,
     "metadata": {},
     "output_type": "execute_result"
    },
    {
     "data": {
      "image/png": "[encoded data removed]",
      "text/plain": [
       "<matplotlib.figure.Figure at 0x264e0569438>"
      ]
     },
     "metadata": {},
     "output_type": "display_data"
    }
   ],
   "source": [
    "Drugs.plot.scatter(x = 'effective', y = 'satisfaction') # lol that's not useful"
   ]
  },
  {
   "cell_type": "code",
   "execution_count": 181,
   "metadata": {},
   "outputs": [
    {
     "data": {
      "text/plain": [
       "(12,)"
      ]
     },
     "execution_count": 181,
     "metadata": {},
     "output_type": "execute_result"
    }
   ],
   "source": [
    "Dyear = Drugs.groupby('year')['satisfaction'].mean()\n",
    "Dyear.shape\n"
   ]
  },
  {
   "cell_type": "code",
   "execution_count": 182,
   "metadata": {},
   "outputs": [
    {
     "data": {
      "text/plain": [
       "<matplotlib.axes._subplots.AxesSubplot at 0x264e1129630>"
      ]
     },
     "execution_count": 182,
     "metadata": {},
     "output_type": "execute_result"
    },
    {
     "data": {
      "image/png": "[encoded data removed]",
      "text/plain": [
       "<matplotlib.figure.Figure at 0x264e1183470>"
      ]
     },
     "metadata": {},
     "output_type": "display_data"
    }
   ],
   "source": [
    "Drugs.satisfaction.plot.hist() # this should have been your first plot "
   ]
  },
  {
   "cell_type": "code",
   "execution_count": 190,
   "metadata": {},
   "outputs": [
    {
     "data": {
      "text/plain": [
       "<matplotlib.axes._subplots.AxesSubplot at 0x264e23c49e8>"
      ]
     },
     "execution_count": 190,
     "metadata": {},
     "output_type": "execute_result"
    },
    {
     "data": {
      "image/png": "[encoded data removed]",
      "text/plain": [
       "<matplotlib.figure.Figure at 0x264e2302390>"
      ]
     },
     "metadata": {},
     "output_type": "display_data"
    }
   ],
   "source": [
    "pristiq.satisfaction.plot.hist(bins = 5)"
   ]
  },
  {
   "cell_type": "code",
   "execution_count": 202,
   "metadata": {},
   "outputs": [
    {
     "data": {
      "text/plain": [
       "<matplotlib.axes._subplots.AxesSubplot at 0x264e2469470>"
      ]
     },
     "execution_count": 202,
     "metadata": {},
     "output_type": "execute_result"
    },
    {
     "data": {
      "image/png": "[encoded data removed]",
      "text/plain": [
       "<matplotlib.figure.Figure at 0x264e2416da0>"
      ]
     },
     "metadata": {},
     "output_type": "display_data"
    }
   ],
   "source": [
    "DRates = Drugs.groupby(['drug', 'satisfaction'])['Date_time'].count()\n",
    "DRates = DRates.unstack(level = 0)\n",
    "DRates.plot.bar()"
   ]
  },
  {
   "cell_type": "code",
   "execution_count": 211,
   "metadata": {},
   "outputs": [
    {
     "data": {
      "text/plain": [
       "<matplotlib.axes._subplots.AxesSubplot at 0x264e2469c88>"
      ]
     },
     "execution_count": 211,
     "metadata": {},
     "output_type": "execute_result"
    },
    {
     "data": {
      "image/png": "[encoded data removed]",
      "text/plain": [
       "<matplotlib.figure.Figure at 0x264e21b7e80>"
      ]
     },
     "metadata": {},
     "output_type": "display_data"
    }
   ],
   "source": [
    "Drates2 = pd.crosstab(Drugs.satisfaction, Drugs.drug, normalize = \"columns\")\n",
    "Drates2.plot.bar()"
   ]
  },
  {
   "cell_type": "code",
   "execution_count": 184,
   "metadata": {
    "collapsed": true
   },
   "outputs": [],
   "source": [
    "# binary is obvious. let's separate the groups with another category 'satcat'\n",
    "# Assumption: 2 and below is v.neg, 3 and up is ok to good\n",
    "# these are two populations \n",
    "Drugs['Sat'] = np.nan\n"
   ]
  },
  {
   "cell_type": "code",
   "execution_count": 185,
   "metadata": {
    "collapsed": true
   },
   "outputs": [],
   "source": [
    "Drugs.loc[Drugs.satisfaction <= 2, 'Sat'] = 'poor (1-2)' \n",
    "Drugs.loc[Drugs.satisfaction == 3, 'Sat'] = 'ok (3)'\n",
    "Drugs.loc[Drugs.satisfaction > 3, 'Sat'] = 'good (4-5)'"
   ]
  },
  {
   "cell_type": "code",
   "execution_count": 186,
   "metadata": {},
   "outputs": [
    {
     "data": {
      "text/plain": [
       "count           8303\n",
       "unique             3\n",
       "top       good (4-5)\n",
       "freq            3833\n",
       "Name: Sat, dtype: object"
      ]
     },
     "execution_count": 186,
     "metadata": {},
     "output_type": "execute_result"
    }
   ],
   "source": [
    "Drugs.Sat.describe()"
   ]
  },
  {
   "cell_type": "code",
   "execution_count": 138,
   "metadata": {},
   "outputs": [
    {
     "data": {
      "text/plain": [
       "<matplotlib.axes._subplots.AxesSubplot at 0x264e0589898>"
      ]
     },
     "execution_count": 138,
     "metadata": {},
     "output_type": "execute_result"
    },
    {
     "data": {
      "image/png": "[encoded data removed]",
      "text/plain": [
       "<matplotlib.figure.Figure at 0x264e0605550>"
      ]
     },
     "metadata": {},
     "output_type": "display_data"
    }
   ],
   "source": [
    "DgroupB = Drugs.groupby(['Sat'])['satisfaction'].count()\n",
    "DgroupB.plot.bar()\n"
   ]
  },
  {
   "cell_type": "code",
   "execution_count": 385,
   "metadata": {},
   "outputs": [
    {
     "data": {
      "text/plain": [
       "(38.591970615710736,\n",
       " 4.1673507788670685e-09,\n",
       " 2,\n",
       " array([[ 1910.58653576,  1643.41346424],\n",
       "        [ 1385.90098177,  1192.09901823],\n",
       "        [  536.51248247,   461.48751753]]))"
      ]
     },
     "execution_count": 385,
     "metadata": {},
     "output_type": "execute_result"
    },
    {
     "data": {
      "image/png": "[encoded data removed]",
      "text/plain": [
       "<matplotlib.figure.Figure at 0x264e5a12400>"
      ]
     },
     "metadata": {},
     "output_type": "display_data"
    }
   ],
   "source": [
    "DsatG = pd.crosstab(Drugs.drug, Drugs.Sat, normalize = 'index')\n",
    "DsatG = DsatG.iloc[:, [0,2]]\n",
    "DsatG\n",
    "DsatG.plot.bar()\n",
    "DsatGt = pd.crosstab(Drugs.drug, Drugs.Sat)\n",
    "DsatGt = DsatGt.iloc[:, [0,2]]\n",
    "stats.chi2_contingency(DsatGt)"
   ]
  },
  {
   "cell_type": "code",
   "execution_count": 139,
   "metadata": {
    "collapsed": true
   },
   "outputs": [],
   "source": [
    "Drugs.to_csv('Drugs.csv', sep = ',', encoding = 'utf-8')"
   ]
  },
  {
   "cell_type": "code",
   "execution_count": 140,
   "metadata": {
    "collapsed": true
   },
   "outputs": [],
   "source": [
    "# we run chisq test across satisfaction, effectiveness, ease of use \n",
    "meds = [cymbalta, effexor, pristiq]\n",
    "\n",
    "for med in meds:\n",
    "    sat = []\n",
    "    eff = []\n",
    "    ease = []\n",
    "    sat.append([med.satisfaction.astype])\n"
   ]
  },
  {
   "cell_type": "code",
   "execution_count": 141,
   "metadata": {
    "collapsed": true
   },
   "outputs": [],
   "source": [
    "sat = [cymbalta.satisfaction, effexor.satisfaction, pristiq.satisfaction]"
   ]
  },
  {
   "cell_type": "code",
   "execution_count": 142,
   "metadata": {
    "collapsed": true
   },
   "outputs": [],
   "source": [
    "eff = [cymbalta.effective, effexor.effective, pristiq.effective]"
   ]
  },
  {
   "cell_type": "code",
   "execution_count": 143,
   "metadata": {
    "collapsed": true
   },
   "outputs": [],
   "source": [
    "ease = [cymbalta.ease, effexor.ease, pristiq.ease]"
   ]
  },
  {
   "cell_type": "code",
   "execution_count": null,
   "metadata": {},
   "outputs": [],
   "source": []
  },
  {
   "cell_type": "code",
   "execution_count": 357,
   "metadata": {
    "collapsed": true
   },
   "outputs": [],
   "source": [
    "def rates(med):\n",
    "    ratings = []\n",
    "    for rating in range(1,6):\n",
    "        ratings.append(len(Drugs.loc[(Drugs.drug == med) & (Drugs.satisfaction == rating)]))\n",
    "    return(ratings)"
   ]
  },
  {
   "cell_type": "code",
   "execution_count": 358,
   "metadata": {
    "collapsed": true
   },
   "outputs": [],
   "source": [
    "def rates2(med):\n",
    "    ratings = []\n",
    "    for rating in ['good', 'poor']:\n",
    "        ratings.append(len(Drugs.loc[(Drugs.drug == med) & (Drugs.Sat == rating)]))\n",
    "    return(ratings)"
   ]
  },
  {
   "cell_type": "code",
   "execution_count": null,
   "metadata": {
    "collapsed": true
   },
   "outputs": [],
   "source": []
  },
  {
   "cell_type": "code",
   "execution_count": 359,
   "metadata": {
    "collapsed": true
   },
   "outputs": [],
   "source": [
    "cymbalta_sat = rates('Cymbalta')\n",
    "effexor_sat = rates(\"Effexor\")\n",
    "pristiq_sat = rates('Pristiq')"
   ]
  },
  {
   "cell_type": "code",
   "execution_count": 360,
   "metadata": {},
   "outputs": [
    {
     "name": "stdout",
     "output_type": "stream",
     "text": [
      "[318, 129, 171, 228, 323]\n",
      "[801, 279, 469, 658, 840]\n",
      "[1421, 349, 533, 694, 1090]\n"
     ]
    }
   ],
   "source": [
    "print(pristiq_sat)\n",
    "print(effexor_sat)\n",
    "print(cymbalta_sat)"
   ]
  },
  {
   "cell_type": "code",
   "execution_count": 343,
   "metadata": {},
   "outputs": [
    {
     "data": {
      "text/plain": [
       "Power_divergenceResult(statistic=1160.4441302658404, pvalue=5.985506785419385e-250)"
      ]
     },
     "execution_count": 343,
     "metadata": {},
     "output_type": "execute_result"
    }
   ],
   "source": [
    "stats.chisquare(pristiq_sat, effexor_sat)"
   ]
  },
  {
   "cell_type": "code",
   "execution_count": 344,
   "metadata": {},
   "outputs": [],
   "source": [
    "cymbalta_sat2 = rates2('Cymbalta')\n",
    "effexor_sat2 = rates2(\"Effexor\")\n",
    "pristiq_sat2 = rates2('Pristiq')"
   ]
  },
  {
   "cell_type": "code",
   "execution_count": 345,
   "metadata": {},
   "outputs": [
    {
     "name": "stdout",
     "output_type": "stream",
     "text": [
      "[0, 0]\n",
      "[0, 0]\n",
      "[0, 0]\n"
     ]
    }
   ],
   "source": [
    "print(pristiq_sat2)\n",
    "print(effexor_sat2)\n",
    "print(cymbalta_sat2)"
   ]
  },
  {
   "cell_type": "code",
   "execution_count": 346,
   "metadata": {},
   "outputs": [
    {
     "name": "stderr",
     "output_type": "stream",
     "text": [
      "C:\\Users\\Gardenia\\Anaconda3\\lib\\site-packages\\scipy\\stats\\stats.py:4544: RuntimeWarning: invalid value encountered in true_divide\n",
      "  terms = (f_obs - f_exp)**2 / f_exp\n",
      "C:\\Users\\Gardenia\\Anaconda3\\lib\\site-packages\\scipy\\stats\\_distn_infrastructure.py:879: RuntimeWarning: invalid value encountered in greater\n",
      "  return (self.a < x) & (x < self.b)\n",
      "C:\\Users\\Gardenia\\Anaconda3\\lib\\site-packages\\scipy\\stats\\_distn_infrastructure.py:879: RuntimeWarning: invalid value encountered in less\n",
      "  return (self.a < x) & (x < self.b)\n",
      "C:\\Users\\Gardenia\\Anaconda3\\lib\\site-packages\\scipy\\stats\\_distn_infrastructure.py:1818: RuntimeWarning: invalid value encountered in less_equal\n",
      "  cond2 = cond0 & (x <= self.a)\n"
     ]
    },
    {
     "data": {
      "text/plain": [
       "Power_divergenceResult(statistic=nan, pvalue=nan)"
      ]
     },
     "execution_count": 346,
     "metadata": {},
     "output_type": "execute_result"
    }
   ],
   "source": [
    "stats.chisquare(cymbalta_sat2, effexor_sat2)"
   ]
  },
  {
   "cell_type": "code",
   "execution_count": 347,
   "metadata": {},
   "outputs": [],
   "source": [
    "rate_arry = np.array([pristiq_sat2, effexor_sat2, cymbalta_sat2])"
   ]
  },
  {
   "cell_type": "code",
   "execution_count": 351,
   "metadata": {},
   "outputs": [],
   "source": [
    "good = [rate_arry[x][0] for x in [0,1,2]]\n",
    "bad = [rate_arry[x][1] for x in [0,1,2]]"
   ]
  },
  {
   "cell_type": "code",
   "execution_count": 352,
   "metadata": {},
   "outputs": [],
   "source": [
    "gvb = np.array([good,bad])"
   ]
  },
  {
   "cell_type": "code",
   "execution_count": 353,
   "metadata": {},
   "outputs": [
    {
     "data": {
      "text/plain": [
       "array([[0, 0, 0],\n",
       "       [0, 0, 0]])"
      ]
     },
     "execution_count": 353,
     "metadata": {},
     "output_type": "execute_result"
    }
   ],
   "source": [
    "gvb"
   ]
  },
  {
   "cell_type": "code",
   "execution_count": 354,
   "metadata": {},
   "outputs": [
    {
     "name": "stderr",
     "output_type": "stream",
     "text": [
      "C:\\Users\\Gardenia\\Anaconda3\\lib\\site-packages\\scipy\\stats\\contingency.py:107: RuntimeWarning: invalid value encountered in true_divide\n",
      "  expected = reduce(np.multiply, margsums) / observed.sum() ** (d - 1)\n",
      "C:\\Users\\Gardenia\\Anaconda3\\lib\\site-packages\\scipy\\stats\\_distn_infrastructure.py:879: RuntimeWarning: invalid value encountered in greater\n",
      "  return (self.a < x) & (x < self.b)\n",
      "C:\\Users\\Gardenia\\Anaconda3\\lib\\site-packages\\scipy\\stats\\_distn_infrastructure.py:879: RuntimeWarning: invalid value encountered in less\n",
      "  return (self.a < x) & (x < self.b)\n",
      "C:\\Users\\Gardenia\\Anaconda3\\lib\\site-packages\\scipy\\stats\\_distn_infrastructure.py:1818: RuntimeWarning: invalid value encountered in less_equal\n",
      "  cond2 = cond0 & (x <= self.a)\n"
     ]
    },
    {
     "data": {
      "text/plain": [
       "(nan, nan, 2, array([[ nan,  nan,  nan],\n",
       "        [ nan,  nan,  nan]]))"
      ]
     },
     "execution_count": 354,
     "metadata": {},
     "output_type": "execute_result"
    }
   ],
   "source": [
    "stats.chi2_contingency(gvb)"
   ]
  },
  {
   "cell_type": "code",
   "execution_count": 355,
   "metadata": {},
   "outputs": [
    {
     "data": {
      "text/html": [
       "<div>\n",
       "<style>\n",
       "    .dataframe thead tr:only-child th {\n",
       "        text-align: right;\n",
       "    }\n",
       "\n",
       "    .dataframe thead th {\n",
       "        text-align: left;\n",
       "    }\n",
       "\n",
       "    .dataframe tbody tr th {\n",
       "        vertical-align: top;\n",
       "    }\n",
       "</style>\n",
       "<table border=\"1\" class=\"dataframe\">\n",
       "  <thead>\n",
       "    <tr style=\"text-align: right;\">\n",
       "      <th></th>\n",
       "      <th>Pristiq</th>\n",
       "      <th>Effexor</th>\n",
       "      <th>Cymbalta</th>\n",
       "    </tr>\n",
       "  </thead>\n",
       "  <tbody>\n",
       "    <tr>\n",
       "      <th>Good</th>\n",
       "      <td>0</td>\n",
       "      <td>0</td>\n",
       "      <td>0</td>\n",
       "    </tr>\n",
       "    <tr>\n",
       "      <th>Poor</th>\n",
       "      <td>0</td>\n",
       "      <td>0</td>\n",
       "      <td>0</td>\n",
       "    </tr>\n",
       "  </tbody>\n",
       "</table>\n",
       "</div>"
      ],
      "text/plain": [
       "      Pristiq  Effexor  Cymbalta\n",
       "Good        0        0         0\n",
       "Poor        0        0         0"
      ]
     },
     "execution_count": 355,
     "metadata": {},
     "output_type": "execute_result"
    }
   ],
   "source": [
    "gvbdf = pd.DataFrame(gvb, columns = ['Pristiq', 'Effexor', 'Cymbalta'], index = ['Good', 'Poor'])\n",
    "gvbdf\n"
   ]
  },
  {
   "cell_type": "code",
   "execution_count": 159,
   "metadata": {},
   "outputs": [
    {
     "data": {
      "text/plain": [
       "<matplotlib.axes._subplots.AxesSubplot at 0x264e06faac8>"
      ]
     },
     "execution_count": 159,
     "metadata": {},
     "output_type": "execute_result"
    },
    {
     "data": {
      "image/png": "[encoded data removed]",
      "text/plain": [
       "<matplotlib.figure.Figure at 0x264e052c2e8>"
      ]
     },
     "metadata": {},
     "output_type": "display_data"
    }
   ],
   "source": [
    "gvbdf.plot.bar()"
   ]
  },
  {
   "cell_type": "code",
   "execution_count": 101,
   "metadata": {},
   "outputs": [
    {
     "ename": "NameError",
     "evalue": "name 'gvbdf' is not defined",
     "output_type": "error",
     "traceback": [
      "\u001b[1;31m---------------------------------------------------------------------------\u001b[0m",
      "\u001b[1;31mNameError\u001b[0m                                 Traceback (most recent call last)",
      "\u001b[1;32m<ipython-input-101-efb0fd70e8ba>\u001b[0m in \u001b[0;36m<module>\u001b[1;34m()\u001b[0m\n\u001b[1;32m----> 1\u001b[1;33m \u001b[0mratio\u001b[0m \u001b[1;33m=\u001b[0m \u001b[0mnp\u001b[0m\u001b[1;33m.\u001b[0m\u001b[0marray\u001b[0m\u001b[1;33m(\u001b[0m\u001b[1;33m[\u001b[0m\u001b[0mgvbdf\u001b[0m\u001b[1;33m.\u001b[0m\u001b[0mloc\u001b[0m\u001b[1;33m[\u001b[0m\u001b[1;34m'Good'\u001b[0m\u001b[1;33m,\u001b[0m \u001b[0mdrug\u001b[0m\u001b[1;33m]\u001b[0m\u001b[1;33m/\u001b[0m\u001b[0mgvbdf\u001b[0m\u001b[1;33m.\u001b[0m\u001b[0mloc\u001b[0m\u001b[1;33m[\u001b[0m\u001b[1;34m'Poor'\u001b[0m\u001b[1;33m,\u001b[0m \u001b[0mdrug\u001b[0m\u001b[1;33m]\u001b[0m \u001b[1;32mfor\u001b[0m \u001b[0mdrug\u001b[0m \u001b[1;32min\u001b[0m \u001b[0mgvbdf\u001b[0m\u001b[1;33m.\u001b[0m\u001b[0mcolumns\u001b[0m\u001b[1;33m]\u001b[0m\u001b[1;33m)\u001b[0m\u001b[1;33m.\u001b[0m\u001b[0mreshape\u001b[0m\u001b[1;33m(\u001b[0m\u001b[1;36m3\u001b[0m\u001b[1;33m,\u001b[0m\u001b[1;36m1\u001b[0m\u001b[1;33m)\u001b[0m\u001b[1;33m\u001b[0m\u001b[0m\n\u001b[0m",
      "\u001b[1;31mNameError\u001b[0m: name 'gvbdf' is not defined"
     ]
    }
   ],
   "source": [
    "ratio = np.array([gvbdf.loc['Good', drug]/gvbdf.loc['Poor', drug] for drug in gvbdf.columns]).reshape(3,1)"
   ]
  },
  {
   "cell_type": "code",
   "execution_count": 102,
   "metadata": {},
   "outputs": [
    {
     "ename": "NameError",
     "evalue": "name 'ratio' is not defined",
     "output_type": "error",
     "traceback": [
      "\u001b[1;31m---------------------------------------------------------------------------\u001b[0m",
      "\u001b[1;31mNameError\u001b[0m                                 Traceback (most recent call last)",
      "\u001b[1;32m<ipython-input-102-ddeeefc0b5c0>\u001b[0m in \u001b[0;36m<module>\u001b[1;34m()\u001b[0m\n\u001b[1;32m----> 1\u001b[1;33m \u001b[0mratiodf\u001b[0m \u001b[1;33m=\u001b[0m \u001b[0mpd\u001b[0m\u001b[1;33m.\u001b[0m\u001b[0mDataFrame\u001b[0m\u001b[1;33m(\u001b[0m\u001b[0mratio\u001b[0m\u001b[1;33m,\u001b[0m \u001b[0mindex\u001b[0m \u001b[1;33m=\u001b[0m \u001b[0mgvbdf\u001b[0m\u001b[1;33m.\u001b[0m\u001b[0mcolumns\u001b[0m\u001b[1;33m)\u001b[0m\u001b[1;33m\u001b[0m\u001b[0m\n\u001b[0m",
      "\u001b[1;31mNameError\u001b[0m: name 'ratio' is not defined"
     ]
    }
   ],
   "source": [
    "ratiodf = pd.DataFrame(ratio, index = gvbdf.columns)"
   ]
  },
  {
   "cell_type": "code",
   "execution_count": 103,
   "metadata": {},
   "outputs": [
    {
     "ename": "NameError",
     "evalue": "name 'ratiodf' is not defined",
     "output_type": "error",
     "traceback": [
      "\u001b[1;31m---------------------------------------------------------------------------\u001b[0m",
      "\u001b[1;31mNameError\u001b[0m                                 Traceback (most recent call last)",
      "\u001b[1;32m<ipython-input-103-9c3c992d4d81>\u001b[0m in \u001b[0;36m<module>\u001b[1;34m()\u001b[0m\n\u001b[1;32m----> 1\u001b[1;33m \u001b[0mratiodf\u001b[0m\u001b[1;33m.\u001b[0m\u001b[0mplot\u001b[0m\u001b[1;33m.\u001b[0m\u001b[0mbar\u001b[0m\u001b[1;33m(\u001b[0m\u001b[1;33m)\u001b[0m\u001b[1;33m\u001b[0m\u001b[0m\n\u001b[0m",
      "\u001b[1;31mNameError\u001b[0m: name 'ratiodf' is not defined"
     ]
    }
   ],
   "source": [
    "ratiodf.plot.bar()"
   ]
  },
  {
   "cell_type": "code",
   "execution_count": 104,
   "metadata": {},
   "outputs": [
    {
     "data": {
      "text/html": [
       "<div>\n",
       "<style>\n",
       "    .dataframe thead tr:only-child th {\n",
       "        text-align: right;\n",
       "    }\n",
       "\n",
       "    .dataframe thead th {\n",
       "        text-align: left;\n",
       "    }\n",
       "\n",
       "    .dataframe tbody tr th {\n",
       "        vertical-align: top;\n",
       "    }\n",
       "</style>\n",
       "<table border=\"1\" class=\"dataframe\">\n",
       "  <thead>\n",
       "    <tr style=\"text-align: right;\">\n",
       "      <th>drug</th>\n",
       "      <th>Cymbalta</th>\n",
       "      <th>Effexor</th>\n",
       "      <th>Pristiq</th>\n",
       "    </tr>\n",
       "    <tr>\n",
       "      <th>sex</th>\n",
       "      <th></th>\n",
       "      <th></th>\n",
       "      <th></th>\n",
       "    </tr>\n",
       "  </thead>\n",
       "  <tbody>\n",
       "    <tr>\n",
       "      <th>Female</th>\n",
       "      <td>3167</td>\n",
       "      <td>2412</td>\n",
       "      <td>916</td>\n",
       "    </tr>\n",
       "    <tr>\n",
       "      <th>Male</th>\n",
       "      <td>683</td>\n",
       "      <td>451</td>\n",
       "      <td>195</td>\n",
       "    </tr>\n",
       "  </tbody>\n",
       "</table>\n",
       "</div>"
      ],
      "text/plain": [
       "drug    Cymbalta  Effexor  Pristiq\n",
       "sex                               \n",
       "Female      3167     2412      916\n",
       "Male         683      451      195"
      ]
     },
     "execution_count": 104,
     "metadata": {},
     "output_type": "execute_result"
    }
   ],
   "source": [
    "SexGroup = Drugs.groupby(['drug', 'sex'])['sex'].count()\n",
    "SexGroupdf = SexGroup.unstack(level = 0)\n",
    "SexGroupArr = SexGroupdf.values\n",
    "SexGroupdf"
   ]
  },
  {
   "cell_type": "code",
   "execution_count": 382,
   "metadata": {},
   "outputs": [
    {
     "data": {
      "text/plain": [
       "(4.8937052953880418,\n",
       " 0.086565610671230808,\n",
       " 2,\n",
       " array([[ 3196.03144172,  2376.68519939,   922.2833589 ],\n",
       "        [  653.96855828,   486.31480061,   188.7166411 ]]))"
      ]
     },
     "execution_count": 382,
     "metadata": {},
     "output_type": "execute_result"
    }
   ],
   "source": [
    "stats.chi2_contingency(SexGroupArr) # MF ratio same across 3 drugs "
   ]
  },
  {
   "cell_type": "code",
   "execution_count": 106,
   "metadata": {
    "collapsed": true
   },
   "outputs": [],
   "source": [
    "MFratio = np.array([SexGroupdf.loc['Male', drug]/SexGroupdf.loc['Female', drug] for drug in SexGroupdf.columns]).reshape(3,1)"
   ]
  },
  {
   "cell_type": "code",
   "execution_count": 107,
   "metadata": {
    "collapsed": true
   },
   "outputs": [],
   "source": [
    "MFratiodf = pd.DataFrame(MFratio, index = SexGroupdf.columns, columns = ['M/F ratio'])"
   ]
  },
  {
   "cell_type": "code",
   "execution_count": 108,
   "metadata": {},
   "outputs": [
    {
     "data": {
      "text/html": [
       "<div>\n",
       "<style>\n",
       "    .dataframe thead tr:only-child th {\n",
       "        text-align: right;\n",
       "    }\n",
       "\n",
       "    .dataframe thead th {\n",
       "        text-align: left;\n",
       "    }\n",
       "\n",
       "    .dataframe tbody tr th {\n",
       "        vertical-align: top;\n",
       "    }\n",
       "</style>\n",
       "<table border=\"1\" class=\"dataframe\">\n",
       "  <thead>\n",
       "    <tr style=\"text-align: right;\">\n",
       "      <th></th>\n",
       "      <th>M/F ratio</th>\n",
       "    </tr>\n",
       "    <tr>\n",
       "      <th>drug</th>\n",
       "      <th></th>\n",
       "    </tr>\n",
       "  </thead>\n",
       "  <tbody>\n",
       "    <tr>\n",
       "      <th>Cymbalta</th>\n",
       "      <td>0.215662</td>\n",
       "    </tr>\n",
       "    <tr>\n",
       "      <th>Effexor</th>\n",
       "      <td>0.186982</td>\n",
       "    </tr>\n",
       "    <tr>\n",
       "      <th>Pristiq</th>\n",
       "      <td>0.212882</td>\n",
       "    </tr>\n",
       "  </tbody>\n",
       "</table>\n",
       "</div>"
      ],
      "text/plain": [
       "          M/F ratio\n",
       "drug               \n",
       "Cymbalta   0.215662\n",
       "Effexor    0.186982\n",
       "Pristiq    0.212882"
      ]
     },
     "execution_count": 108,
     "metadata": {},
     "output_type": "execute_result"
    }
   ],
   "source": [
    "MFratiodf"
   ]
  },
  {
   "cell_type": "code",
   "execution_count": 109,
   "metadata": {
    "collapsed": true
   },
   "outputs": [],
   "source": [
    "CondGroup = Drugs.groupby(['drug', 'cat'])['cat'].count()\n",
    "CondGroupdf = CondGroup.unstack(level=0)\n",
    "CondGroupdf2 = CondGroupdf.iloc[[0,2]]\n",
    "CondGroupArr = CondGroupdf2.values"
   ]
  },
  {
   "cell_type": "code",
   "execution_count": 110,
   "metadata": {},
   "outputs": [
    {
     "data": {
      "text/html": [
       "<div>\n",
       "<style>\n",
       "    .dataframe thead tr:only-child th {\n",
       "        text-align: right;\n",
       "    }\n",
       "\n",
       "    .dataframe thead th {\n",
       "        text-align: left;\n",
       "    }\n",
       "\n",
       "    .dataframe tbody tr th {\n",
       "        vertical-align: top;\n",
       "    }\n",
       "</style>\n",
       "<table border=\"1\" class=\"dataframe\">\n",
       "  <thead>\n",
       "    <tr style=\"text-align: right;\">\n",
       "      <th>drug</th>\n",
       "      <th>Cymbalta</th>\n",
       "      <th>Effexor</th>\n",
       "      <th>Pristiq</th>\n",
       "    </tr>\n",
       "    <tr>\n",
       "      <th>cat</th>\n",
       "      <th></th>\n",
       "      <th></th>\n",
       "      <th></th>\n",
       "    </tr>\n",
       "  </thead>\n",
       "  <tbody>\n",
       "    <tr>\n",
       "      <th>Behavior</th>\n",
       "      <td>2249</td>\n",
       "      <td>2825</td>\n",
       "      <td>1102</td>\n",
       "    </tr>\n",
       "    <tr>\n",
       "      <th>Pain</th>\n",
       "      <td>1360</td>\n",
       "      <td>40</td>\n",
       "      <td>18</td>\n",
       "    </tr>\n",
       "  </tbody>\n",
       "</table>\n",
       "</div>"
      ],
      "text/plain": [
       "drug      Cymbalta  Effexor  Pristiq\n",
       "cat                                 \n",
       "Behavior      2249     2825     1102\n",
       "Pain          1360       40       18"
      ]
     },
     "execution_count": 110,
     "metadata": {},
     "output_type": "execute_result"
    }
   ],
   "source": [
    "CondGroupdf2"
   ]
  },
  {
   "cell_type": "code",
   "execution_count": 111,
   "metadata": {},
   "outputs": [
    {
     "data": {
      "text/html": [
       "<div>\n",
       "<style>\n",
       "    .dataframe thead tr:only-child th {\n",
       "        text-align: right;\n",
       "    }\n",
       "\n",
       "    .dataframe thead th {\n",
       "        text-align: left;\n",
       "    }\n",
       "\n",
       "    .dataframe tbody tr th {\n",
       "        vertical-align: top;\n",
       "    }\n",
       "</style>\n",
       "<table border=\"1\" class=\"dataframe\">\n",
       "  <thead>\n",
       "    <tr style=\"text-align: right;\">\n",
       "      <th>cat</th>\n",
       "      <th>Behavior</th>\n",
       "      <th>Pain</th>\n",
       "    </tr>\n",
       "    <tr>\n",
       "      <th>drug</th>\n",
       "      <th></th>\n",
       "      <th></th>\n",
       "    </tr>\n",
       "  </thead>\n",
       "  <tbody>\n",
       "    <tr>\n",
       "      <th>Cymbalta</th>\n",
       "      <td>0.550281</td>\n",
       "      <td>0.332762</td>\n",
       "    </tr>\n",
       "    <tr>\n",
       "      <th>Effexor</th>\n",
       "      <td>0.927141</td>\n",
       "      <td>0.013128</td>\n",
       "    </tr>\n",
       "    <tr>\n",
       "      <th>Pristiq</th>\n",
       "      <td>0.942686</td>\n",
       "      <td>0.015398</td>\n",
       "    </tr>\n",
       "  </tbody>\n",
       "</table>\n",
       "</div>"
      ],
      "text/plain": [
       "cat       Behavior      Pain\n",
       "drug                        \n",
       "Cymbalta  0.550281  0.332762\n",
       "Effexor   0.927141  0.013128\n",
       "Pristiq   0.942686  0.015398"
      ]
     },
     "execution_count": 111,
     "metadata": {},
     "output_type": "execute_result"
    }
   ],
   "source": [
    "CondTab = pd.crosstab(Drugs.drug, Drugs.cat,normalize = 'index')[['Behavior','Pain']]\n",
    "CondTab"
   ]
  },
  {
   "cell_type": "code",
   "execution_count": 112,
   "metadata": {},
   "outputs": [
    {
     "data": {
      "text/plain": [
       "<matplotlib.axes._subplots.AxesSubplot at 0x264df04e8d0>"
      ]
     },
     "execution_count": 112,
     "metadata": {},
     "output_type": "execute_result"
    },
    {
     "data": {
      "image/png": "[encoded data removed]",
      "text/plain": [
       "<matplotlib.figure.Figure at 0x264e015ae48>"
      ]
     },
     "metadata": {},
     "output_type": "display_data"
    }
   ],
   "source": [
    "CondTab.plot.bar()"
   ]
  },
  {
   "cell_type": "code",
   "execution_count": 113,
   "metadata": {},
   "outputs": [
    {
     "data": {
      "text/plain": [
       "array([[2249, 2825, 1102],\n",
       "       [1360,   40,   18]], dtype=int64)"
      ]
     },
     "execution_count": 113,
     "metadata": {},
     "output_type": "execute_result"
    }
   ],
   "source": [
    "CondGroupArr = CondGroupArr.reshape((2,3), order = 'F')\n",
    "CondGroupArr"
   ]
  },
  {
   "cell_type": "code",
   "execution_count": 381,
   "metadata": {},
   "outputs": [
    {
     "data": {
      "text/plain": [
       "(1636.8162264295127,\n",
       " 0.0,\n",
       " 2,\n",
       " array([[ 2935.10455623,  2330.02897024,   910.86647353],\n",
       "        [  673.89544377,   534.97102976,   209.13352647]]))"
      ]
     },
     "execution_count": 381,
     "metadata": {},
     "output_type": "execute_result"
    }
   ],
   "source": [
    "stats.chi2_contingency(CondGroupArr) # there is very little doubt that condition is a factor with a pvalue at 0"
   ]
  },
  {
   "cell_type": "code",
   "execution_count": 115,
   "metadata": {
    "collapsed": true
   },
   "outputs": [],
   "source": [
    "AgeGroup = Drugs.groupby(['drug', 'age'])['age'].count()\n",
    "AgeGroupdf = AgeGroup.unstack(level = 0)"
   ]
  },
  {
   "cell_type": "code",
   "execution_count": 116,
   "metadata": {
    "collapsed": true
   },
   "outputs": [],
   "source": [
    "AgeGroupdf2 = AgeGroupdf.iloc[range(1,len(AgeGroupdf))]"
   ]
  },
  {
   "cell_type": "code",
   "execution_count": 117,
   "metadata": {},
   "outputs": [
    {
     "data": {
      "text/html": [
       "<div>\n",
       "<style>\n",
       "    .dataframe thead tr:only-child th {\n",
       "        text-align: right;\n",
       "    }\n",
       "\n",
       "    .dataframe thead th {\n",
       "        text-align: left;\n",
       "    }\n",
       "\n",
       "    .dataframe tbody tr th {\n",
       "        vertical-align: top;\n",
       "    }\n",
       "</style>\n",
       "<table border=\"1\" class=\"dataframe\">\n",
       "  <thead>\n",
       "    <tr style=\"text-align: right;\">\n",
       "      <th>drug</th>\n",
       "      <th>Cymbalta</th>\n",
       "      <th>Effexor</th>\n",
       "      <th>Pristiq</th>\n",
       "    </tr>\n",
       "    <tr>\n",
       "      <th>age</th>\n",
       "      <th></th>\n",
       "      <th></th>\n",
       "      <th></th>\n",
       "    </tr>\n",
       "  </thead>\n",
       "  <tbody>\n",
       "    <tr>\n",
       "      <th>19-24</th>\n",
       "      <td>202</td>\n",
       "      <td>233</td>\n",
       "      <td>65</td>\n",
       "    </tr>\n",
       "    <tr>\n",
       "      <th>25-34</th>\n",
       "      <td>534</td>\n",
       "      <td>612</td>\n",
       "      <td>225</td>\n",
       "    </tr>\n",
       "    <tr>\n",
       "      <th>35-44</th>\n",
       "      <td>770</td>\n",
       "      <td>603</td>\n",
       "      <td>269</td>\n",
       "    </tr>\n",
       "    <tr>\n",
       "      <th>45-54</th>\n",
       "      <td>1110</td>\n",
       "      <td>739</td>\n",
       "      <td>322</td>\n",
       "    </tr>\n",
       "    <tr>\n",
       "      <th>55-64</th>\n",
       "      <td>856</td>\n",
       "      <td>491</td>\n",
       "      <td>200</td>\n",
       "    </tr>\n",
       "    <tr>\n",
       "      <th>65-74</th>\n",
       "      <td>322</td>\n",
       "      <td>157</td>\n",
       "      <td>33</td>\n",
       "    </tr>\n",
       "  </tbody>\n",
       "</table>\n",
       "</div>"
      ],
      "text/plain": [
       "drug   Cymbalta  Effexor  Pristiq\n",
       "age                              \n",
       "19-24       202      233       65\n",
       "25-34       534      612      225\n",
       "35-44       770      603      269\n",
       "45-54      1110      739      322\n",
       "55-64       856      491      200\n",
       "65-74       322      157       33"
      ]
     },
     "execution_count": 117,
     "metadata": {},
     "output_type": "execute_result"
    }
   ],
   "source": [
    "AgeGroupdf2"
   ]
  },
  {
   "cell_type": "code",
   "execution_count": 118,
   "metadata": {
    "collapsed": true
   },
   "outputs": [],
   "source": [
    "Agect = pd.crosstab(Drugs.age, Drugs.drug, margins = True, normalize = 'columns') # easy way to also get contingency table"
   ]
  },
  {
   "cell_type": "code",
   "execution_count": 119,
   "metadata": {
    "collapsed": true
   },
   "outputs": [],
   "source": [
    "Agect2 = Agect.iloc[range(1,len(Agect))]"
   ]
  },
  {
   "cell_type": "code",
   "execution_count": 120,
   "metadata": {},
   "outputs": [
    {
     "data": {
      "text/plain": [
       "<matplotlib.axes._subplots.AxesSubplot at 0x264e025c7f0>"
      ]
     },
     "execution_count": 120,
     "metadata": {},
     "output_type": "execute_result"
    },
    {
     "data": {
      "image/png": "[encoded data removed]",
      "text/plain": [
       "<matplotlib.figure.Figure at 0x264e0242d30>"
      ]
     },
     "metadata": {},
     "output_type": "display_data"
    }
   ],
   "source": [
    "Agect2.plot.bar()"
   ]
  },
  {
   "cell_type": "code",
   "execution_count": 335,
   "metadata": {},
   "outputs": [
    {
     "data": {
      "text/plain": [
       "(0.066347230221234343,\n",
       " 0.99999999999999944,\n",
       " 15,\n",
       " array([[ 0.06411996,  0.06398942,  0.06423033,  0.06408794],\n",
       "        [ 0.18260773,  0.18223596,  0.18292204,  0.18251652],\n",
       "        [ 0.21577412,  0.21533483,  0.21614552,  0.21566635],\n",
       "        [ 0.27869751,  0.27813011,  0.27917722,  0.27855831],\n",
       "        [ 0.19316366,  0.19277039,  0.19349614,  0.19306717],\n",
       "        [ 0.05857081,  0.05845156,  0.05867162,  0.05854155]]))"
      ]
     },
     "execution_count": 335,
     "metadata": {},
     "output_type": "execute_result"
    }
   ],
   "source": [
    "stats.chi2_contingency(Agect2) # turns out you don't need to pass through an array. pd.crosstab \n",
    "# chisq "
   ]
  },
  {
   "cell_type": "code",
   "execution_count": 122,
   "metadata": {},
   "outputs": [
    {
     "data": {
      "text/plain": [
       "Index(['Date_time', 'condition', 'age', 'sex', 'Treat_time', 'ease',\n",
       "       'effective', 'satisfaction', 'comment', 'year', 'month', 'time_mark',\n",
       "       'drug', 'cat'],\n",
       "      dtype='object')"
      ]
     },
     "execution_count": 122,
     "metadata": {},
     "output_type": "execute_result"
    }
   ],
   "source": [
    "Drugs.columns"
   ]
  },
  {
   "cell_type": "code",
   "execution_count": 123,
   "metadata": {},
   "outputs": [
    {
     "data": {
      "text/html": [
       "<div>\n",
       "<style>\n",
       "    .dataframe thead tr:only-child th {\n",
       "        text-align: right;\n",
       "    }\n",
       "\n",
       "    .dataframe thead th {\n",
       "        text-align: left;\n",
       "    }\n",
       "\n",
       "    .dataframe tbody tr th {\n",
       "        vertical-align: top;\n",
       "    }\n",
       "</style>\n",
       "<table border=\"1\" class=\"dataframe\">\n",
       "  <thead>\n",
       "    <tr style=\"text-align: right;\">\n",
       "      <th>drug</th>\n",
       "      <th>Cymbalta</th>\n",
       "      <th>Effexor</th>\n",
       "      <th>Pristiq</th>\n",
       "    </tr>\n",
       "    <tr>\n",
       "      <th>Treat_time</th>\n",
       "      <th></th>\n",
       "      <th></th>\n",
       "      <th></th>\n",
       "    </tr>\n",
       "  </thead>\n",
       "  <tbody>\n",
       "    <tr>\n",
       "      <th>less than 1 month</th>\n",
       "      <td>734</td>\n",
       "      <td>263</td>\n",
       "      <td>361</td>\n",
       "    </tr>\n",
       "    <tr>\n",
       "      <th>1 to 6 months</th>\n",
       "      <td>1068</td>\n",
       "      <td>491</td>\n",
       "      <td>426</td>\n",
       "    </tr>\n",
       "    <tr>\n",
       "      <th>6 months to less than 1 year</th>\n",
       "      <td>514</td>\n",
       "      <td>317</td>\n",
       "      <td>136</td>\n",
       "    </tr>\n",
       "    <tr>\n",
       "      <th>1 to less than 2 years</th>\n",
       "      <td>636</td>\n",
       "      <td>390</td>\n",
       "      <td>111</td>\n",
       "    </tr>\n",
       "    <tr>\n",
       "      <th>2 to less than 5 years</th>\n",
       "      <td>700</td>\n",
       "      <td>724</td>\n",
       "      <td>66</td>\n",
       "    </tr>\n",
       "    <tr>\n",
       "      <th>5 to less than 10 years</th>\n",
       "      <td>172</td>\n",
       "      <td>495</td>\n",
       "      <td>15</td>\n",
       "    </tr>\n",
       "    <tr>\n",
       "      <th>10 years or more</th>\n",
       "      <td>35</td>\n",
       "      <td>197</td>\n",
       "      <td>6</td>\n",
       "    </tr>\n",
       "  </tbody>\n",
       "</table>\n",
       "</div>"
      ],
      "text/plain": [
       "drug                          Cymbalta  Effexor  Pristiq\n",
       "Treat_time                                              \n",
       " less than 1 month                 734      263      361\n",
       " 1 to 6 months                    1068      491      426\n",
       "6 months to less than 1 year       514      317      136\n",
       "1 to less than 2 years             636      390      111\n",
       "2 to less than 5 years             700      724       66\n",
       "5 to less than 10 years            172      495       15\n",
       " 10 years or more                   35      197        6"
      ]
     },
     "execution_count": 123,
     "metadata": {},
     "output_type": "execute_result"
    }
   ],
   "source": [
    "TTtab = pd.crosstab(Drugs.Treat_time, Drugs.drug)\n",
    "TTtab"
   ]
  },
  {
   "cell_type": "code",
   "execution_count": 496,
   "metadata": {},
   "outputs": [
    {
     "data": {
      "text/plain": [
       "(1224.0525168589893,\n",
       " 1.144455524646436e-254,\n",
       " 12,\n",
       " array([[ 666.98765432,  497.25925926,  193.75308642],\n",
       "        [ 974.94145348,  726.8480336 ,  283.21051292],\n",
       "        [ 474.94628993,  354.0866743 ,  137.96703576],\n",
       "        [ 558.44253532,  416.33562428,  162.2218404 ],\n",
       "        [ 731.82003309,  545.59373807,  212.58622884],\n",
       "        [ 334.96729031,  249.72814051,   97.30456917],\n",
       "        [ 116.89474354,   87.14852997,   33.95672649]]))"
      ]
     },
     "execution_count": 496,
     "metadata": {},
     "output_type": "execute_result"
    }
   ],
   "source": [
    "stats.chi2_contingency(TTtab)"
   ]
  },
  {
   "cell_type": "markdown",
   "metadata": {},
   "source": [
    "Everything below here is generating figure pdf's for presentation"
   ]
  },
  {
   "cell_type": "code",
   "execution_count": 125,
   "metadata": {},
   "outputs": [
    {
     "data": {
      "text/plain": [
       "<matplotlib.axes._subplots.AxesSubplot at 0x264e010a4e0>"
      ]
     },
     "execution_count": 125,
     "metadata": {},
     "output_type": "execute_result"
    },
    {
     "data": {
      "image/png": "[encoded data removed]",
      "text/plain": [
       "<matplotlib.figure.Figure at 0x264e034af98>"
      ]
     },
     "metadata": {},
     "output_type": "display_data"
    }
   ],
   "source": [
    "TTtab2 = pd.crosstab(Drugs.Treat_time, Drugs.drug, normalize = 'columns')\n",
    "\n",
    "TTtab2.plot.bar()"
   ]
  },
  {
   "cell_type": "code",
   "execution_count": 126,
   "metadata": {
    "collapsed": true
   },
   "outputs": [],
   "source": [
    "TTtab2\n",
    "\n",
    "TTtab3 = TTtab2.reindex([' less than 1 month', ' 1 to 6 months', '6 months to less than 1 year', '1 to less than 2 years', '2 to less than 5 years', '5 to less than 10 years', ' 10 years or more '])\n",
    "TTtab3 = TTtab3[['Effexor', 'Pristiq']]"
   ]
  },
  {
   "cell_type": "code",
   "execution_count": 422,
   "metadata": {},
   "outputs": [
    {
     "data": {
      "text/plain": [
       "<matplotlib.axes._subplots.AxesSubplot at 0x264e5d365f8>"
      ]
     },
     "execution_count": 422,
     "metadata": {},
     "output_type": "execute_result"
    },
    {
     "data": {
      "image/png": "[encoded data removed]",
      "text/plain": [
       "<matplotlib.figure.Figure at 0x264e5c26198>"
      ]
     },
     "metadata": {},
     "output_type": "display_data"
    },
    {
     "data": {
      "image/png": "[encoded data removed]",
      "text/plain": [
       "<matplotlib.figure.Figure at 0x264e5c26320>"
      ]
     },
     "metadata": {},
     "output_type": "display_data"
    }
   ],
   "source": [
    "TTtab3.plot.bar()\n",
    "TTtab3.plot.line()\n"
   ]
  },
  {
   "cell_type": "code",
   "execution_count": 128,
   "metadata": {
    "collapsed": true
   },
   "outputs": [],
   "source": [
    "SatTab = pd.crosstab(Drugs.Treat_time, Drugs.satisfaction, normalize = 'columns')"
   ]
  },
  {
   "cell_type": "code",
   "execution_count": 129,
   "metadata": {},
   "outputs": [
    {
     "data": {
      "text/html": [
       "<div>\n",
       "<style>\n",
       "    .dataframe thead tr:only-child th {\n",
       "        text-align: right;\n",
       "    }\n",
       "\n",
       "    .dataframe thead th {\n",
       "        text-align: left;\n",
       "    }\n",
       "\n",
       "    .dataframe tbody tr th {\n",
       "        vertical-align: top;\n",
       "    }\n",
       "</style>\n",
       "<table border=\"1\" class=\"dataframe\">\n",
       "  <thead>\n",
       "    <tr style=\"text-align: right;\">\n",
       "      <th>satisfaction</th>\n",
       "      <th>1</th>\n",
       "      <th>2</th>\n",
       "      <th>3</th>\n",
       "      <th>4</th>\n",
       "      <th>5</th>\n",
       "    </tr>\n",
       "    <tr>\n",
       "      <th>Treat_time</th>\n",
       "      <th></th>\n",
       "      <th></th>\n",
       "      <th></th>\n",
       "      <th></th>\n",
       "      <th></th>\n",
       "    </tr>\n",
       "  </thead>\n",
       "  <tbody>\n",
       "    <tr>\n",
       "      <th>less than 1 month</th>\n",
       "      <td>0.295880</td>\n",
       "      <td>0.142657</td>\n",
       "      <td>0.154611</td>\n",
       "      <td>0.104000</td>\n",
       "      <td>0.102203</td>\n",
       "    </tr>\n",
       "    <tr>\n",
       "      <th>1 to 6 months</th>\n",
       "      <td>0.291303</td>\n",
       "      <td>0.288112</td>\n",
       "      <td>0.215190</td>\n",
       "      <td>0.229333</td>\n",
       "      <td>0.233005</td>\n",
       "    </tr>\n",
       "    <tr>\n",
       "      <th>6 months to less than 1 year</th>\n",
       "      <td>0.116521</td>\n",
       "      <td>0.149650</td>\n",
       "      <td>0.128391</td>\n",
       "      <td>0.132667</td>\n",
       "      <td>0.112049</td>\n",
       "    </tr>\n",
       "    <tr>\n",
       "      <th>1 to less than 2 years</th>\n",
       "      <td>0.119018</td>\n",
       "      <td>0.142657</td>\n",
       "      <td>0.163653</td>\n",
       "      <td>0.172000</td>\n",
       "      <td>0.145335</td>\n",
       "    </tr>\n",
       "    <tr>\n",
       "      <th>2 to less than 5 years</th>\n",
       "      <td>0.115689</td>\n",
       "      <td>0.169231</td>\n",
       "      <td>0.222423</td>\n",
       "      <td>0.220667</td>\n",
       "      <td>0.240975</td>\n",
       "    </tr>\n",
       "    <tr>\n",
       "      <th>5 to less than 10 years</th>\n",
       "      <td>0.049105</td>\n",
       "      <td>0.088112</td>\n",
       "      <td>0.092224</td>\n",
       "      <td>0.100000</td>\n",
       "      <td>0.116737</td>\n",
       "    </tr>\n",
       "    <tr>\n",
       "      <th>10 years or more</th>\n",
       "      <td>0.012484</td>\n",
       "      <td>0.019580</td>\n",
       "      <td>0.023508</td>\n",
       "      <td>0.041333</td>\n",
       "      <td>0.049695</td>\n",
       "    </tr>\n",
       "  </tbody>\n",
       "</table>\n",
       "</div>"
      ],
      "text/plain": [
       "satisfaction                         1         2         3         4         5\n",
       "Treat_time                                                                    \n",
       " less than 1 month            0.295880  0.142657  0.154611  0.104000  0.102203\n",
       " 1 to 6 months                0.291303  0.288112  0.215190  0.229333  0.233005\n",
       "6 months to less than 1 year  0.116521  0.149650  0.128391  0.132667  0.112049\n",
       "1 to less than 2 years        0.119018  0.142657  0.163653  0.172000  0.145335\n",
       "2 to less than 5 years        0.115689  0.169231  0.222423  0.220667  0.240975\n",
       "5 to less than 10 years       0.049105  0.088112  0.092224  0.100000  0.116737\n",
       " 10 years or more             0.012484  0.019580  0.023508  0.041333  0.049695"
      ]
     },
     "execution_count": 129,
     "metadata": {},
     "output_type": "execute_result"
    }
   ],
   "source": [
    "SatTab"
   ]
  },
  {
   "cell_type": "code",
   "execution_count": 130,
   "metadata": {},
   "outputs": [
    {
     "data": {
      "text/plain": [
       "<matplotlib.axes._subplots.AxesSubplot at 0x264e040b978>"
      ]
     },
     "execution_count": 130,
     "metadata": {},
     "output_type": "execute_result"
    },
    {
     "data": {
      "image/png": "[encoded data removed]",
      "text/plain": [
       "<matplotlib.figure.Figure at 0x264e0475588>"
      ]
     },
     "metadata": {},
     "output_type": "display_data"
    }
   ],
   "source": [
    "SatTab.plot.bar()"
   ]
  },
  {
   "cell_type": "code",
   "execution_count": 131,
   "metadata": {},
   "outputs": [
    {
     "data": {
      "text/plain": [
       "1169"
      ]
     },
     "execution_count": 131,
     "metadata": {},
     "output_type": "execute_result"
    }
   ],
   "source": [
    "len(Drugs.loc[Drugs.drug == 'Pristiq'])"
   ]
  },
  {
   "cell_type": "code",
   "execution_count": 279,
   "metadata": {},
   "outputs": [
    {
     "data": {
      "text/plain": [
       "<matplotlib.axes._subplots.AxesSubplot at 0x264e59450f0>"
      ]
     },
     "execution_count": 279,
     "metadata": {},
     "output_type": "execute_result"
    },
    {
     "data": {
      "image/png": "[encoded data removed]",
      "text/plain": [
       "<matplotlib.figure.Figure at 0x264e59871d0>"
      ]
     },
     "metadata": {},
     "output_type": "display_data"
    }
   ],
   "source": [
    "fig1 = plt.figure(1, figsize = [5, 5])\n",
    "Dgroup7['satisfaction'].plot.bar(yerr = np.std(cymbalta.satisfaction))\n",
    "\n",
    "\n",
    "\n",
    "\n"
   ]
  },
  {
   "cell_type": "code",
   "execution_count": 280,
   "metadata": {},
   "outputs": [
    {
     "data": {
      "text/plain": [
       "<matplotlib.axes._subplots.AxesSubplot at 0x264e5a0b358>"
      ]
     },
     "execution_count": 280,
     "metadata": {},
     "output_type": "execute_result"
    },
    {
     "data": {
      "text/plain": [
       "<matplotlib.figure.Figure at 0x264e59db630>"
      ]
     },
     "metadata": {},
     "output_type": "display_data"
    },
    {
     "data": {
      "image/png": "[encoded data removed]",
      "text/plain": [
       "<matplotlib.figure.Figure at 0x264e59fe400>"
      ]
     },
     "metadata": {},
     "output_type": "display_data"
    }
   ],
   "source": [
    "fig2 = plt.figure()\n",
    "Drates2.plot.bar()"
   ]
  },
  {
   "cell_type": "code",
   "execution_count": null,
   "metadata": {},
   "outputs": [],
   "source": [
    "\n"
   ]
  },
  {
   "cell_type": "code",
   "execution_count": 281,
   "metadata": {},
   "outputs": [
    {
     "data": {
      "text/plain": [
       "<matplotlib.figure.Figure at 0x264e59db630>"
      ]
     },
     "execution_count": 281,
     "metadata": {},
     "output_type": "execute_result"
    }
   ],
   "source": [
    "fig2"
   ]
  },
  {
   "cell_type": "code",
   "execution_count": 272,
   "metadata": {},
   "outputs": [],
   "source": [
    "fig1.savefig('fig1a.pdf')"
   ]
  },
  {
   "cell_type": "code",
   "execution_count": 282,
   "metadata": {},
   "outputs": [
    {
     "data": {
      "image/png": "[encoded data removed]",
      "text/plain": [
       "<matplotlib.figure.Figure at 0x264e59871d0>"
      ]
     },
     "execution_count": 282,
     "metadata": {},
     "output_type": "execute_result"
    }
   ],
   "source": [
    "fig1"
   ]
  },
  {
   "cell_type": "code",
   "execution_count": 285,
   "metadata": {},
   "outputs": [
    {
     "data": {
      "text/plain": [
       "matplotlib.figure.Figure"
      ]
     },
     "execution_count": 285,
     "metadata": {},
     "output_type": "execute_result"
    }
   ],
   "source": [
    "type(fig1)"
   ]
  },
  {
   "cell_type": "code",
   "execution_count": 334,
   "metadata": {},
   "outputs": [
    {
     "data": {
      "image/png": "[encoded data removed]",
      "text/plain": [
       "<matplotlib.figure.Figure at 0x264e816b550>"
      ]
     },
     "metadata": {},
     "output_type": "display_data"
    }
   ],
   "source": [
    "plt.figure(figsize = [10, 10])\n",
    "Dgroup7['satisfaction'].plot.bar(yerr = np.std(cymbalta.satisfaction))\n",
    "plt.ylabel('Average Satisfaction Rating',fontsize = 20)\n",
    "plt.xlabel('Drug', fontsize = 20)\n",
    "plt.xticks(fontsize = 14)\n",
    "plt.yticks(fontsize = 14)\n",
    "plt.savefig('fig1b.jpg', bbox_inches = 'tight')\n"
   ]
  },
  {
   "cell_type": "code",
   "execution_count": 320,
   "metadata": {},
   "outputs": [],
   "source": [
    "plt.close()"
   ]
  },
  {
   "cell_type": "code",
   "execution_count": 333,
   "metadata": {},
   "outputs": [
    {
     "data": {
      "text/plain": [
       "<matplotlib.figure.Figure at 0x264e80d5d30>"
      ]
     },
     "metadata": {},
     "output_type": "display_data"
    },
    {
     "data": {
      "image/png": "[encoded data removed]",
      "text/plain": [
       "<matplotlib.figure.Figure at 0x264e800c5c0>"
      ]
     },
     "metadata": {},
     "output_type": "display_data"
    }
   ],
   "source": [
    "plt.figure(figsize = (10,10))\n",
    "Drates2.plot.bar()\n",
    "plt.ylabel('Rating Freq. (normalized)',fontsize = 20)\n",
    "plt.xlabel('Rating', fontsize = 20)\n",
    "plt.xticks(fontsize = 14)\n",
    "plt.yticks(fontsize = 14)\n",
    "plt.savefig('fig2b.pdf', pad_inches=0.1, bbox_inches = 'tight')\n"
   ]
  },
  {
   "cell_type": "code",
   "execution_count": 325,
   "metadata": {
    "collapsed": true
   },
   "outputs": [],
   "source": [
    "plt.close()"
   ]
  },
  {
   "cell_type": "code",
   "execution_count": 378,
   "metadata": {},
   "outputs": [
    {
     "data": {
      "text/plain": [
       "<matplotlib.figure.Figure at 0x264e614ea58>"
      ]
     },
     "metadata": {},
     "output_type": "display_data"
    },
    {
     "data": {
      "image/png": "[encoded data removed]",
      "text/plain": [
       "<matplotlib.figure.Figure at 0x264e45c1f98>"
      ]
     },
     "metadata": {},
     "output_type": "display_data"
    }
   ],
   "source": [
    "plt.figure(figsize = (10,10))\n",
    "DsatG.plot.bar()\n",
    "plt.ylabel('Rating Freq. (normalized)',fontsize = 20)\n",
    "plt.xlabel('Poor vs Good Ratings', fontsize = 20)\n",
    "plt.xticks(fontsize = 14)\n",
    "plt.yticks(fontsize = 14)\n",
    "plt.legend(loc = \"lower right\")\n",
    "plt.savefig('fig3.pdf', pad_inches=0.1, bbox_inches = 'tight')\n",
    "\n",
    "\n"
   ]
  },
  {
   "cell_type": "code",
   "execution_count": 373,
   "metadata": {
    "collapsed": true
   },
   "outputs": [],
   "source": [
    "plt.close()"
   ]
  },
  {
   "cell_type": "code",
   "execution_count": 379,
   "metadata": {},
   "outputs": [
    {
     "data": {
      "text/plain": [
       "(0.011103752168932115,\n",
       " 0.99446350709788889,\n",
       " 2,\n",
       " array([[ 0.47364201,  0.39594448],\n",
       "        [ 0.46083758,  0.38524053],\n",
       "        [ 0.46500054,  0.38872059]]))"
      ]
     },
     "execution_count": 379,
     "metadata": {},
     "output_type": "execute_result"
    }
   ],
   "source": [
    "stats.chi2_contingency(DsatG)"
   ]
  },
  {
   "cell_type": "code",
   "execution_count": 380,
   "metadata": {},
   "outputs": [
    {
     "data": {
      "text/html": [
       "<div>\n",
       "<style>\n",
       "    .dataframe thead tr:only-child th {\n",
       "        text-align: right;\n",
       "    }\n",
       "\n",
       "    .dataframe thead th {\n",
       "        text-align: left;\n",
       "    }\n",
       "\n",
       "    .dataframe tbody tr th {\n",
       "        vertical-align: top;\n",
       "    }\n",
       "</style>\n",
       "<table border=\"1\" class=\"dataframe\">\n",
       "  <thead>\n",
       "    <tr style=\"text-align: right;\">\n",
       "      <th>Sat</th>\n",
       "      <th>good (4-5)</th>\n",
       "      <th>poor (1-2)</th>\n",
       "    </tr>\n",
       "    <tr>\n",
       "      <th>drug</th>\n",
       "      <th></th>\n",
       "      <th></th>\n",
       "    </tr>\n",
       "  </thead>\n",
       "  <tbody>\n",
       "    <tr>\n",
       "      <th>Cymbalta</th>\n",
       "      <td>0.436506</td>\n",
       "      <td>0.433080</td>\n",
       "    </tr>\n",
       "    <tr>\n",
       "      <th>Effexor</th>\n",
       "      <td>0.491631</td>\n",
       "      <td>0.354447</td>\n",
       "    </tr>\n",
       "    <tr>\n",
       "      <th>Pristiq</th>\n",
       "      <td>0.471343</td>\n",
       "      <td>0.382378</td>\n",
       "    </tr>\n",
       "  </tbody>\n",
       "</table>\n",
       "</div>"
      ],
      "text/plain": [
       "Sat       good (4-5)  poor (1-2)\n",
       "drug                            \n",
       "Cymbalta    0.436506    0.433080\n",
       "Effexor     0.491631    0.354447\n",
       "Pristiq     0.471343    0.382378"
      ]
     },
     "execution_count": 380,
     "metadata": {},
     "output_type": "execute_result"
    }
   ],
   "source": [
    "DsatG"
   ]
  },
  {
   "cell_type": "code",
   "execution_count": 421,
   "metadata": {},
   "outputs": [
    {
     "ename": "NameError",
     "evalue": "name 'stacked' is not defined",
     "output_type": "error",
     "traceback": [
      "\u001b[1;31m---------------------------------------------------------------------------\u001b[0m",
      "\u001b[1;31mNameError\u001b[0m                                 Traceback (most recent call last)",
      "\u001b[1;32m<ipython-input-421-6d8376882ef2>\u001b[0m in \u001b[0;36m<module>\u001b[1;34m()\u001b[0m\n\u001b[0;32m      1\u001b[0m \u001b[0mplt\u001b[0m\u001b[1;33m.\u001b[0m\u001b[0mfigure\u001b[0m\u001b[1;33m(\u001b[0m\u001b[0mfigsize\u001b[0m \u001b[1;33m=\u001b[0m \u001b[1;33m(\u001b[0m\u001b[1;36m10\u001b[0m\u001b[1;33m,\u001b[0m\u001b[1;36m10\u001b[0m\u001b[1;33m)\u001b[0m\u001b[1;33m)\u001b[0m\u001b[1;33m\u001b[0m\u001b[0m\n\u001b[1;32m----> 2\u001b[1;33m \u001b[0mCondTab\u001b[0m\u001b[1;33m.\u001b[0m\u001b[0mplot\u001b[0m\u001b[1;33m.\u001b[0m\u001b[0mbar\u001b[0m\u001b[1;33m(\u001b[0m\u001b[0mstacked\u001b[0m\u001b[1;33m)\u001b[0m\u001b[1;33m\u001b[0m\u001b[0m\n\u001b[0m\u001b[0;32m      3\u001b[0m \u001b[0mplt\u001b[0m\u001b[1;33m.\u001b[0m\u001b[0mylabel\u001b[0m\u001b[1;33m(\u001b[0m\u001b[1;34m'Rating Freq. (normalized)'\u001b[0m\u001b[1;33m,\u001b[0m\u001b[0mfontsize\u001b[0m \u001b[1;33m=\u001b[0m \u001b[1;36m20\u001b[0m\u001b[1;33m)\u001b[0m\u001b[1;33m\u001b[0m\u001b[0m\n\u001b[0;32m      4\u001b[0m \u001b[0mplt\u001b[0m\u001b[1;33m.\u001b[0m\u001b[0mxlabel\u001b[0m\u001b[1;33m(\u001b[0m\u001b[1;34m'Condition: Pain vs Mood'\u001b[0m\u001b[1;33m,\u001b[0m \u001b[0mfontsize\u001b[0m \u001b[1;33m=\u001b[0m \u001b[1;36m20\u001b[0m\u001b[1;33m)\u001b[0m\u001b[1;33m\u001b[0m\u001b[0m\n\u001b[0;32m      5\u001b[0m \u001b[0mplt\u001b[0m\u001b[1;33m.\u001b[0m\u001b[0mxticks\u001b[0m\u001b[1;33m(\u001b[0m\u001b[0mfontsize\u001b[0m \u001b[1;33m=\u001b[0m \u001b[1;36m14\u001b[0m\u001b[1;33m)\u001b[0m\u001b[1;33m\u001b[0m\u001b[0m\n",
      "\u001b[1;31mNameError\u001b[0m: name 'stacked' is not defined"
     ]
    },
    {
     "data": {
      "text/plain": [
       "<matplotlib.figure.Figure at 0x264e5c3f390>"
      ]
     },
     "metadata": {},
     "output_type": "display_data"
    }
   ],
   "source": [
    "plt.figure(figsize = (10,10))\n",
    "CondTab.plot.bar()\n",
    "plt.ylabel('Rating Freq. (normalized)',fontsize = 20)\n",
    "plt.xlabel('Condition: Pain vs Mood', fontsize = 20)\n",
    "plt.xticks(fontsize = 14)\n",
    "plt.yticks(fontsize = 14)\n",
    "plt.legend(loc = \"upper left\")\n",
    "plt.savefig('fig4.pdf', pad_inches=0.1, bbox_inches = 'tight')\n"
   ]
  },
  {
   "cell_type": "code",
   "execution_count": 399,
   "metadata": {},
   "outputs": [
    {
     "data": {
      "text/plain": [
       "(5.4313861580776699,\n",
       " 0.24582684919395639,\n",
       " 4,\n",
       " array([[ 808.72699241,  310.27300759],\n",
       "        [ 294.87096774,  113.12903226],\n",
       "        [ 462.5426945 ,  177.4573055 ],\n",
       "        [ 640.33254269,  245.66745731],\n",
       "        [ 840.52680266,  322.47319734]]))"
      ]
     },
     "execution_count": 399,
     "metadata": {},
     "output_type": "execute_result"
    }
   ],
   "source": [
    "stats.chi2_contingency(DRates[['Effexor', 'Pristiq']])"
   ]
  },
  {
   "cell_type": "code",
   "execution_count": 400,
   "metadata": {},
   "outputs": [
    {
     "data": {
      "text/plain": [
       "<matplotlib.figure.Figure at 0x264e80d5cf8>"
      ]
     },
     "metadata": {},
     "output_type": "display_data"
    },
    {
     "data": {
      "image/png": "[encoded data removed]",
      "text/plain": [
       "<matplotlib.figure.Figure at 0x264e63b0710>"
      ]
     },
     "metadata": {},
     "output_type": "display_data"
    }
   ],
   "source": [
    "plt.figure(figsize = (10,10))\n",
    "Agect2.plot.bar()\n",
    "plt.ylabel('Rating Freq. (normalized)',fontsize = 20)\n",
    "plt.xlabel('Age Group', fontsize = 20)\n",
    "plt.xticks(fontsize = 14)\n",
    "plt.yticks(fontsize = 14)\n",
    "plt.legend(loc = \"upper left\")\n",
    "plt.savefig('fig5.pdf', pad_inches=0.1, bbox_inches = 'tight')"
   ]
  },
  {
   "cell_type": "code",
   "execution_count": 419,
   "metadata": {},
   "outputs": [
    {
     "ename": "NameError",
     "evalue": "name 'AgeCt' is not defined",
     "output_type": "error",
     "traceback": [
      "\u001b[1;31m---------------------------------------------------------------------------\u001b[0m",
      "\u001b[1;31mNameError\u001b[0m                                 Traceback (most recent call last)",
      "\u001b[1;32m<ipython-input-419-082af6307a46>\u001b[0m in \u001b[0;36m<module>\u001b[1;34m()\u001b[0m\n\u001b[0;32m      3\u001b[0m \u001b[0mAgeCT\u001b[0m\u001b[1;33m\u001b[0m\u001b[0m\n\u001b[0;32m      4\u001b[0m \u001b[1;33m\u001b[0m\u001b[0m\n\u001b[1;32m----> 5\u001b[1;33m \u001b[0mstats\u001b[0m\u001b[1;33m.\u001b[0m\u001b[0mchi2_contingency\u001b[0m\u001b[1;33m(\u001b[0m\u001b[0mAgeCt\u001b[0m\u001b[1;33m)\u001b[0m\u001b[1;33m\u001b[0m\u001b[0m\n\u001b[0m",
      "\u001b[1;31mNameError\u001b[0m: name 'AgeCt' is not defined"
     ]
    }
   ],
   "source": [
    "AgeCT = pd.crosstab(Drugs.age, Drugs.drug)\n",
    "AgeCT = AgeCT.iloc[range(1,len(AgeCT))]\n",
    "AgeCT\n",
    "\n"
   ]
  },
  {
   "cell_type": "code",
   "execution_count": 420,
   "metadata": {},
   "outputs": [
    {
     "data": {
      "text/plain": [
       "(162.93699384313112,\n",
       " 8.0169958563756546e-30,\n",
       " 10,\n",
       " array([[  244.99547979,   183.06857807,    71.93594214],\n",
       "        [  671.77760558,   501.97404107,   197.24835335],\n",
       "        [  804.56515562,   601.19721038,   236.23763399],\n",
       "        [ 1063.77037324,   794.88376598,   312.34586078],\n",
       "        [  758.01601446,   566.41418055,   222.56980499],\n",
       "        [  250.8753713 ,   187.46222394,    73.66240475]]))"
      ]
     },
     "execution_count": 420,
     "metadata": {},
     "output_type": "execute_result"
    }
   ],
   "source": [
    "stats.chi2_contingency(AgeCT)"
   ]
  },
  {
   "cell_type": "code",
   "execution_count": 430,
   "metadata": {},
   "outputs": [
    {
     "data": {
      "text/plain": [
       "<matplotlib.figure.Figure at 0x264e6775ac8>"
      ]
     },
     "metadata": {},
     "output_type": "display_data"
    },
    {
     "data": {
      "image/png": "[encoded data removed]",
      "text/plain": [
       "<matplotlib.figure.Figure at 0x264e67c5d30>"
      ]
     },
     "metadata": {},
     "output_type": "display_data"
    }
   ],
   "source": [
    "plt.figure(figsize = (10,10))\n",
    "TTtab3.plot.bar(color = ['r', 'g'])\n",
    "plt.ylabel('Rating Freq. (normalized)',fontsize = 20)\n",
    "plt.xlabel('Treatment Time', fontsize = 20)\n",
    "plt.xticks(fontsize = 14)\n",
    "plt.yticks(fontsize = 14)\n",
    "plt.legend(loc = \"upper right\")\n",
    "plt.savefig('fig6.pdf', pad_inches=0.1, bbox_inches = 'tight')\n",
    "\n",
    "\n"
   ]
  },
  {
   "cell_type": "code",
   "execution_count": 501,
   "metadata": {},
   "outputs": [
    {
     "data": {
      "text/html": [
       "<div>\n",
       "<style>\n",
       "    .dataframe thead tr:only-child th {\n",
       "        text-align: right;\n",
       "    }\n",
       "\n",
       "    .dataframe thead th {\n",
       "        text-align: left;\n",
       "    }\n",
       "\n",
       "    .dataframe tbody tr th {\n",
       "        vertical-align: top;\n",
       "    }\n",
       "</style>\n",
       "<table border=\"1\" class=\"dataframe\">\n",
       "  <thead>\n",
       "    <tr style=\"text-align: right;\">\n",
       "      <th>cat</th>\n",
       "      <th>Behavior</th>\n",
       "      <th>Other</th>\n",
       "      <th>Pain</th>\n",
       "    </tr>\n",
       "    <tr>\n",
       "      <th>Sat</th>\n",
       "      <th></th>\n",
       "      <th></th>\n",
       "      <th></th>\n",
       "    </tr>\n",
       "  </thead>\n",
       "  <tbody>\n",
       "    <tr>\n",
       "      <th>good (4-5)</th>\n",
       "      <td>0.479275</td>\n",
       "      <td>0.434415</td>\n",
       "      <td>0.398449</td>\n",
       "    </tr>\n",
       "    <tr>\n",
       "      <th>ok (3)</th>\n",
       "      <td>0.144430</td>\n",
       "      <td>0.133992</td>\n",
       "      <td>0.131171</td>\n",
       "    </tr>\n",
       "    <tr>\n",
       "      <th>poor (1-2)</th>\n",
       "      <td>0.376295</td>\n",
       "      <td>0.431594</td>\n",
       "      <td>0.470381</td>\n",
       "    </tr>\n",
       "  </tbody>\n",
       "</table>\n",
       "</div>"
      ],
      "text/plain": [
       "cat         Behavior     Other      Pain\n",
       "Sat                                     \n",
       "good (4-5)  0.479275  0.434415  0.398449\n",
       "ok (3)      0.144430  0.133992  0.131171\n",
       "poor (1-2)  0.376295  0.431594  0.470381"
      ]
     },
     "execution_count": 501,
     "metadata": {},
     "output_type": "execute_result"
    }
   ],
   "source": [
    "Cond = pd.crosstab(Drugs.Sat, Drugs.cat, normalize = \"columns\")\n",
    "#Cond = Cond.iloc[:,[0,2]]\n",
    "#Cond = Cond.loc[['Behavior', 'Pain']]\n",
    "Cond"
   ]
  },
  {
   "cell_type": "code",
   "execution_count": 452,
   "metadata": {},
   "outputs": [],
   "source": [
    "Cond2 = pd.crosstab(Drugs.Sat, Drugs.cat)\n",
    "Cond2\n",
    "Cond2 = Cond2.iloc[[0,2]]\n",
    "Cond2 = Cond2[['Behavior', 'Pain']]"
   ]
  },
  {
   "cell_type": "code",
   "execution_count": 447,
   "metadata": {},
   "outputs": [
    {
     "data": {
      "text/plain": [
       "<matplotlib.axes._subplots.AxesSubplot at 0x264e63d24a8>"
      ]
     },
     "execution_count": 447,
     "metadata": {},
     "output_type": "execute_result"
    },
    {
     "data": {
      "image/png": "[encoded data removed]",
      "text/plain": [
       "<matplotlib.figure.Figure at 0x264e63f64a8>"
      ]
     },
     "metadata": {},
     "output_type": "display_data"
    }
   ],
   "source": [
    "Cond.plot.bar()"
   ]
  },
  {
   "cell_type": "code",
   "execution_count": 454,
   "metadata": {},
   "outputs": [
    {
     "data": {
      "text/plain": [
       "(41.104223827321277,\n",
       " 1.4432410602241567e-10,\n",
       " 1,\n",
       " array([[ 2858.5174954,   666.4825046],\n",
       "        [ 2425.4825046,   565.5174954]]))"
      ]
     },
     "execution_count": 454,
     "metadata": {},
     "output_type": "execute_result"
    }
   ],
   "source": [
    "stats.chi2_contingency(Cond2)"
   ]
  },
  {
   "cell_type": "code",
   "execution_count": 464,
   "metadata": {},
   "outputs": [
    {
     "data": {
      "text/plain": [
       "<matplotlib.figure.Figure at 0x264e5be3828>"
      ]
     },
     "metadata": {},
     "output_type": "display_data"
    },
    {
     "data": {
      "image/png": "[encoded data removed]",
      "text/plain": [
       "<matplotlib.figure.Figure at 0x264e6785860>"
      ]
     },
     "metadata": {},
     "output_type": "display_data"
    }
   ],
   "source": [
    "plt.figure(figsize = (10,10))\n",
    "Cond.plot.bar(color = ['r', 'g'])\n",
    "plt.ylabel('Rating Freq. (normalized)',fontsize = 20)\n",
    "plt.xlabel('Condition treated', fontsize = 20)\n",
    "plt.xticks(fontsize = 14)\n",
    "plt.yticks(fontsize = 14)\n",
    "plt.legend()\n",
    "plt.savefig('fig7.pdf', pad_inches=0.1, bbox_inches = 'tight')"
   ]
  },
  {
   "cell_type": "code",
   "execution_count": 468,
   "metadata": {},
   "outputs": [],
   "source": [
    "Agect3 = Agect2[['Effexor', 'Pristiq']]"
   ]
  },
  {
   "cell_type": "code",
   "execution_count": 484,
   "metadata": {},
   "outputs": [
    {
     "data": {
      "text/plain": [
       "<matplotlib.figure.Figure at 0x264e4374e10>"
      ]
     },
     "metadata": {},
     "output_type": "display_data"
    },
    {
     "data": {
      "image/png": "[encoded data removed]",
      "text/plain": [
       "<matplotlib.figure.Figure at 0x264e8041240>"
      ]
     },
     "metadata": {},
     "output_type": "display_data"
    }
   ],
   "source": [
    "plt.figure(figsize = (10,10))\n",
    "Agect3.plot.bar(color = ['g', 'b'])\n",
    "plt.ylabel('Rating Freq. (normalized)',fontsize = 20)\n",
    "plt.xlabel('Age Group', fontsize = 20)\n",
    "plt.xticks(fontsize = 14)\n",
    "plt.yticks(fontsize = 14)\n",
    "plt.legend()\n",
    "plt.savefig('fig8.pdf', pad_inches=0.1, bbox_inches = 'tight')\n"
   ]
  },
  {
   "cell_type": "code",
   "execution_count": 473,
   "metadata": {},
   "outputs": [],
   "source": [
    "AgeCT2 = AgeCT[['Pristiq', 'Effexor']]"
   ]
  },
  {
   "cell_type": "code",
   "execution_count": 475,
   "metadata": {},
   "outputs": [
    {
     "data": {
      "text/plain": [
       "(23.35771945363846,\n",
       " 0.00028834213579550133,\n",
       " 5,\n",
       " array([[  84.06482654,  213.93517346],\n",
       "        [ 236.11496581,  600.88503419],\n",
       "        [ 245.98835148,  626.01164852],\n",
       "        [ 299.30463408,  761.69536592],\n",
       "        [ 194.92884274,  496.07115726],\n",
       "        [  53.59837934,  136.40162066]]))"
      ]
     },
     "execution_count": 475,
     "metadata": {},
     "output_type": "execute_result"
    }
   ],
   "source": [
    "stats.chi2_contingency(AgeCT2)"
   ]
  },
  {
   "cell_type": "code",
   "execution_count": 489,
   "metadata": {},
   "outputs": [],
   "source": [
    "GenderCT = pd.crosstab(Drugs.sex, Drugs.drug)\n",
    "GenderCT = GenderCT[['Effexor', 'Pristiq']]"
   ]
  },
  {
   "cell_type": "code",
   "execution_count": 490,
   "metadata": {},
   "outputs": [
    {
     "data": {
      "text/plain": [
       "(1.7731145230290217,\n",
       " 0.18299710151058413,\n",
       " 1,\n",
       " array([[ 2397.60040262,   930.39959738],\n",
       "        [  465.39959738,   180.60040262]]))"
      ]
     },
     "execution_count": 490,
     "metadata": {},
     "output_type": "execute_result"
    }
   ],
   "source": [
    "stats.chi2_contingency(GenderCT)"
   ]
  },
  {
   "cell_type": "code",
   "execution_count": 491,
   "metadata": {},
   "outputs": [
    {
     "data": {
      "text/html": [
       "<div>\n",
       "<style>\n",
       "    .dataframe thead tr:only-child th {\n",
       "        text-align: right;\n",
       "    }\n",
       "\n",
       "    .dataframe thead th {\n",
       "        text-align: left;\n",
       "    }\n",
       "\n",
       "    .dataframe tbody tr th {\n",
       "        vertical-align: top;\n",
       "    }\n",
       "</style>\n",
       "<table border=\"1\" class=\"dataframe\">\n",
       "  <thead>\n",
       "    <tr style=\"text-align: right;\">\n",
       "      <th>drug</th>\n",
       "      <th>Cymbalta</th>\n",
       "      <th>Effexor</th>\n",
       "      <th>Pristiq</th>\n",
       "    </tr>\n",
       "    <tr>\n",
       "      <th>sex</th>\n",
       "      <th></th>\n",
       "      <th></th>\n",
       "      <th></th>\n",
       "    </tr>\n",
       "  </thead>\n",
       "  <tbody>\n",
       "    <tr>\n",
       "      <th>Female</th>\n",
       "      <td>0.822597</td>\n",
       "      <td>0.842473</td>\n",
       "      <td>0.824482</td>\n",
       "    </tr>\n",
       "    <tr>\n",
       "      <th>Male</th>\n",
       "      <td>0.177403</td>\n",
       "      <td>0.157527</td>\n",
       "      <td>0.175518</td>\n",
       "    </tr>\n",
       "  </tbody>\n",
       "</table>\n",
       "</div>"
      ],
      "text/plain": [
       "drug    Cymbalta   Effexor   Pristiq\n",
       "sex                                 \n",
       "Female  0.822597  0.842473  0.824482\n",
       "Male    0.177403  0.157527  0.175518"
      ]
     },
     "execution_count": 491,
     "metadata": {},
     "output_type": "execute_result"
    }
   ],
   "source": [
    "GenderCT2 = pd.crosstab(Drugs.sex, Drugs.drug, normalize = 'columns')\n",
    "GenderCT2"
   ]
  },
  {
   "cell_type": "code",
   "execution_count": 502,
   "metadata": {},
   "outputs": [
    {
     "data": {
      "text/plain": [
       "<matplotlib.figure.Figure at 0x264e82c6a90>"
      ]
     },
     "metadata": {},
     "output_type": "display_data"
    },
    {
     "data": {
      "image/png": "[encoded data removed]",
      "text/plain": [
       "<matplotlib.figure.Figure at 0x264e81a1898>"
      ]
     },
     "metadata": {},
     "output_type": "display_data"
    }
   ],
   "source": [
    "plt.figure(figsize = (10,10))\n",
    "TTtab3.plot.bar(color = ['g', 'b'])\n",
    "plt.ylabel('Rating Freq. (normalized)',fontsize = 20)\n",
    "plt.xlabel('Treatment time', fontsize = 20)\n",
    "plt.xticks(fontsize = 14)\n",
    "plt.yticks(fontsize = 14)\n",
    "plt.legend()\n",
    "plt.savefig('fig9.pdf', pad_inches=0.1, bbox_inches = 'tight')\n",
    "\n"
   ]
  },
  {
   "cell_type": "code",
   "execution_count": null,
   "metadata": {
    "collapsed": true
   },
   "outputs": [],
   "source": []
  }
 ],
 "metadata": {
  "kernelspec": {
   "display_name": "Python 3",
   "language": "python",
   "name": "python3"
  },
  "language_info": {
   "codemirror_mode": {
    "name": "ipython",
    "version": 3
   },
   "file_extension": ".py",
   "mimetype": "text/x-python",
   "name": "python",
   "nbconvert_exporter": "python",
   "pygments_lexer": "ipython3",
   "version": "3.6.3"
  }
 },
 "nbformat": 4,
 "nbformat_minor": 2
}
